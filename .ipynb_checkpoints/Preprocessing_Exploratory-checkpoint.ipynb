{
 "cells": [
  {
   "cell_type": "markdown",
   "id": "73a184d8",
   "metadata": {},
   "source": [
    "# Data Visualize Part 2: Preprocessing"
   ]
  },
  {
   "cell_type": "markdown",
   "id": "c0f128f9",
   "metadata": {},
   "source": [
    "---"
   ]
  },
  {
   "cell_type": "markdown",
   "id": "7a409b6c",
   "metadata": {},
   "source": [
    "## Import các thư viện cần thiết"
   ]
  },
  {
   "cell_type": "code",
   "execution_count": 3,
   "id": "231de787",
   "metadata": {
    "ExecuteTime": {
     "end_time": "2022-04-15T03:49:21.923123Z",
     "start_time": "2022-04-15T03:49:20.879943Z"
    }
   },
   "outputs": [],
   "source": [
    "import pandas as pd\n",
    "import matplotlib.pyplot as plt\n",
    "import numpy as np\n",
    "import statsmodels.api as sm\n",
    "import seaborn as sns\n",
    "import scipy.stats as stats\n",
    "sns.set()\n",
    "plt.rcParams[\"figure.figsize\"] = (10,8)"
   ]
  },
  {
   "cell_type": "markdown",
   "id": "a58da6cd",
   "metadata": {
    "ExecuteTime": {
     "end_time": "2022-04-15T01:34:58.891003Z",
     "start_time": "2022-04-15T01:34:58.884021Z"
    }
   },
   "source": [
    "---"
   ]
  },
  {
   "cell_type": "markdown",
   "id": "0f3bce5b",
   "metadata": {},
   "source": [
    "## Thu thập dữ liệu"
   ]
  },
  {
   "cell_type": "markdown",
   "id": "fb79e3ca",
   "metadata": {},
   "source": [
    "Trong bài này, ta sẽ dùng dữ liệu đã được thu thập bằng Selenium là file \"data.csv\" đính kèm; đây là dữ liệu về thông số ca nhiễm Covid19 của Thế giới. Dữ liệu này được lấy từ Dữ liệu thống kê từng ngày ca nhiễm virus Covid-19 từ tổ chức Worldometer, và gốc của dữ liệu là [ở đây](https://www.worldometers.info/).\n"
   ]
  },
  {
   "cell_type": "markdown",
   "id": "8c863e6b",
   "metadata": {},
   "source": [
    "---"
   ]
  },
  {
   "cell_type": "markdown",
   "id": "8827ba29",
   "metadata": {},
   "source": [
    "## Khám phá dữ liệu"
   ]
  },
  {
   "cell_type": "markdown",
   "id": "433c8773",
   "metadata": {},
   "source": [
    "### Đọc dữ liệu từ file csv vào dataframe"
   ]
  },
  {
   "cell_type": "code",
   "execution_count": 4,
   "id": "513bd2cc",
   "metadata": {
    "ExecuteTime": {
     "end_time": "2022-04-15T03:49:22.002910Z",
     "start_time": "2022-04-15T03:49:21.927116Z"
    }
   },
   "outputs": [
    {
     "data": {
      "text/html": [
       "<div>\n",
       "<style scoped>\n",
       "    .dataframe tbody tr th:only-of-type {\n",
       "        vertical-align: middle;\n",
       "    }\n",
       "\n",
       "    .dataframe tbody tr th {\n",
       "        vertical-align: top;\n",
       "    }\n",
       "\n",
       "    .dataframe thead th {\n",
       "        text-align: right;\n",
       "    }\n",
       "</style>\n",
       "<table border=\"1\" class=\"dataframe\">\n",
       "  <thead>\n",
       "    <tr style=\"text-align: right;\">\n",
       "      <th></th>\n",
       "      <th>Unnamed: 0</th>\n",
       "      <th>Country</th>\n",
       "      <th>Total Cases</th>\n",
       "      <th>Total Death</th>\n",
       "      <th>Total Recovered</th>\n",
       "      <th>Active Cases</th>\n",
       "      <th>Serious Critical</th>\n",
       "      <th>Tot cases/1M pop</th>\n",
       "      <th>Deaths/1M pop</th>\n",
       "      <th>Total tests</th>\n",
       "      <th>Tests/ 1M pop</th>\n",
       "      <th>region</th>\n",
       "      <th>population</th>\n",
       "      <th>1 Case every X ppl</th>\n",
       "      <th>1 death every X ppl</th>\n",
       "      <th>1 Test every X ppl</th>\n",
       "    </tr>\n",
       "  </thead>\n",
       "  <tbody>\n",
       "    <tr>\n",
       "      <th>0</th>\n",
       "      <td>0</td>\n",
       "      <td>USA</td>\n",
       "      <td>82,192,880</td>\n",
       "      <td>1,014,114</td>\n",
       "      <td>80,052,061</td>\n",
       "      <td>1,126,705</td>\n",
       "      <td>1,559</td>\n",
       "      <td>245,753</td>\n",
       "      <td>3,032</td>\n",
       "      <td>993,285,213</td>\n",
       "      <td>2,969,875</td>\n",
       "      <td>North America</td>\n",
       "      <td>334,453,530</td>\n",
       "      <td>4</td>\n",
       "      <td>330</td>\n",
       "      <td>0.0</td>\n",
       "    </tr>\n",
       "    <tr>\n",
       "      <th>1</th>\n",
       "      <td>1</td>\n",
       "      <td>India</td>\n",
       "      <td>43,039,023</td>\n",
       "      <td>521,767</td>\n",
       "      <td>42,506,228</td>\n",
       "      <td>11,028</td>\n",
       "      <td>698</td>\n",
       "      <td>30,652</td>\n",
       "      <td>372</td>\n",
       "      <td>794,525,202</td>\n",
       "      <td>565,851</td>\n",
       "      <td>Asia</td>\n",
       "      <td>1,404,124,784</td>\n",
       "      <td>33</td>\n",
       "      <td>2,691</td>\n",
       "      <td>2.0</td>\n",
       "    </tr>\n",
       "    <tr>\n",
       "      <th>2</th>\n",
       "      <td>2</td>\n",
       "      <td>France</td>\n",
       "      <td>27,310,055</td>\n",
       "      <td>143,777</td>\n",
       "      <td>24,492,534</td>\n",
       "      <td>2,673,744</td>\n",
       "      <td>1,541</td>\n",
       "      <td>416,755</td>\n",
       "      <td>2,194</td>\n",
       "      <td>260,504,402</td>\n",
       "      <td>3,975,327</td>\n",
       "      <td>Europe</td>\n",
       "      <td>65,530,304</td>\n",
       "      <td>2</td>\n",
       "      <td>456</td>\n",
       "      <td>0.0</td>\n",
       "    </tr>\n",
       "    <tr>\n",
       "      <th>3</th>\n",
       "      <td>3</td>\n",
       "      <td>UK</td>\n",
       "      <td>21,715,116</td>\n",
       "      <td>171,045</td>\n",
       "      <td>19,973,929</td>\n",
       "      <td>1,570,142</td>\n",
       "      <td>385</td>\n",
       "      <td>316,916</td>\n",
       "      <td>2,496</td>\n",
       "      <td>511,698,520</td>\n",
       "      <td>7,467,868</td>\n",
       "      <td>Europe</td>\n",
       "      <td>68,520,023</td>\n",
       "      <td>3</td>\n",
       "      <td>401</td>\n",
       "      <td>0.0</td>\n",
       "    </tr>\n",
       "    <tr>\n",
       "      <th>4</th>\n",
       "      <td>4</td>\n",
       "      <td>S. Korea</td>\n",
       "      <td>15,979,061</td>\n",
       "      <td>20,352</td>\n",
       "      <td>NaN</td>\n",
       "      <td>NaN</td>\n",
       "      <td>962</td>\n",
       "      <td>311,194</td>\n",
       "      <td>396</td>\n",
       "      <td>15,804,065</td>\n",
       "      <td>307,786</td>\n",
       "      <td>Asia</td>\n",
       "      <td>51,347,631</td>\n",
       "      <td>3</td>\n",
       "      <td>2,523</td>\n",
       "      <td>3.0</td>\n",
       "    </tr>\n",
       "  </tbody>\n",
       "</table>\n",
       "</div>"
      ],
      "text/plain": [
       "   Unnamed: 0   Country Total Cases Total Death Total Recovered Active Cases  \\\n",
       "0           0       USA  82,192,880  1,014,114       80,052,061    1,126,705   \n",
       "1           1     India  43,039,023    521,767       42,506,228       11,028   \n",
       "2           2    France  27,310,055    143,777       24,492,534    2,673,744   \n",
       "3           3        UK  21,715,116    171,045       19,973,929    1,570,142   \n",
       "4           4  S. Korea  15,979,061     20,352              NaN          NaN   \n",
       "\n",
       "  Serious Critical Tot cases/1M pop Deaths/1M pop  Total tests Tests/ 1M pop  \\\n",
       "0            1,559          245,753         3,032  993,285,213     2,969,875   \n",
       "1              698           30,652           372  794,525,202       565,851   \n",
       "2            1,541          416,755         2,194  260,504,402     3,975,327   \n",
       "3              385          316,916         2,496  511,698,520     7,467,868   \n",
       "4              962          311,194           396   15,804,065       307,786   \n",
       "\n",
       "          region      population 1 Case every X ppl 1 death every X ppl  \\\n",
       "0  North America    334,453,530                   4                 330   \n",
       "1           Asia  1,404,124,784                  33               2,691   \n",
       "2         Europe     65,530,304                   2                 456   \n",
       "3         Europe     68,520,023                   3                 401   \n",
       "4           Asia     51,347,631                   3               2,523   \n",
       "\n",
       "   1 Test every X ppl  \n",
       "0                 0.0  \n",
       "1                 2.0  \n",
       "2                 0.0  \n",
       "3                 0.0  \n",
       "4                 3.0  "
      ]
     },
     "execution_count": 4,
     "metadata": {},
     "output_type": "execute_result"
    }
   ],
   "source": [
    "data_df = pd.read_csv('data.csv')\n",
    "data_df.head()"
   ]
  },
  {
   "cell_type": "markdown",
   "id": "bb1ff077",
   "metadata": {},
   "source": [
    "### Dữ liệu gồm có bao nhiêu dòng và bao nhiêu cột?"
   ]
  },
  {
   "cell_type": "code",
   "execution_count": 5,
   "id": "eda6ee72",
   "metadata": {
    "ExecuteTime": {
     "end_time": "2022-04-15T03:49:22.066739Z",
     "start_time": "2022-04-15T03:49:22.005901Z"
    }
   },
   "outputs": [
    {
     "name": "stdout",
     "output_type": "stream",
     "text": [
      "342 16\n"
     ]
    }
   ],
   "source": [
    "num_rows = data_df.shape[0]\n",
    "num_cols = data_df.shape[1]\n",
    "print(num_rows, num_cols)"
   ]
  },
  {
   "cell_type": "markdown",
   "id": "fe4c801a",
   "metadata": {},
   "source": [
    "### Mỗi dòng có ý nghĩa gì? Có vấn đề các dòng có ý nghĩa khác nhau không?"
   ]
  },
  {
   "cell_type": "markdown",
   "id": "3776f588",
   "metadata": {},
   "source": [
    "Theo mô tả dữ liệu của \"Covid19\" và theo quan sát sơ bộ về dữ liệu thì một dòng cho biết thông tin của thông số ca nhiễm. Có vẻ không có dòng nào bị \"lạc loài\"."
   ]
  },
  {
   "cell_type": "markdown",
   "id": "7122b71f",
   "metadata": {},
   "source": [
    "Ta thấy ở cột ``Unnamed: 0`` chỉ là index của file ``data.csv`` không có tác dụng trong việc Visualize nên ta sẽ bỏ cột này."
   ]
  },
  {
   "cell_type": "code",
   "execution_count": 6,
   "id": "5f958cca",
   "metadata": {
    "ExecuteTime": {
     "end_time": "2022-04-15T03:49:22.192403Z",
     "start_time": "2022-04-15T03:49:22.071726Z"
    }
   },
   "outputs": [
    {
     "data": {
      "text/html": [
       "<div>\n",
       "<style scoped>\n",
       "    .dataframe tbody tr th:only-of-type {\n",
       "        vertical-align: middle;\n",
       "    }\n",
       "\n",
       "    .dataframe tbody tr th {\n",
       "        vertical-align: top;\n",
       "    }\n",
       "\n",
       "    .dataframe thead th {\n",
       "        text-align: right;\n",
       "    }\n",
       "</style>\n",
       "<table border=\"1\" class=\"dataframe\">\n",
       "  <thead>\n",
       "    <tr style=\"text-align: right;\">\n",
       "      <th></th>\n",
       "      <th>Country</th>\n",
       "      <th>Total Cases</th>\n",
       "      <th>Total Death</th>\n",
       "      <th>Total Recovered</th>\n",
       "      <th>Active Cases</th>\n",
       "      <th>Serious Critical</th>\n",
       "      <th>Tot cases/1M pop</th>\n",
       "      <th>Deaths/1M pop</th>\n",
       "      <th>Total tests</th>\n",
       "      <th>Tests/ 1M pop</th>\n",
       "      <th>region</th>\n",
       "      <th>population</th>\n",
       "      <th>1 Case every X ppl</th>\n",
       "      <th>1 death every X ppl</th>\n",
       "      <th>1 Test every X ppl</th>\n",
       "    </tr>\n",
       "  </thead>\n",
       "  <tbody>\n",
       "    <tr>\n",
       "      <th>0</th>\n",
       "      <td>USA</td>\n",
       "      <td>82,192,880</td>\n",
       "      <td>1,014,114</td>\n",
       "      <td>80,052,061</td>\n",
       "      <td>1,126,705</td>\n",
       "      <td>1,559</td>\n",
       "      <td>245,753</td>\n",
       "      <td>3,032</td>\n",
       "      <td>993,285,213</td>\n",
       "      <td>2,969,875</td>\n",
       "      <td>North America</td>\n",
       "      <td>334,453,530</td>\n",
       "      <td>4</td>\n",
       "      <td>330</td>\n",
       "      <td>0.0</td>\n",
       "    </tr>\n",
       "    <tr>\n",
       "      <th>1</th>\n",
       "      <td>India</td>\n",
       "      <td>43,039,023</td>\n",
       "      <td>521,767</td>\n",
       "      <td>42,506,228</td>\n",
       "      <td>11,028</td>\n",
       "      <td>698</td>\n",
       "      <td>30,652</td>\n",
       "      <td>372</td>\n",
       "      <td>794,525,202</td>\n",
       "      <td>565,851</td>\n",
       "      <td>Asia</td>\n",
       "      <td>1,404,124,784</td>\n",
       "      <td>33</td>\n",
       "      <td>2,691</td>\n",
       "      <td>2.0</td>\n",
       "    </tr>\n",
       "    <tr>\n",
       "      <th>2</th>\n",
       "      <td>France</td>\n",
       "      <td>27,310,055</td>\n",
       "      <td>143,777</td>\n",
       "      <td>24,492,534</td>\n",
       "      <td>2,673,744</td>\n",
       "      <td>1,541</td>\n",
       "      <td>416,755</td>\n",
       "      <td>2,194</td>\n",
       "      <td>260,504,402</td>\n",
       "      <td>3,975,327</td>\n",
       "      <td>Europe</td>\n",
       "      <td>65,530,304</td>\n",
       "      <td>2</td>\n",
       "      <td>456</td>\n",
       "      <td>0.0</td>\n",
       "    </tr>\n",
       "    <tr>\n",
       "      <th>3</th>\n",
       "      <td>UK</td>\n",
       "      <td>21,715,116</td>\n",
       "      <td>171,045</td>\n",
       "      <td>19,973,929</td>\n",
       "      <td>1,570,142</td>\n",
       "      <td>385</td>\n",
       "      <td>316,916</td>\n",
       "      <td>2,496</td>\n",
       "      <td>511,698,520</td>\n",
       "      <td>7,467,868</td>\n",
       "      <td>Europe</td>\n",
       "      <td>68,520,023</td>\n",
       "      <td>3</td>\n",
       "      <td>401</td>\n",
       "      <td>0.0</td>\n",
       "    </tr>\n",
       "    <tr>\n",
       "      <th>4</th>\n",
       "      <td>S. Korea</td>\n",
       "      <td>15,979,061</td>\n",
       "      <td>20,352</td>\n",
       "      <td>NaN</td>\n",
       "      <td>NaN</td>\n",
       "      <td>962</td>\n",
       "      <td>311,194</td>\n",
       "      <td>396</td>\n",
       "      <td>15,804,065</td>\n",
       "      <td>307,786</td>\n",
       "      <td>Asia</td>\n",
       "      <td>51,347,631</td>\n",
       "      <td>3</td>\n",
       "      <td>2,523</td>\n",
       "      <td>3.0</td>\n",
       "    </tr>\n",
       "    <tr>\n",
       "      <th>...</th>\n",
       "      <td>...</td>\n",
       "      <td>...</td>\n",
       "      <td>...</td>\n",
       "      <td>...</td>\n",
       "      <td>...</td>\n",
       "      <td>...</td>\n",
       "      <td>...</td>\n",
       "      <td>...</td>\n",
       "      <td>...</td>\n",
       "      <td>...</td>\n",
       "      <td>...</td>\n",
       "      <td>...</td>\n",
       "      <td>...</td>\n",
       "      <td>...</td>\n",
       "      <td>...</td>\n",
       "    </tr>\n",
       "    <tr>\n",
       "      <th>337</th>\n",
       "      <td>Falkland Islands</td>\n",
       "      <td>128</td>\n",
       "      <td></td>\n",
       "      <td>NaN</td>\n",
       "      <td>NaN</td>\n",
       "      <td>NaN</td>\n",
       "      <td>34,973</td>\n",
       "      <td>NaN</td>\n",
       "      <td>8,632</td>\n",
       "      <td>2,358,470</td>\n",
       "      <td>South America</td>\n",
       "      <td>3,660</td>\n",
       "      <td>29</td>\n",
       "      <td>NaN</td>\n",
       "      <td>0.0</td>\n",
       "    </tr>\n",
       "    <tr>\n",
       "      <th>338</th>\n",
       "      <td>Vatican City</td>\n",
       "      <td>29</td>\n",
       "      <td></td>\n",
       "      <td>29</td>\n",
       "      <td>0</td>\n",
       "      <td>NaN</td>\n",
       "      <td>36,025</td>\n",
       "      <td>NaN</td>\n",
       "      <td>NaN</td>\n",
       "      <td>NaN</td>\n",
       "      <td>Europe</td>\n",
       "      <td>805</td>\n",
       "      <td>28</td>\n",
       "      <td>NaN</td>\n",
       "      <td>NaN</td>\n",
       "    </tr>\n",
       "    <tr>\n",
       "      <th>339</th>\n",
       "      <td>MS Zaandam</td>\n",
       "      <td>9</td>\n",
       "      <td>2</td>\n",
       "      <td>7</td>\n",
       "      <td>0</td>\n",
       "      <td>NaN</td>\n",
       "      <td>NaN</td>\n",
       "      <td>NaN</td>\n",
       "      <td>NaN</td>\n",
       "      <td>NaN</td>\n",
       "      <td>NaN</td>\n",
       "      <td></td>\n",
       "      <td>NaN</td>\n",
       "      <td>NaN</td>\n",
       "      <td>NaN</td>\n",
       "    </tr>\n",
       "    <tr>\n",
       "      <th>340</th>\n",
       "      <td>Niue</td>\n",
       "      <td>7</td>\n",
       "      <td></td>\n",
       "      <td>7</td>\n",
       "      <td>0</td>\n",
       "      <td>NaN</td>\n",
       "      <td>4,253</td>\n",
       "      <td>NaN</td>\n",
       "      <td>NaN</td>\n",
       "      <td>NaN</td>\n",
       "      <td>Australia/Oceania</td>\n",
       "      <td>1,646</td>\n",
       "      <td>235</td>\n",
       "      <td>NaN</td>\n",
       "      <td>NaN</td>\n",
       "    </tr>\n",
       "    <tr>\n",
       "      <th>341</th>\n",
       "      <td>Saint Helena</td>\n",
       "      <td>2</td>\n",
       "      <td></td>\n",
       "      <td>2</td>\n",
       "      <td>0</td>\n",
       "      <td>NaN</td>\n",
       "      <td>327</td>\n",
       "      <td>NaN</td>\n",
       "      <td>NaN</td>\n",
       "      <td>NaN</td>\n",
       "      <td>Africa</td>\n",
       "      <td>6,109</td>\n",
       "      <td>3,055</td>\n",
       "      <td>NaN</td>\n",
       "      <td>NaN</td>\n",
       "    </tr>\n",
       "  </tbody>\n",
       "</table>\n",
       "<p>342 rows × 15 columns</p>\n",
       "</div>"
      ],
      "text/plain": [
       "              Country Total Cases Total Death Total Recovered Active Cases  \\\n",
       "0                 USA  82,192,880  1,014,114       80,052,061    1,126,705   \n",
       "1               India  43,039,023    521,767       42,506,228       11,028   \n",
       "2              France  27,310,055    143,777       24,492,534    2,673,744   \n",
       "3                  UK  21,715,116    171,045       19,973,929    1,570,142   \n",
       "4            S. Korea  15,979,061     20,352              NaN          NaN   \n",
       "..                ...         ...         ...             ...          ...   \n",
       "337  Falkland Islands         128                         NaN          NaN   \n",
       "338      Vatican City          29                          29            0   \n",
       "339        MS Zaandam           9          2                7            0   \n",
       "340              Niue           7                           7            0   \n",
       "341      Saint Helena           2                           2            0   \n",
       "\n",
       "    Serious Critical Tot cases/1M pop Deaths/1M pop  Total tests  \\\n",
       "0              1,559          245,753         3,032  993,285,213   \n",
       "1                698           30,652           372  794,525,202   \n",
       "2              1,541          416,755         2,194  260,504,402   \n",
       "3                385          316,916         2,496  511,698,520   \n",
       "4                962          311,194           396   15,804,065   \n",
       "..               ...              ...           ...          ...   \n",
       "337              NaN           34,973           NaN        8,632   \n",
       "338              NaN           36,025           NaN          NaN   \n",
       "339              NaN              NaN           NaN          NaN   \n",
       "340              NaN            4,253           NaN          NaN   \n",
       "341              NaN              327           NaN          NaN   \n",
       "\n",
       "    Tests/ 1M pop             region      population 1 Case every X ppl  \\\n",
       "0       2,969,875      North America    334,453,530                   4   \n",
       "1         565,851               Asia  1,404,124,784                  33   \n",
       "2       3,975,327             Europe     65,530,304                   2   \n",
       "3       7,467,868             Europe     68,520,023                   3   \n",
       "4         307,786               Asia     51,347,631                   3   \n",
       "..            ...                ...             ...                ...   \n",
       "337     2,358,470      South America          3,660                  29   \n",
       "338           NaN             Europe            805                  28   \n",
       "339           NaN                NaN                                NaN   \n",
       "340           NaN  Australia/Oceania          1,646                 235   \n",
       "341           NaN             Africa          6,109               3,055   \n",
       "\n",
       "    1 death every X ppl  1 Test every X ppl  \n",
       "0                   330                 0.0  \n",
       "1                 2,691                 2.0  \n",
       "2                   456                 0.0  \n",
       "3                   401                 0.0  \n",
       "4                 2,523                 3.0  \n",
       "..                  ...                 ...  \n",
       "337                 NaN                 0.0  \n",
       "338                 NaN                 NaN  \n",
       "339                 NaN                 NaN  \n",
       "340                 NaN                 NaN  \n",
       "341                 NaN                 NaN  \n",
       "\n",
       "[342 rows x 15 columns]"
      ]
     },
     "execution_count": 6,
     "metadata": {},
     "output_type": "execute_result"
    }
   ],
   "source": [
    "data_df = data_df.drop('Unnamed: 0', axis = 1)\n",
    "data_df.reset_index()\n",
    "data_df"
   ]
  },
  {
   "cell_type": "markdown",
   "id": "6d5c3616",
   "metadata": {},
   "source": [
    "### Dữ liệu có bị thiếu không?"
   ]
  },
  {
   "cell_type": "code",
   "execution_count": 7,
   "id": "cc8b24e4",
   "metadata": {
    "ExecuteTime": {
     "end_time": "2022-04-15T03:49:22.317909Z",
     "start_time": "2022-04-15T03:49:22.195395Z"
    }
   },
   "outputs": [
    {
     "data": {
      "text/plain": [
       "Country                  0\n",
       "Total Cases              0\n",
       "Total Death              0\n",
       "Total Recovered         21\n",
       "Active Cases            21\n",
       "Serious Critical       108\n",
       "Tot cases/1M pop         3\n",
       "Deaths/1M pop           18\n",
       "Total tests             24\n",
       "Tests/ 1M pop           24\n",
       "region                   3\n",
       "population               0\n",
       "1 Case every X ppl       3\n",
       "1 death every X ppl     18\n",
       "1 Test every X ppl      24\n",
       "dtype: int64"
      ]
     },
     "execution_count": 7,
     "metadata": {},
     "output_type": "execute_result"
    }
   ],
   "source": [
    "data_df.isnull().sum()"
   ]
  },
  {
   "cell_type": "markdown",
   "id": "6c11f28c",
   "metadata": {},
   "source": [
    "Như ta đã thấy dữ liệu bị thiếu đều nằm ở các cột có dạng **số**, do dữ liệu này ta chỉ mới đọc lên, **chưa xác định được kiểu dữ liệu của từng cột** nên ta sẽ xử lý các \"missing value\" này sau khi ta đã xác định rõ kiểu dữ liệu của từng cột."
   ]
  },
  {
   "cell_type": "markdown",
   "id": "e2368eaa",
   "metadata": {},
   "source": [
    "### Dữ liệu có các dòng bị lặp không?"
   ]
  },
  {
   "cell_type": "code",
   "execution_count": 39,
   "id": "287a0f19",
   "metadata": {
    "ExecuteTime": {
     "end_time": "2022-04-15T03:49:22.427934Z",
     "start_time": "2022-04-15T03:49:22.321114Z"
    }
   },
   "outputs": [
    {
     "data": {
      "text/plain": [
       "True"
      ]
     },
     "execution_count": 39,
     "metadata": {},
     "output_type": "execute_result"
    }
   ],
   "source": [
    "if (data_df.duplicated().any() == True):\n",
    "    have_duplicated_rows = True\n",
    "else:\n",
    "    have_duplicated_rows = False\n",
    "have_duplicated_rows"
   ]
  },
  {
   "cell_type": "markdown",
   "id": "97ea1be2",
   "metadata": {},
   "source": [
    "Ở kết quả trên là \"True\" tức là có các dòng bị lặp, ta không muốn dữ liệu của mình bị lệch quá nhiều dẫn đến Visualize không đúng, ta sẽ xoá các dòng dữ liệu bị lặp đó đi."
   ]
  },
  {
   "cell_type": "code",
   "execution_count": 9,
   "id": "a96def32",
   "metadata": {
    "ExecuteTime": {
     "end_time": "2022-04-15T03:49:22.567802Z",
     "start_time": "2022-04-15T03:49:22.430925Z"
    }
   },
   "outputs": [
    {
     "data": {
      "text/html": [
       "<div>\n",
       "<style scoped>\n",
       "    .dataframe tbody tr th:only-of-type {\n",
       "        vertical-align: middle;\n",
       "    }\n",
       "\n",
       "    .dataframe tbody tr th {\n",
       "        vertical-align: top;\n",
       "    }\n",
       "\n",
       "    .dataframe thead th {\n",
       "        text-align: right;\n",
       "    }\n",
       "</style>\n",
       "<table border=\"1\" class=\"dataframe\">\n",
       "  <thead>\n",
       "    <tr style=\"text-align: right;\">\n",
       "      <th></th>\n",
       "      <th>Country</th>\n",
       "      <th>Total Cases</th>\n",
       "      <th>Total Death</th>\n",
       "      <th>Total Recovered</th>\n",
       "      <th>Active Cases</th>\n",
       "      <th>Serious Critical</th>\n",
       "      <th>Tot cases/1M pop</th>\n",
       "      <th>Deaths/1M pop</th>\n",
       "      <th>Total tests</th>\n",
       "      <th>Tests/ 1M pop</th>\n",
       "      <th>region</th>\n",
       "      <th>population</th>\n",
       "      <th>1 Case every X ppl</th>\n",
       "      <th>1 death every X ppl</th>\n",
       "      <th>1 Test every X ppl</th>\n",
       "    </tr>\n",
       "  </thead>\n",
       "  <tbody>\n",
       "    <tr>\n",
       "      <th>0</th>\n",
       "      <td>USA</td>\n",
       "      <td>82,192,880</td>\n",
       "      <td>1,014,114</td>\n",
       "      <td>80,052,061</td>\n",
       "      <td>1,126,705</td>\n",
       "      <td>1,559</td>\n",
       "      <td>245,753</td>\n",
       "      <td>3,032</td>\n",
       "      <td>993,285,213</td>\n",
       "      <td>2,969,875</td>\n",
       "      <td>North America</td>\n",
       "      <td>334,453,530</td>\n",
       "      <td>4</td>\n",
       "      <td>330</td>\n",
       "      <td>0.0</td>\n",
       "    </tr>\n",
       "    <tr>\n",
       "      <th>1</th>\n",
       "      <td>India</td>\n",
       "      <td>43,039,023</td>\n",
       "      <td>521,767</td>\n",
       "      <td>42,506,228</td>\n",
       "      <td>11,028</td>\n",
       "      <td>698</td>\n",
       "      <td>30,652</td>\n",
       "      <td>372</td>\n",
       "      <td>794,525,202</td>\n",
       "      <td>565,851</td>\n",
       "      <td>Asia</td>\n",
       "      <td>1,404,124,784</td>\n",
       "      <td>33</td>\n",
       "      <td>2,691</td>\n",
       "      <td>2.0</td>\n",
       "    </tr>\n",
       "    <tr>\n",
       "      <th>2</th>\n",
       "      <td>France</td>\n",
       "      <td>27,310,055</td>\n",
       "      <td>143,777</td>\n",
       "      <td>24,492,534</td>\n",
       "      <td>2,673,744</td>\n",
       "      <td>1,541</td>\n",
       "      <td>416,755</td>\n",
       "      <td>2,194</td>\n",
       "      <td>260,504,402</td>\n",
       "      <td>3,975,327</td>\n",
       "      <td>Europe</td>\n",
       "      <td>65,530,304</td>\n",
       "      <td>2</td>\n",
       "      <td>456</td>\n",
       "      <td>0.0</td>\n",
       "    </tr>\n",
       "    <tr>\n",
       "      <th>3</th>\n",
       "      <td>UK</td>\n",
       "      <td>21,715,116</td>\n",
       "      <td>171,045</td>\n",
       "      <td>19,973,929</td>\n",
       "      <td>1,570,142</td>\n",
       "      <td>385</td>\n",
       "      <td>316,916</td>\n",
       "      <td>2,496</td>\n",
       "      <td>511,698,520</td>\n",
       "      <td>7,467,868</td>\n",
       "      <td>Europe</td>\n",
       "      <td>68,520,023</td>\n",
       "      <td>3</td>\n",
       "      <td>401</td>\n",
       "      <td>0.0</td>\n",
       "    </tr>\n",
       "    <tr>\n",
       "      <th>4</th>\n",
       "      <td>S. Korea</td>\n",
       "      <td>15,979,061</td>\n",
       "      <td>20,352</td>\n",
       "      <td>NaN</td>\n",
       "      <td>NaN</td>\n",
       "      <td>962</td>\n",
       "      <td>311,194</td>\n",
       "      <td>396</td>\n",
       "      <td>15,804,065</td>\n",
       "      <td>307,786</td>\n",
       "      <td>Asia</td>\n",
       "      <td>51,347,631</td>\n",
       "      <td>3</td>\n",
       "      <td>2,523</td>\n",
       "      <td>3.0</td>\n",
       "    </tr>\n",
       "    <tr>\n",
       "      <th>...</th>\n",
       "      <td>...</td>\n",
       "      <td>...</td>\n",
       "      <td>...</td>\n",
       "      <td>...</td>\n",
       "      <td>...</td>\n",
       "      <td>...</td>\n",
       "      <td>...</td>\n",
       "      <td>...</td>\n",
       "      <td>...</td>\n",
       "      <td>...</td>\n",
       "      <td>...</td>\n",
       "      <td>...</td>\n",
       "      <td>...</td>\n",
       "      <td>...</td>\n",
       "      <td>...</td>\n",
       "    </tr>\n",
       "    <tr>\n",
       "      <th>324</th>\n",
       "      <td>Sint Maarten</td>\n",
       "      <td>9,888</td>\n",
       "      <td>86</td>\n",
       "      <td>9,734</td>\n",
       "      <td>68</td>\n",
       "      <td>10</td>\n",
       "      <td>226,058</td>\n",
       "      <td>1,966</td>\n",
       "      <td>62,056</td>\n",
       "      <td>1,418,715</td>\n",
       "      <td>North America</td>\n",
       "      <td>43,741</td>\n",
       "      <td>4</td>\n",
       "      <td>509</td>\n",
       "      <td>1.0</td>\n",
       "    </tr>\n",
       "    <tr>\n",
       "      <th>325</th>\n",
       "      <td>Caribbean Netherlands</td>\n",
       "      <td>9,341</td>\n",
       "      <td>34</td>\n",
       "      <td>8,987</td>\n",
       "      <td>320</td>\n",
       "      <td>NaN</td>\n",
       "      <td>350,428</td>\n",
       "      <td>1,276</td>\n",
       "      <td>30,126</td>\n",
       "      <td>1,130,177</td>\n",
       "      <td>North America</td>\n",
       "      <td>26,656</td>\n",
       "      <td>3</td>\n",
       "      <td>784</td>\n",
       "      <td>1.0</td>\n",
       "    </tr>\n",
       "    <tr>\n",
       "      <th>326</th>\n",
       "      <td>Tonga</td>\n",
       "      <td>8,559</td>\n",
       "      <td>11</td>\n",
       "      <td>6,772</td>\n",
       "      <td>1,776</td>\n",
       "      <td>NaN</td>\n",
       "      <td>79,379</td>\n",
       "      <td>102</td>\n",
       "      <td>304,785</td>\n",
       "      <td>2,826,664</td>\n",
       "      <td>Australia/Oceania</td>\n",
       "      <td>107,825</td>\n",
       "      <td>13</td>\n",
       "      <td>9,802</td>\n",
       "      <td>0.0</td>\n",
       "    </tr>\n",
       "    <tr>\n",
       "      <th>331</th>\n",
       "      <td>Turks and Caicos</td>\n",
       "      <td>5,923</td>\n",
       "      <td>36</td>\n",
       "      <td>5,859</td>\n",
       "      <td>28</td>\n",
       "      <td>4</td>\n",
       "      <td>149,390</td>\n",
       "      <td>908</td>\n",
       "      <td>447,713</td>\n",
       "      <td>11,292,196</td>\n",
       "      <td>North America</td>\n",
       "      <td>39,648</td>\n",
       "      <td>7</td>\n",
       "      <td>1,101</td>\n",
       "      <td>0.0</td>\n",
       "    </tr>\n",
       "    <tr>\n",
       "      <th>334</th>\n",
       "      <td>Cook Islands</td>\n",
       "      <td>3,584</td>\n",
       "      <td></td>\n",
       "      <td>2,890</td>\n",
       "      <td>694</td>\n",
       "      <td>NaN</td>\n",
       "      <td>203,717</td>\n",
       "      <td>NaN</td>\n",
       "      <td>13,938</td>\n",
       "      <td>792,247</td>\n",
       "      <td>Australia/Oceania</td>\n",
       "      <td>17,593</td>\n",
       "      <td>5</td>\n",
       "      <td>NaN</td>\n",
       "      <td>1.0</td>\n",
       "    </tr>\n",
       "  </tbody>\n",
       "</table>\n",
       "<p>203 rows × 15 columns</p>\n",
       "</div>"
      ],
      "text/plain": [
       "                   Country Total Cases Total Death Total Recovered  \\\n",
       "0                      USA  82,192,880  1,014,114       80,052,061   \n",
       "1                    India  43,039,023    521,767       42,506,228   \n",
       "2                   France  27,310,055    143,777       24,492,534   \n",
       "3                       UK  21,715,116    171,045       19,973,929   \n",
       "4                 S. Korea  15,979,061     20,352              NaN   \n",
       "..                     ...         ...         ...             ...   \n",
       "324           Sint Maarten       9,888         86            9,734   \n",
       "325  Caribbean Netherlands       9,341         34            8,987   \n",
       "326                  Tonga       8,559         11            6,772   \n",
       "331       Turks and Caicos       5,923         36            5,859   \n",
       "334           Cook Islands       3,584                       2,890   \n",
       "\n",
       "    Active Cases Serious Critical Tot cases/1M pop Deaths/1M pop  Total tests  \\\n",
       "0      1,126,705            1,559          245,753         3,032  993,285,213   \n",
       "1         11,028              698           30,652           372  794,525,202   \n",
       "2      2,673,744            1,541          416,755         2,194  260,504,402   \n",
       "3      1,570,142              385          316,916         2,496  511,698,520   \n",
       "4            NaN              962          311,194           396   15,804,065   \n",
       "..           ...              ...              ...           ...          ...   \n",
       "324           68               10          226,058         1,966       62,056   \n",
       "325          320              NaN          350,428         1,276       30,126   \n",
       "326        1,776              NaN           79,379           102      304,785   \n",
       "331           28                4          149,390           908      447,713   \n",
       "334          694              NaN          203,717           NaN       13,938   \n",
       "\n",
       "    Tests/ 1M pop             region      population 1 Case every X ppl  \\\n",
       "0       2,969,875      North America    334,453,530                   4   \n",
       "1         565,851               Asia  1,404,124,784                  33   \n",
       "2       3,975,327             Europe     65,530,304                   2   \n",
       "3       7,467,868             Europe     68,520,023                   3   \n",
       "4         307,786               Asia     51,347,631                   3   \n",
       "..            ...                ...             ...                ...   \n",
       "324     1,418,715      North America         43,741                   4   \n",
       "325     1,130,177      North America         26,656                   3   \n",
       "326     2,826,664  Australia/Oceania        107,825                  13   \n",
       "331    11,292,196      North America         39,648                   7   \n",
       "334       792,247  Australia/Oceania         17,593                   5   \n",
       "\n",
       "    1 death every X ppl  1 Test every X ppl  \n",
       "0                   330                 0.0  \n",
       "1                 2,691                 2.0  \n",
       "2                   456                 0.0  \n",
       "3                   401                 0.0  \n",
       "4                 2,523                 3.0  \n",
       "..                  ...                 ...  \n",
       "324                 509                 1.0  \n",
       "325                 784                 1.0  \n",
       "326               9,802                 0.0  \n",
       "331               1,101                 0.0  \n",
       "334                 NaN                 1.0  \n",
       "\n",
       "[203 rows x 15 columns]"
      ]
     },
     "execution_count": 9,
     "metadata": {},
     "output_type": "execute_result"
    }
   ],
   "source": [
    "data_df.drop_duplicates()"
   ]
  },
  {
   "cell_type": "markdown",
   "id": "12865246",
   "metadata": {},
   "source": [
    "### Mỗi cột có ý nghĩa gì?"
   ]
  },
  {
   "cell_type": "markdown",
   "id": "b0f05f7c",
   "metadata": {
    "ExecuteTime": {
     "end_time": "2022-04-15T01:38:00.817259Z",
     "start_time": "2022-04-15T01:38:00.794415Z"
    }
   },
   "source": [
    "Dưới đây là phần mô tả của dataset \"Covid19 Cases\" về các cột trong file \"data.csv\":\n",
    "- **Country**: Tên quốc gia.\n",
    "- **Total Cases**: Tổng số ca nhiễm.\n",
    "- **Total Death**: Tổng số ca tử vong.\n",
    "- **Total Recovered**: Tổng số ca phục hồi.\n",
    "- **Active Cases**: Số ca dương tính.\n",
    "- **Serious Critical**: Ca diễn biến nặng\n",
    "- **Tot cases/1M pop**: Tổng số ca tính trên 1 triệu dân số\n",
    "- **Deaths/1M pop**: Tổng số ca chết trên 1 triệu dân số\n",
    "- **Total tests**: Tổng số lần Test\n",
    "- **Tests/ 1M pop**: Số lần test trên 1 triệu dân số\n",
    "- **region**: Khu vực\n",
    "- **population**: Dân số\n",
    "- **1 Case every X ppl**: 1 ca trong dân số\n",
    "- **1 death every X ppl**: 1 ca tử vong trong dân số\n",
    "- **1 Test every X ppl**: 1 test trong dân số\n"
   ]
  },
  {
   "cell_type": "markdown",
   "id": "f5d64a94",
   "metadata": {},
   "source": [
    "### Mỗi cột hiện đang có kiểu dữ liệu gì? Có cột nào có kiểu dữ liệu chưa phù hợp để có thể xử lý tiếp không? "
   ]
  },
  {
   "cell_type": "code",
   "execution_count": 10,
   "id": "3eb2c79c",
   "metadata": {
    "ExecuteTime": {
     "end_time": "2022-04-15T03:49:22.709961Z",
     "start_time": "2022-04-15T03:49:22.569798Z"
    }
   },
   "outputs": [
    {
     "data": {
      "text/plain": [
       "Country                 object\n",
       "Total Cases             object\n",
       "Total Death             object\n",
       "Total Recovered         object\n",
       "Active Cases            object\n",
       "Serious Critical        object\n",
       "Tot cases/1M pop        object\n",
       "Deaths/1M pop           object\n",
       "Total tests             object\n",
       "Tests/ 1M pop           object\n",
       "region                  object\n",
       "population              object\n",
       "1 Case every X ppl      object\n",
       "1 death every X ppl     object\n",
       "1 Test every X ppl     float64\n",
       "dtype: object"
      ]
     },
     "execution_count": 10,
     "metadata": {},
     "output_type": "execute_result"
    }
   ],
   "source": [
    "col_dtypes = data_df.dtypes\n",
    "col_dtypes"
   ]
  },
  {
   "cell_type": "code",
   "execution_count": 11,
   "id": "6599fb54",
   "metadata": {
    "ExecuteTime": {
     "end_time": "2022-04-15T03:49:22.912290Z",
     "start_time": "2022-04-15T03:49:22.712857Z"
    }
   },
   "outputs": [],
   "source": [
    "# XỬ lý\n",
    "def open_object_dtype(s):\n",
    "    dtypes = set()\n",
    "    \n",
    "    dtypes = set((s.apply(value_type)))\n",
    "    \n",
    "    return dtypes\n",
    "\n",
    "def value_type(value):\n",
    "    return (type(value))"
   ]
  },
  {
   "cell_type": "code",
   "execution_count": 12,
   "id": "206cfe01",
   "metadata": {
    "ExecuteTime": {
     "end_time": "2022-04-15T03:49:23.114305Z",
     "start_time": "2022-04-15T03:49:22.917277Z"
    }
   },
   "outputs": [
    {
     "name": "stdout",
     "output_type": "stream",
     "text": [
      "Country= {<class 'str'>}\n",
      "Total Death= {<class 'str'>}\n",
      "Total Recovered= {<class 'str'>, <class 'float'>}\n",
      "Total Cases= {<class 'str'>}\n",
      "Active Cases= {<class 'str'>, <class 'float'>}\n",
      "Serious Critical= {<class 'str'>, <class 'float'>}\n",
      "Tot cases/1M pop= {<class 'str'>, <class 'float'>}\n",
      "Deaths/1M pop= {<class 'str'>, <class 'float'>}\n",
      "Total tests= {<class 'str'>, <class 'float'>}\n",
      "Tests/ 1M pop= {<class 'str'>, <class 'float'>}\n",
      "region= {<class 'str'>, <class 'float'>}\n",
      "population= {<class 'str'>}\n",
      "1 Case every X ppl= {<class 'str'>, <class 'float'>}\n",
      "1 death every X ppl= {<class 'str'>, <class 'float'>}\n"
     ]
    }
   ],
   "source": [
    "print('Country=', open_object_dtype(data_df['Country']))\n",
    "print('Total Death=', open_object_dtype(data_df['Total Death']))\n",
    "print('Total Recovered=', open_object_dtype(data_df['Total Recovered']))\n",
    "print('Total Cases=', open_object_dtype(data_df['Total Cases']))\n",
    "print('Active Cases=', open_object_dtype(data_df['Active Cases']))\n",
    "print('Serious Critical=', open_object_dtype(data_df['Serious Critical']))\n",
    "print('Tot cases/1M pop=', open_object_dtype(data_df['Tot cases/1M pop']))\n",
    "print('Deaths/1M pop=', open_object_dtype(data_df['Deaths/1M pop']))\n",
    "print('Total tests=', open_object_dtype(data_df['Total tests']))\n",
    "print('Tests/ 1M pop=', open_object_dtype(data_df['Tests/ 1M pop']))\n",
    "print('region=', open_object_dtype(data_df['region']))\n",
    "print('population=', open_object_dtype(data_df['population']))\n",
    "print('1 Case every X ppl=', open_object_dtype(data_df['1 Case every X ppl']))\n",
    "print('1 death every X ppl=', open_object_dtype(data_df['1 death every X ppl']))"
   ]
  },
  {
   "cell_type": "markdown",
   "id": "f8d3dc9a",
   "metadata": {},
   "source": [
    "Nhận xét:\n",
    "- Các cột dạng số nhưng lại có thêm kiểu ``str`` do có giá trị nan, ta sẽ chuyển kiểu dữ liệu sang ``float64``\n",
    "- Các cột dạng định danh ta cần chuyển chúng sang kiểu sữ liệu ``str``"
   ]
  },
  {
   "cell_type": "markdown",
   "id": "d8550b06",
   "metadata": {},
   "source": [
    "## Tiền xử lý"
   ]
  },
  {
   "cell_type": "markdown",
   "id": "0b81515b",
   "metadata": {},
   "source": [
    "### Xác định kiểu dữ liệu của từng cột:"
   ]
  },
  {
   "cell_type": "markdown",
   "id": "838d264b",
   "metadata": {},
   "source": [
    "1. Với 2 cột dạng Categorical là ``Country`` và ``region`` ta sẽ chuyển kiểu dữ liệu của 2 cột này sang dạng `str`\n",
    "2. Với cột region có 3 giá trị null nên ta chỉ cần drop 3 dòng này"
   ]
  },
  {
   "cell_type": "code",
   "execution_count": 13,
   "id": "adf3b5c2",
   "metadata": {
    "ExecuteTime": {
     "end_time": "2022-04-15T03:49:23.368747Z",
     "start_time": "2022-04-15T03:49:23.117047Z"
    }
   },
   "outputs": [
    {
     "data": {
      "text/plain": [
       "Country                 object\n",
       "Total Cases             object\n",
       "Total Death             object\n",
       "Total Recovered         object\n",
       "Active Cases            object\n",
       "Serious Critical        object\n",
       "Tot cases/1M pop        object\n",
       "Deaths/1M pop           object\n",
       "Total tests             object\n",
       "Tests/ 1M pop           object\n",
       "region                  object\n",
       "population              object\n",
       "1 Case every X ppl      object\n",
       "1 death every X ppl     object\n",
       "1 Test every X ppl     float64\n",
       "dtype: object"
      ]
     },
     "execution_count": 13,
     "metadata": {},
     "output_type": "execute_result"
    }
   ],
   "source": [
    "data_df['Country'] = data_df['Country'].astype(str)\n",
    "data_df.dropna(axis=0, subset=[\"region\"], inplace=True)\n",
    "data_df.dtypes"
   ]
  },
  {
   "cell_type": "markdown",
   "id": "caf54314",
   "metadata": {},
   "source": [
    "2. Với các cột còn lại là dạng Numeric, ta sẽ chuyển chúng sang dạng ``float64``:"
   ]
  },
  {
   "cell_type": "markdown",
   "id": "2f00d36c",
   "metadata": {
    "ExecuteTime": {
     "end_time": "2022-04-15T02:22:21.586897Z",
     "start_time": "2022-04-15T02:22:21.554333Z"
    }
   },
   "source": [
    "Do các cột dạng Numberic này có số phần nghìn, phần trăm cách nhau bởi **dấu phẩy** nên pandas sẽ không nhận diện được kiểu dữ liệu số nên ta sẽ remove chúng. Ta cần lưu ý là với các dữ liệu là '' thì sẽ không thể thay đổi kiểu dữ liệu được nên ta sẽ replace chúng bằng giá trị NaN của numpy trước.\n"
   ]
  },
  {
   "cell_type": "code",
   "execution_count": 14,
   "id": "07f3e2b9",
   "metadata": {
    "ExecuteTime": {
     "end_time": "2022-04-15T03:49:23.508113Z",
     "start_time": "2022-04-15T03:49:23.370742Z"
    }
   },
   "outputs": [
    {
     "data": {
      "text/plain": [
       "Country                 object\n",
       "Total Cases            float64\n",
       "Total Death            float64\n",
       "Total Recovered        float64\n",
       "Active Cases           float64\n",
       "Serious Critical       float64\n",
       "Tot cases/1M pop       float64\n",
       "Deaths/1M pop          float64\n",
       "Total tests            float64\n",
       "Tests/ 1M pop          float64\n",
       "region                  object\n",
       "population             float64\n",
       "1 Case every X ppl     float64\n",
       "1 death every X ppl    float64\n",
       "1 Test every X ppl     float64\n",
       "dtype: object"
      ]
     },
     "execution_count": 14,
     "metadata": {},
     "output_type": "execute_result"
    }
   ],
   "source": [
    "data_df_cp = data_df.copy()\n",
    "data_df_cp = data_df_cp.replace(\" \", np.nan)\n",
    "\n",
    "def delete_comma(string):\n",
    "    if (isinstance(string, str) and ',' in string):\n",
    "        return string.replace(\",\", \"\")\n",
    "    else:\n",
    "        return string\n",
    "\n",
    "data_df_cp[\"Total Cases\"] = data_df_cp[\"Total Cases\"].apply(delete_comma).astype(float)\n",
    "data_df_cp[\"Total Death\"] = data_df_cp[\"Total Death\"].apply(delete_comma).astype(float)\n",
    "data_df_cp[\"Total Recovered\"] = data_df_cp[\"Total Recovered\"].apply(delete_comma).astype(float)\n",
    "data_df_cp[\"Active Cases\"] = data_df_cp[\"Active Cases\"].apply(delete_comma).astype(float)\n",
    "data_df_cp[\"Serious Critical\"] = data_df_cp[\"Serious Critical\"].apply(delete_comma).astype(float)\n",
    "data_df_cp[\"Tot cases/1M pop\"] = data_df_cp[\"Tot cases/1M pop\"].apply(delete_comma).astype(float)\n",
    "data_df_cp[\"Deaths/1M pop\"] = data_df_cp[\"Deaths/1M pop\"].apply(delete_comma).astype(float)\n",
    "data_df_cp[\"Total tests\"] = data_df_cp[\"Total tests\"].apply(delete_comma).astype(float)\n",
    "data_df_cp[\"Tests/ 1M pop\"] = data_df_cp[\"Tests/ 1M pop\"].apply(delete_comma).astype(float)\n",
    "data_df_cp[\"population\"] = data_df_cp[\"population\"].apply(delete_comma).astype(float)\n",
    "data_df_cp[\"1 Case every X ppl\"] = data_df_cp[\"1 Case every X ppl\"].apply(delete_comma).astype(float)\n",
    "data_df_cp[\"1 death every X ppl\"] = data_df_cp[\"1 death every X ppl\"].apply(delete_comma).astype(float)\n",
    "\n",
    "data_df = data_df_cp\n",
    "data_df.dtypes"
   ]
  },
  {
   "cell_type": "markdown",
   "id": "fc10a7fc",
   "metadata": {},
   "source": [
    "### Xử lý dữ liệu có chứa NaN:"
   ]
  },
  {
   "cell_type": "markdown",
   "id": "bf3be11d",
   "metadata": {
    "ExecuteTime": {
     "end_time": "2022-04-15T03:11:14.775007Z",
     "start_time": "2022-04-15T03:11:14.753067Z"
    }
   },
   "source": [
    "Như ở trên, \n",
    "- Các cột categorical không có missing value\n",
    "- Ta sẽ xử lý missing value ở các cột dạng Numeric (trừ cột ``Total Cases`` do không có missing value) bằng cách thay thế chúng bằng giá trị **trung bình (mean) của cột đó**."
   ]
  },
  {
   "cell_type": "code",
   "execution_count": 15,
   "id": "dbb75a67",
   "metadata": {
    "ExecuteTime": {
     "end_time": "2022-04-15T03:50:16.857416Z",
     "start_time": "2022-04-15T03:50:16.819941Z"
    }
   },
   "outputs": [
    {
     "data": {
      "text/plain": [
       "Country                0\n",
       "Total Cases            0\n",
       "Total Death            0\n",
       "Total Recovered        0\n",
       "Active Cases           0\n",
       "Serious Critical       0\n",
       "Tot cases/1M pop       0\n",
       "Deaths/1M pop          0\n",
       "Total tests            0\n",
       "Tests/ 1M pop          0\n",
       "region                 0\n",
       "population             0\n",
       "1 Case every X ppl     0\n",
       "1 death every X ppl    0\n",
       "1 Test every X ppl     0\n",
       "dtype: int64"
      ]
     },
     "execution_count": 15,
     "metadata": {},
     "output_type": "execute_result"
    }
   ],
   "source": [
    "data_df_cp = data_df.copy()\n",
    "\n",
    "# Fill cột Numeric\n",
    "data_df_cp[\"Total Death\"] = data_df_cp[\"Total Death\"].fillna(data_df_cp[\"Total Death\"].mean())\n",
    "data_df_cp[\"Total Recovered\"] = data_df_cp[\"Total Recovered\"].fillna(data_df_cp[\"Total Recovered\"].mean())\n",
    "data_df_cp[\"Active Cases\"] = data_df_cp[\"Active Cases\"].fillna(data_df_cp[\"Active Cases\"].mean())\n",
    "data_df_cp[\"Serious Critical\"] = data_df_cp[\"Serious Critical\"].fillna(data_df_cp[\"Serious Critical\"].mean())\n",
    "data_df_cp[\"Tot cases/1M pop\"] = data_df_cp[\"Tot cases/1M pop\"].fillna(data_df_cp[\"Tot cases/1M pop\"].mean())\n",
    "data_df_cp[\"Deaths/1M pop\"] = data_df_cp[\"Deaths/1M pop\"].fillna(data_df_cp[\"Deaths/1M pop\"].mean())\n",
    "data_df_cp[\"Total tests\"] = data_df_cp[\"Total tests\"].fillna(data_df_cp[\"Total Death\"].mean())\n",
    "data_df_cp[\"Tests/ 1M pop\"] = data_df_cp[\"Tests/ 1M pop\"].fillna(data_df_cp[\"Tests/ 1M pop\"].mean())\n",
    "data_df_cp[\"population\"] = data_df_cp[\"population\"].fillna(data_df_cp[\"population\"].mean())\n",
    "data_df_cp[\"1 Case every X ppl\"] = data_df_cp[\"1 Case every X ppl\"].fillna(data_df_cp[\"1 Case every X ppl\"].mean())\n",
    "data_df_cp[\"1 death every X ppl\"] = data_df_cp[\"1 death every X ppl\"].fillna(data_df_cp[\"1 death every X ppl\"].mean())\n",
    "data_df_cp[\"1 Test every X ppl\"] = data_df_cp[\"1 Test every X ppl\"].fillna(data_df_cp[\"1 Test every X ppl\"].mean())\n",
    "\n",
    "data_df = data_df_cp\n",
    "data_df.to_csv(\"data_df_preprocessing.csv\")\n",
    "pd.set_option('display.float_format', lambda x: '%.3f' % x)\n",
    "data_df.isnull().sum()"
   ]
  },
  {
   "cell_type": "markdown",
   "id": "7e5c677d",
   "metadata": {},
   "source": [
    "---"
   ]
  },
  {
   "cell_type": "markdown",
   "id": "6d972260",
   "metadata": {},
   "source": [
    "# Part 3: Data exploratory"
   ]
  },
  {
   "cell_type": "markdown",
   "id": "49e26222",
   "metadata": {},
   "source": [
    "---"
   ]
  },
  {
   "cell_type": "markdown",
   "id": "843ac27b",
   "metadata": {},
   "source": [
    "### Lấy ra các cột numerical"
   ]
  },
  {
   "cell_type": "code",
   "execution_count": 16,
   "id": "ea842250",
   "metadata": {},
   "outputs": [],
   "source": [
    "cols = data_df.columns.tolist()\n",
    "cols.remove(\"Country\")\n",
    "cols.remove(\"region\")\n",
    "nume_cols = cols"
   ]
  },
  {
   "cell_type": "code",
   "execution_count": 17,
   "id": "08c20f19",
   "metadata": {},
   "outputs": [],
   "source": [
    "nume_df = data_df[nume_cols]"
   ]
  },
  {
   "cell_type": "code",
   "execution_count": 18,
   "id": "c66e4bd0",
   "metadata": {},
   "outputs": [
    {
     "data": {
      "text/html": [
       "<div>\n",
       "<style scoped>\n",
       "    .dataframe tbody tr th:only-of-type {\n",
       "        vertical-align: middle;\n",
       "    }\n",
       "\n",
       "    .dataframe tbody tr th {\n",
       "        vertical-align: top;\n",
       "    }\n",
       "\n",
       "    .dataframe thead th {\n",
       "        text-align: right;\n",
       "    }\n",
       "</style>\n",
       "<table border=\"1\" class=\"dataframe\">\n",
       "  <thead>\n",
       "    <tr style=\"text-align: right;\">\n",
       "      <th></th>\n",
       "      <th>Total Cases</th>\n",
       "      <th>Total Death</th>\n",
       "      <th>Total Recovered</th>\n",
       "      <th>Active Cases</th>\n",
       "      <th>Serious Critical</th>\n",
       "      <th>Tot cases/1M pop</th>\n",
       "      <th>Deaths/1M pop</th>\n",
       "      <th>Total tests</th>\n",
       "      <th>Tests/ 1M pop</th>\n",
       "      <th>population</th>\n",
       "      <th>1 Case every X ppl</th>\n",
       "      <th>1 death every X ppl</th>\n",
       "      <th>1 Test every X ppl</th>\n",
       "    </tr>\n",
       "  </thead>\n",
       "  <tbody>\n",
       "    <tr>\n",
       "      <th>0</th>\n",
       "      <td>82192880.000</td>\n",
       "      <td>1014114.000</td>\n",
       "      <td>80052061.000</td>\n",
       "      <td>1126705.000</td>\n",
       "      <td>1559.000</td>\n",
       "      <td>245753.000</td>\n",
       "      <td>3032.000</td>\n",
       "      <td>993285213.000</td>\n",
       "      <td>2969875.000</td>\n",
       "      <td>334453530.000</td>\n",
       "      <td>4.000</td>\n",
       "      <td>330.000</td>\n",
       "      <td>0.000</td>\n",
       "    </tr>\n",
       "    <tr>\n",
       "      <th>1</th>\n",
       "      <td>43039023.000</td>\n",
       "      <td>521767.000</td>\n",
       "      <td>42506228.000</td>\n",
       "      <td>11028.000</td>\n",
       "      <td>698.000</td>\n",
       "      <td>30652.000</td>\n",
       "      <td>372.000</td>\n",
       "      <td>794525202.000</td>\n",
       "      <td>565851.000</td>\n",
       "      <td>1404124784.000</td>\n",
       "      <td>33.000</td>\n",
       "      <td>2691.000</td>\n",
       "      <td>2.000</td>\n",
       "    </tr>\n",
       "    <tr>\n",
       "      <th>2</th>\n",
       "      <td>27310055.000</td>\n",
       "      <td>143777.000</td>\n",
       "      <td>24492534.000</td>\n",
       "      <td>2673744.000</td>\n",
       "      <td>1541.000</td>\n",
       "      <td>416755.000</td>\n",
       "      <td>2194.000</td>\n",
       "      <td>260504402.000</td>\n",
       "      <td>3975327.000</td>\n",
       "      <td>65530304.000</td>\n",
       "      <td>2.000</td>\n",
       "      <td>456.000</td>\n",
       "      <td>0.000</td>\n",
       "    </tr>\n",
       "    <tr>\n",
       "      <th>3</th>\n",
       "      <td>21715116.000</td>\n",
       "      <td>171045.000</td>\n",
       "      <td>19973929.000</td>\n",
       "      <td>1570142.000</td>\n",
       "      <td>385.000</td>\n",
       "      <td>316916.000</td>\n",
       "      <td>2496.000</td>\n",
       "      <td>511698520.000</td>\n",
       "      <td>7467868.000</td>\n",
       "      <td>68520023.000</td>\n",
       "      <td>3.000</td>\n",
       "      <td>401.000</td>\n",
       "      <td>0.000</td>\n",
       "    </tr>\n",
       "    <tr>\n",
       "      <th>4</th>\n",
       "      <td>15979061.000</td>\n",
       "      <td>20352.000</td>\n",
       "      <td>2569389.767</td>\n",
       "      <td>89703.629</td>\n",
       "      <td>962.000</td>\n",
       "      <td>311194.000</td>\n",
       "      <td>396.000</td>\n",
       "      <td>15804065.000</td>\n",
       "      <td>307786.000</td>\n",
       "      <td>51347631.000</td>\n",
       "      <td>3.000</td>\n",
       "      <td>2523.000</td>\n",
       "      <td>3.000</td>\n",
       "    </tr>\n",
       "    <tr>\n",
       "      <th>...</th>\n",
       "      <td>...</td>\n",
       "      <td>...</td>\n",
       "      <td>...</td>\n",
       "      <td>...</td>\n",
       "      <td>...</td>\n",
       "      <td>...</td>\n",
       "      <td>...</td>\n",
       "      <td>...</td>\n",
       "      <td>...</td>\n",
       "      <td>...</td>\n",
       "      <td>...</td>\n",
       "      <td>...</td>\n",
       "      <td>...</td>\n",
       "    </tr>\n",
       "    <tr>\n",
       "      <th>336</th>\n",
       "      <td>454.000</td>\n",
       "      <td>7.000</td>\n",
       "      <td>438.000</td>\n",
       "      <td>9.000</td>\n",
       "      <td>293.013</td>\n",
       "      <td>41693.000</td>\n",
       "      <td>643.000</td>\n",
       "      <td>20508.000</td>\n",
       "      <td>1883369.000</td>\n",
       "      <td>10889.000</td>\n",
       "      <td>24.000</td>\n",
       "      <td>1556.000</td>\n",
       "      <td>1.000</td>\n",
       "    </tr>\n",
       "    <tr>\n",
       "      <th>337</th>\n",
       "      <td>128.000</td>\n",
       "      <td>32960.596</td>\n",
       "      <td>2569389.767</td>\n",
       "      <td>89703.629</td>\n",
       "      <td>293.013</td>\n",
       "      <td>34973.000</td>\n",
       "      <td>1230.253</td>\n",
       "      <td>8632.000</td>\n",
       "      <td>2358470.000</td>\n",
       "      <td>3660.000</td>\n",
       "      <td>29.000</td>\n",
       "      <td>8218.164</td>\n",
       "      <td>0.000</td>\n",
       "    </tr>\n",
       "    <tr>\n",
       "      <th>338</th>\n",
       "      <td>29.000</td>\n",
       "      <td>32960.596</td>\n",
       "      <td>29.000</td>\n",
       "      <td>0.000</td>\n",
       "      <td>293.013</td>\n",
       "      <td>36025.000</td>\n",
       "      <td>1230.253</td>\n",
       "      <td>32960.596</td>\n",
       "      <td>2131213.887</td>\n",
       "      <td>805.000</td>\n",
       "      <td>28.000</td>\n",
       "      <td>8218.164</td>\n",
       "      <td>9.406</td>\n",
       "    </tr>\n",
       "    <tr>\n",
       "      <th>340</th>\n",
       "      <td>7.000</td>\n",
       "      <td>32960.596</td>\n",
       "      <td>7.000</td>\n",
       "      <td>0.000</td>\n",
       "      <td>293.013</td>\n",
       "      <td>4253.000</td>\n",
       "      <td>1230.253</td>\n",
       "      <td>32960.596</td>\n",
       "      <td>2131213.887</td>\n",
       "      <td>1646.000</td>\n",
       "      <td>235.000</td>\n",
       "      <td>8218.164</td>\n",
       "      <td>9.406</td>\n",
       "    </tr>\n",
       "    <tr>\n",
       "      <th>341</th>\n",
       "      <td>2.000</td>\n",
       "      <td>32960.596</td>\n",
       "      <td>2.000</td>\n",
       "      <td>0.000</td>\n",
       "      <td>293.013</td>\n",
       "      <td>327.000</td>\n",
       "      <td>1230.253</td>\n",
       "      <td>32960.596</td>\n",
       "      <td>2131213.887</td>\n",
       "      <td>6109.000</td>\n",
       "      <td>3055.000</td>\n",
       "      <td>8218.164</td>\n",
       "      <td>9.406</td>\n",
       "    </tr>\n",
       "  </tbody>\n",
       "</table>\n",
       "<p>339 rows × 13 columns</p>\n",
       "</div>"
      ],
      "text/plain": [
       "     Total Cases  Total Death  Total Recovered  Active Cases  \\\n",
       "0   82192880.000  1014114.000     80052061.000   1126705.000   \n",
       "1   43039023.000   521767.000     42506228.000     11028.000   \n",
       "2   27310055.000   143777.000     24492534.000   2673744.000   \n",
       "3   21715116.000   171045.000     19973929.000   1570142.000   \n",
       "4   15979061.000    20352.000      2569389.767     89703.629   \n",
       "..           ...          ...              ...           ...   \n",
       "336      454.000        7.000          438.000         9.000   \n",
       "337      128.000    32960.596      2569389.767     89703.629   \n",
       "338       29.000    32960.596           29.000         0.000   \n",
       "340        7.000    32960.596            7.000         0.000   \n",
       "341        2.000    32960.596            2.000         0.000   \n",
       "\n",
       "     Serious Critical  Tot cases/1M pop  Deaths/1M pop   Total tests  \\\n",
       "0            1559.000        245753.000       3032.000 993285213.000   \n",
       "1             698.000         30652.000        372.000 794525202.000   \n",
       "2            1541.000        416755.000       2194.000 260504402.000   \n",
       "3             385.000        316916.000       2496.000 511698520.000   \n",
       "4             962.000        311194.000        396.000  15804065.000   \n",
       "..                ...               ...            ...           ...   \n",
       "336           293.013         41693.000        643.000     20508.000   \n",
       "337           293.013         34973.000       1230.253      8632.000   \n",
       "338           293.013         36025.000       1230.253     32960.596   \n",
       "340           293.013          4253.000       1230.253     32960.596   \n",
       "341           293.013           327.000       1230.253     32960.596   \n",
       "\n",
       "     Tests/ 1M pop     population  1 Case every X ppl  1 death every X ppl  \\\n",
       "0      2969875.000  334453530.000               4.000              330.000   \n",
       "1       565851.000 1404124784.000              33.000             2691.000   \n",
       "2      3975327.000   65530304.000               2.000              456.000   \n",
       "3      7467868.000   68520023.000               3.000              401.000   \n",
       "4       307786.000   51347631.000               3.000             2523.000   \n",
       "..             ...            ...                 ...                  ...   \n",
       "336    1883369.000      10889.000              24.000             1556.000   \n",
       "337    2358470.000       3660.000              29.000             8218.164   \n",
       "338    2131213.887        805.000              28.000             8218.164   \n",
       "340    2131213.887       1646.000             235.000             8218.164   \n",
       "341    2131213.887       6109.000            3055.000             8218.164   \n",
       "\n",
       "     1 Test every X ppl  \n",
       "0                 0.000  \n",
       "1                 2.000  \n",
       "2                 0.000  \n",
       "3                 0.000  \n",
       "4                 3.000  \n",
       "..                  ...  \n",
       "336               1.000  \n",
       "337               0.000  \n",
       "338               9.406  \n",
       "340               9.406  \n",
       "341               9.406  \n",
       "\n",
       "[339 rows x 13 columns]"
      ]
     },
     "execution_count": 18,
     "metadata": {},
     "output_type": "execute_result"
    }
   ],
   "source": [
    "nume_df"
   ]
  },
  {
   "cell_type": "markdown",
   "id": "dd5b00a7",
   "metadata": {},
   "source": [
    "### Correlation matrix"
   ]
  },
  {
   "cell_type": "code",
   "execution_count": 19,
   "id": "40dd0402",
   "metadata": {},
   "outputs": [
    {
     "data": {
      "text/html": [
       "<div>\n",
       "<style scoped>\n",
       "    .dataframe tbody tr th:only-of-type {\n",
       "        vertical-align: middle;\n",
       "    }\n",
       "\n",
       "    .dataframe tbody tr th {\n",
       "        vertical-align: top;\n",
       "    }\n",
       "\n",
       "    .dataframe thead th {\n",
       "        text-align: right;\n",
       "    }\n",
       "</style>\n",
       "<table border=\"1\" class=\"dataframe\">\n",
       "  <thead>\n",
       "    <tr style=\"text-align: right;\">\n",
       "      <th></th>\n",
       "      <th>Total Cases</th>\n",
       "      <th>Total Death</th>\n",
       "      <th>Total Recovered</th>\n",
       "      <th>Active Cases</th>\n",
       "      <th>Serious Critical</th>\n",
       "      <th>Tot cases/1M pop</th>\n",
       "      <th>Deaths/1M pop</th>\n",
       "      <th>Total tests</th>\n",
       "      <th>Tests/ 1M pop</th>\n",
       "      <th>population</th>\n",
       "      <th>1 Case every X ppl</th>\n",
       "      <th>1 death every X ppl</th>\n",
       "      <th>1 Test every X ppl</th>\n",
       "    </tr>\n",
       "  </thead>\n",
       "  <tbody>\n",
       "    <tr>\n",
       "      <th>Total Cases</th>\n",
       "      <td>1.000</td>\n",
       "      <td>0.942</td>\n",
       "      <td>0.989</td>\n",
       "      <td>0.582</td>\n",
       "      <td>0.366</td>\n",
       "      <td>0.108</td>\n",
       "      <td>0.183</td>\n",
       "      <td>0.926</td>\n",
       "      <td>0.064</td>\n",
       "      <td>0.596</td>\n",
       "      <td>-0.089</td>\n",
       "      <td>-0.115</td>\n",
       "      <td>-0.109</td>\n",
       "    </tr>\n",
       "    <tr>\n",
       "      <th>Total Death</th>\n",
       "      <td>0.942</td>\n",
       "      <td>1.000</td>\n",
       "      <td>0.952</td>\n",
       "      <td>0.441</td>\n",
       "      <td>0.505</td>\n",
       "      <td>0.011</td>\n",
       "      <td>0.205</td>\n",
       "      <td>0.873</td>\n",
       "      <td>0.007</td>\n",
       "      <td>0.619</td>\n",
       "      <td>-0.065</td>\n",
       "      <td>-0.110</td>\n",
       "      <td>-0.095</td>\n",
       "    </tr>\n",
       "    <tr>\n",
       "      <th>Total Recovered</th>\n",
       "      <td>0.989</td>\n",
       "      <td>0.952</td>\n",
       "      <td>1.000</td>\n",
       "      <td>0.567</td>\n",
       "      <td>0.346</td>\n",
       "      <td>0.088</td>\n",
       "      <td>0.188</td>\n",
       "      <td>0.935</td>\n",
       "      <td>0.071</td>\n",
       "      <td>0.607</td>\n",
       "      <td>-0.076</td>\n",
       "      <td>-0.101</td>\n",
       "      <td>-0.106</td>\n",
       "    </tr>\n",
       "    <tr>\n",
       "      <th>Active Cases</th>\n",
       "      <td>0.582</td>\n",
       "      <td>0.441</td>\n",
       "      <td>0.567</td>\n",
       "      <td>1.000</td>\n",
       "      <td>0.335</td>\n",
       "      <td>0.239</td>\n",
       "      <td>0.229</td>\n",
       "      <td>0.538</td>\n",
       "      <td>0.171</td>\n",
       "      <td>0.100</td>\n",
       "      <td>-0.076</td>\n",
       "      <td>-0.101</td>\n",
       "      <td>-0.104</td>\n",
       "    </tr>\n",
       "    <tr>\n",
       "      <th>Serious Critical</th>\n",
       "      <td>0.366</td>\n",
       "      <td>0.505</td>\n",
       "      <td>0.346</td>\n",
       "      <td>0.335</td>\n",
       "      <td>1.000</td>\n",
       "      <td>-0.142</td>\n",
       "      <td>0.047</td>\n",
       "      <td>0.269</td>\n",
       "      <td>-0.110</td>\n",
       "      <td>0.288</td>\n",
       "      <td>-0.032</td>\n",
       "      <td>-0.101</td>\n",
       "      <td>0.002</td>\n",
       "    </tr>\n",
       "    <tr>\n",
       "      <th>Tot cases/1M pop</th>\n",
       "      <td>0.108</td>\n",
       "      <td>0.011</td>\n",
       "      <td>0.088</td>\n",
       "      <td>0.239</td>\n",
       "      <td>-0.142</td>\n",
       "      <td>1.000</td>\n",
       "      <td>0.542</td>\n",
       "      <td>0.079</td>\n",
       "      <td>0.517</td>\n",
       "      <td>-0.138</td>\n",
       "      <td>-0.326</td>\n",
       "      <td>-0.385</td>\n",
       "      <td>-0.398</td>\n",
       "    </tr>\n",
       "    <tr>\n",
       "      <th>Deaths/1M pop</th>\n",
       "      <td>0.183</td>\n",
       "      <td>0.205</td>\n",
       "      <td>0.188</td>\n",
       "      <td>0.229</td>\n",
       "      <td>0.047</td>\n",
       "      <td>0.542</td>\n",
       "      <td>1.000</td>\n",
       "      <td>0.152</td>\n",
       "      <td>0.194</td>\n",
       "      <td>-0.083</td>\n",
       "      <td>-0.261</td>\n",
       "      <td>-0.427</td>\n",
       "      <td>-0.376</td>\n",
       "    </tr>\n",
       "    <tr>\n",
       "      <th>Total tests</th>\n",
       "      <td>0.926</td>\n",
       "      <td>0.873</td>\n",
       "      <td>0.935</td>\n",
       "      <td>0.538</td>\n",
       "      <td>0.269</td>\n",
       "      <td>0.079</td>\n",
       "      <td>0.152</td>\n",
       "      <td>1.000</td>\n",
       "      <td>0.192</td>\n",
       "      <td>0.671</td>\n",
       "      <td>-0.083</td>\n",
       "      <td>-0.106</td>\n",
       "      <td>-0.107</td>\n",
       "    </tr>\n",
       "    <tr>\n",
       "      <th>Tests/ 1M pop</th>\n",
       "      <td>0.064</td>\n",
       "      <td>0.007</td>\n",
       "      <td>0.071</td>\n",
       "      <td>0.171</td>\n",
       "      <td>-0.110</td>\n",
       "      <td>0.517</td>\n",
       "      <td>0.194</td>\n",
       "      <td>0.192</td>\n",
       "      <td>1.000</td>\n",
       "      <td>-0.095</td>\n",
       "      <td>-0.147</td>\n",
       "      <td>-0.200</td>\n",
       "      <td>-0.284</td>\n",
       "    </tr>\n",
       "    <tr>\n",
       "      <th>population</th>\n",
       "      <td>0.596</td>\n",
       "      <td>0.619</td>\n",
       "      <td>0.607</td>\n",
       "      <td>0.100</td>\n",
       "      <td>0.288</td>\n",
       "      <td>-0.138</td>\n",
       "      <td>-0.083</td>\n",
       "      <td>0.671</td>\n",
       "      <td>-0.095</td>\n",
       "      <td>1.000</td>\n",
       "      <td>0.010</td>\n",
       "      <td>0.026</td>\n",
       "      <td>0.015</td>\n",
       "    </tr>\n",
       "    <tr>\n",
       "      <th>1 Case every X ppl</th>\n",
       "      <td>-0.089</td>\n",
       "      <td>-0.065</td>\n",
       "      <td>-0.076</td>\n",
       "      <td>-0.076</td>\n",
       "      <td>-0.032</td>\n",
       "      <td>-0.326</td>\n",
       "      <td>-0.261</td>\n",
       "      <td>-0.083</td>\n",
       "      <td>-0.147</td>\n",
       "      <td>0.010</td>\n",
       "      <td>1.000</td>\n",
       "      <td>0.622</td>\n",
       "      <td>0.478</td>\n",
       "    </tr>\n",
       "    <tr>\n",
       "      <th>1 death every X ppl</th>\n",
       "      <td>-0.115</td>\n",
       "      <td>-0.110</td>\n",
       "      <td>-0.101</td>\n",
       "      <td>-0.101</td>\n",
       "      <td>-0.101</td>\n",
       "      <td>-0.385</td>\n",
       "      <td>-0.427</td>\n",
       "      <td>-0.106</td>\n",
       "      <td>-0.200</td>\n",
       "      <td>0.026</td>\n",
       "      <td>0.622</td>\n",
       "      <td>1.000</td>\n",
       "      <td>0.549</td>\n",
       "    </tr>\n",
       "    <tr>\n",
       "      <th>1 Test every X ppl</th>\n",
       "      <td>-0.109</td>\n",
       "      <td>-0.095</td>\n",
       "      <td>-0.106</td>\n",
       "      <td>-0.104</td>\n",
       "      <td>0.002</td>\n",
       "      <td>-0.398</td>\n",
       "      <td>-0.376</td>\n",
       "      <td>-0.107</td>\n",
       "      <td>-0.284</td>\n",
       "      <td>0.015</td>\n",
       "      <td>0.478</td>\n",
       "      <td>0.549</td>\n",
       "      <td>1.000</td>\n",
       "    </tr>\n",
       "  </tbody>\n",
       "</table>\n",
       "</div>"
      ],
      "text/plain": [
       "                     Total Cases  Total Death  Total Recovered  Active Cases  \\\n",
       "Total Cases                1.000        0.942            0.989         0.582   \n",
       "Total Death                0.942        1.000            0.952         0.441   \n",
       "Total Recovered            0.989        0.952            1.000         0.567   \n",
       "Active Cases               0.582        0.441            0.567         1.000   \n",
       "Serious Critical           0.366        0.505            0.346         0.335   \n",
       "Tot cases/1M pop           0.108        0.011            0.088         0.239   \n",
       "Deaths/1M pop              0.183        0.205            0.188         0.229   \n",
       "Total tests                0.926        0.873            0.935         0.538   \n",
       "Tests/ 1M pop              0.064        0.007            0.071         0.171   \n",
       "population                 0.596        0.619            0.607         0.100   \n",
       "1 Case every X ppl        -0.089       -0.065           -0.076        -0.076   \n",
       "1 death every X ppl       -0.115       -0.110           -0.101        -0.101   \n",
       "1 Test every X ppl        -0.109       -0.095           -0.106        -0.104   \n",
       "\n",
       "                     Serious Critical  Tot cases/1M pop  Deaths/1M pop  \\\n",
       "Total Cases                     0.366             0.108          0.183   \n",
       "Total Death                     0.505             0.011          0.205   \n",
       "Total Recovered                 0.346             0.088          0.188   \n",
       "Active Cases                    0.335             0.239          0.229   \n",
       "Serious Critical                1.000            -0.142          0.047   \n",
       "Tot cases/1M pop               -0.142             1.000          0.542   \n",
       "Deaths/1M pop                   0.047             0.542          1.000   \n",
       "Total tests                     0.269             0.079          0.152   \n",
       "Tests/ 1M pop                  -0.110             0.517          0.194   \n",
       "population                      0.288            -0.138         -0.083   \n",
       "1 Case every X ppl             -0.032            -0.326         -0.261   \n",
       "1 death every X ppl            -0.101            -0.385         -0.427   \n",
       "1 Test every X ppl              0.002            -0.398         -0.376   \n",
       "\n",
       "                     Total tests  Tests/ 1M pop  population  \\\n",
       "Total Cases                0.926          0.064       0.596   \n",
       "Total Death                0.873          0.007       0.619   \n",
       "Total Recovered            0.935          0.071       0.607   \n",
       "Active Cases               0.538          0.171       0.100   \n",
       "Serious Critical           0.269         -0.110       0.288   \n",
       "Tot cases/1M pop           0.079          0.517      -0.138   \n",
       "Deaths/1M pop              0.152          0.194      -0.083   \n",
       "Total tests                1.000          0.192       0.671   \n",
       "Tests/ 1M pop              0.192          1.000      -0.095   \n",
       "population                 0.671         -0.095       1.000   \n",
       "1 Case every X ppl        -0.083         -0.147       0.010   \n",
       "1 death every X ppl       -0.106         -0.200       0.026   \n",
       "1 Test every X ppl        -0.107         -0.284       0.015   \n",
       "\n",
       "                     1 Case every X ppl  1 death every X ppl  \\\n",
       "Total Cases                      -0.089               -0.115   \n",
       "Total Death                      -0.065               -0.110   \n",
       "Total Recovered                  -0.076               -0.101   \n",
       "Active Cases                     -0.076               -0.101   \n",
       "Serious Critical                 -0.032               -0.101   \n",
       "Tot cases/1M pop                 -0.326               -0.385   \n",
       "Deaths/1M pop                    -0.261               -0.427   \n",
       "Total tests                      -0.083               -0.106   \n",
       "Tests/ 1M pop                    -0.147               -0.200   \n",
       "population                        0.010                0.026   \n",
       "1 Case every X ppl                1.000                0.622   \n",
       "1 death every X ppl               0.622                1.000   \n",
       "1 Test every X ppl                0.478                0.549   \n",
       "\n",
       "                     1 Test every X ppl  \n",
       "Total Cases                      -0.109  \n",
       "Total Death                      -0.095  \n",
       "Total Recovered                  -0.106  \n",
       "Active Cases                     -0.104  \n",
       "Serious Critical                  0.002  \n",
       "Tot cases/1M pop                 -0.398  \n",
       "Deaths/1M pop                    -0.376  \n",
       "Total tests                      -0.107  \n",
       "Tests/ 1M pop                    -0.284  \n",
       "population                        0.015  \n",
       "1 Case every X ppl                0.478  \n",
       "1 death every X ppl               0.549  \n",
       "1 Test every X ppl                1.000  "
      ]
     },
     "execution_count": 19,
     "metadata": {},
     "output_type": "execute_result"
    }
   ],
   "source": [
    "corr = nume_df.corr()\n",
    "corr"
   ]
  },
  {
   "cell_type": "code",
   "execution_count": 20,
   "id": "063ff7c5",
   "metadata": {},
   "outputs": [
    {
     "data": {
      "text/plain": [
       "<AxesSubplot:>"
      ]
     },
     "execution_count": 20,
     "metadata": {},
     "output_type": "execute_result"
    },
    {
     "data": {
      "image/png": "[encoded data removed]",
      "text/plain": [
       "<Figure size 720x576 with 2 Axes>"
      ]
     },
     "metadata": {},
     "output_type": "display_data"
    }
   ],
   "source": [
    "# Truc quan correlation matrix \n",
    "sns.heatmap(corr, annot=True, cmap=\"YlGnBu\")"
   ]
  },
  {
   "cell_type": "markdown",
   "id": "f607fe4f",
   "metadata": {},
   "source": [
    "**Dựa trên biểu đồ heatmap trên có thể thấy các cặp thuộc tính tương quan mạnh (correlation coefficent>0.7):**\n",
    "- Total Cases ~ Total Recovered\n",
    "- Total Cases ~ Total Death\n",
    "- Total Case ~ Total tests\n",
    "- Total tests ~ Total Death\n",
    "- Total Recovered ~ Total tests\n",
    "-Có 4 biến numerical có mốt quan hệ tương quan với nhau"
   ]
  },
  {
   "cell_type": "markdown",
   "id": "3a06f2e1",
   "metadata": {},
   "source": [
    "### Ta sẽ xem xét thử mối quan hệ giữa Total Recovered~Total Cases, Total tests, Total Death"
   ]
  },
  {
   "cell_type": "code",
   "execution_count": 21,
   "id": "76e66549",
   "metadata": {},
   "outputs": [
    {
     "data": {
      "image/png": "[encoded data removed]",
      "text/plain": [
       "<Figure size 1080x360 with 3 Axes>"
      ]
     },
     "metadata": {},
     "output_type": "display_data"
    }
   ],
   "source": [
    "plt.figure(figsize=(15,5))\n",
    "plt.subplot(1,3,1)\n",
    "plt.scatter(nume_df[\"Total Cases\"],nume_df[\"Total Recovered\"])\n",
    "plt.xlabel(\"Total Cases\")\n",
    "plt.ylabel(\"Total Recovered\")\n",
    "plt.title(\"Total Cases ~ Total Recovered\",fontdict={'color':'red','fontsize':14})\n",
    "plt.subplot(1,3,2)\n",
    "plt.scatter(nume_df[\"Total Death\"],nume_df[\"Total Recovered\"])\n",
    "plt.xlabel(\"Total Death\")\n",
    "plt.ylabel(\"Total Recovered\")\n",
    "plt.title(\"Total Death ~ Total Recovered\",fontdict={'color':\"red\",'fontsize':14})\n",
    "plt.subplot(1,3,3)\n",
    "plt.scatter(nume_df[\"Total tests\"],nume_df[\"Total Recovered\"])\n",
    "plt.xlabel(\"Total tests\")\n",
    "plt.ylabel(\"Total Recovered\")\n",
    "plt.title(\"Total tests ~ Total Recovered\",fontdict={'color':\"red\",'fontsize':14})\n",
    "plt.show()"
   ]
  },
  {
   "cell_type": "markdown",
   "id": "d1c9f0c5",
   "metadata": {},
   "source": [
    "- Có vẻ ở mỗi quan hệ được trực quan ở trên thì giữa các biến với Total Recovered có khả năng có mối quan hệ tuyến tính"
   ]
  },
  {
   "cell_type": "markdown",
   "id": "8864eb1f",
   "metadata": {},
   "source": [
    "**Xét mối tương quan giữa Total Recovered ~ Total Cases, Total Death, Total tests**\n",
    "- Ta đề xuất một mô hình hồi quy tuyến tính : **Total Recovered  ~ w0 + w1*Total Cases + w2*Total Death + w3*Total tests**"
   ]
  },
  {
   "cell_type": "code",
   "execution_count": 22,
   "id": "5e59d9ef",
   "metadata": {},
   "outputs": [],
   "source": [
    "ols = sm.OLS(nume_df[\"Total Recovered\"], sm.add_constant(nume_df[[\"Total Cases\",\"Total Death\",\"Total tests\"]]))"
   ]
  },
  {
   "cell_type": "code",
   "execution_count": 23,
   "id": "4a42af2d",
   "metadata": {},
   "outputs": [
    {
     "data": {
      "text/html": [
       "<table class=\"simpletable\">\n",
       "<caption>OLS Regression Results</caption>\n",
       "<tr>\n",
       "  <th>Dep. Variable:</th>     <td>Total Recovered</td> <th>  R-squared:         </th> <td>   0.985</td> \n",
       "</tr>\n",
       "<tr>\n",
       "  <th>Model:</th>                   <td>OLS</td>       <th>  Adj. R-squared:    </th> <td>   0.985</td> \n",
       "</tr>\n",
       "<tr>\n",
       "  <th>Method:</th>             <td>Least Squares</td>  <th>  F-statistic:       </th> <td>   7280.</td> \n",
       "</tr>\n",
       "<tr>\n",
       "  <th>Date:</th>             <td>Thu, 21 Apr 2022</td> <th>  Prob (F-statistic):</th> <td>1.51e-304</td>\n",
       "</tr>\n",
       "<tr>\n",
       "  <th>Time:</th>                 <td>18:01:54</td>     <th>  Log-Likelihood:    </th> <td> -5198.6</td> \n",
       "</tr>\n",
       "<tr>\n",
       "  <th>No. Observations:</th>      <td>   339</td>      <th>  AIC:               </th> <td>1.041e+04</td>\n",
       "</tr>\n",
       "<tr>\n",
       "  <th>Df Residuals:</th>          <td>   335</td>      <th>  BIC:               </th> <td>1.042e+04</td>\n",
       "</tr>\n",
       "<tr>\n",
       "  <th>Df Model:</th>              <td>     3</td>      <th>                     </th>     <td> </td>    \n",
       "</tr>\n",
       "<tr>\n",
       "  <th>Covariance Type:</th>      <td>nonrobust</td>    <th>                     </th>     <td> </td>    \n",
       "</tr>\n",
       "</table>\n",
       "<table class=\"simpletable\">\n",
       "<tr>\n",
       "       <td></td>          <th>coef</th>     <th>std err</th>      <th>t</th>      <th>P>|t|</th>  <th>[0.025</th>    <th>0.975]</th>  \n",
       "</tr>\n",
       "<tr>\n",
       "  <th>const</th>       <td>-6.306e+04</td> <td>  6.3e+04</td> <td>   -1.001</td> <td> 0.318</td> <td>-1.87e+05</td> <td> 6.09e+04</td>\n",
       "</tr>\n",
       "<tr>\n",
       "  <th>Total Cases</th> <td>    0.6657</td> <td>    0.025</td> <td>   26.965</td> <td> 0.000</td> <td>    0.617</td> <td>    0.714</td>\n",
       "</tr>\n",
       "<tr>\n",
       "  <th>Total Death</th> <td>   14.3536</td> <td>    1.587</td> <td>    9.045</td> <td> 0.000</td> <td>   11.232</td> <td>   17.475</td>\n",
       "</tr>\n",
       "<tr>\n",
       "  <th>Total tests</th> <td>    0.0089</td> <td>    0.001</td> <td>    7.599</td> <td> 0.000</td> <td>    0.007</td> <td>    0.011</td>\n",
       "</tr>\n",
       "</table>\n",
       "<table class=\"simpletable\">\n",
       "<tr>\n",
       "  <th>Omnibus:</th>       <td>314.508</td> <th>  Durbin-Watson:     </th> <td>   2.058</td> \n",
       "</tr>\n",
       "<tr>\n",
       "  <th>Prob(Omnibus):</th> <td> 0.000</td>  <th>  Jarque-Bera (JB):  </th> <td>11833.641</td>\n",
       "</tr>\n",
       "<tr>\n",
       "  <th>Skew:</th>          <td>-3.704</td>  <th>  Prob(JB):          </th> <td>    0.00</td> \n",
       "</tr>\n",
       "<tr>\n",
       "  <th>Kurtosis:</th>      <td>30.980</td>  <th>  Cond. No.          </th> <td>1.48e+08</td> \n",
       "</tr>\n",
       "</table><br/><br/>Notes:<br/>[1] Standard Errors assume that the covariance matrix of the errors is correctly specified.<br/>[2] The condition number is large, 1.48e+08. This might indicate that there are<br/>strong multicollinearity or other numerical problems."
      ],
      "text/plain": [
       "<class 'statsmodels.iolib.summary.Summary'>\n",
       "\"\"\"\n",
       "                            OLS Regression Results                            \n",
       "==============================================================================\n",
       "Dep. Variable:        Total Recovered   R-squared:                       0.985\n",
       "Model:                            OLS   Adj. R-squared:                  0.985\n",
       "Method:                 Least Squares   F-statistic:                     7280.\n",
       "Date:                Thu, 21 Apr 2022   Prob (F-statistic):          1.51e-304\n",
       "Time:                        18:01:54   Log-Likelihood:                -5198.6\n",
       "No. Observations:                 339   AIC:                         1.041e+04\n",
       "Df Residuals:                     335   BIC:                         1.042e+04\n",
       "Df Model:                           3                                         \n",
       "Covariance Type:            nonrobust                                         \n",
       "===============================================================================\n",
       "                  coef    std err          t      P>|t|      [0.025      0.975]\n",
       "-------------------------------------------------------------------------------\n",
       "const       -6.306e+04    6.3e+04     -1.001      0.318   -1.87e+05    6.09e+04\n",
       "Total Cases     0.6657      0.025     26.965      0.000       0.617       0.714\n",
       "Total Death    14.3536      1.587      9.045      0.000      11.232      17.475\n",
       "Total tests     0.0089      0.001      7.599      0.000       0.007       0.011\n",
       "==============================================================================\n",
       "Omnibus:                      314.508   Durbin-Watson:                   2.058\n",
       "Prob(Omnibus):                  0.000   Jarque-Bera (JB):            11833.641\n",
       "Skew:                          -3.704   Prob(JB):                         0.00\n",
       "Kurtosis:                      30.980   Cond. No.                     1.48e+08\n",
       "==============================================================================\n",
       "\n",
       "Notes:\n",
       "[1] Standard Errors assume that the covariance matrix of the errors is correctly specified.\n",
       "[2] The condition number is large, 1.48e+08. This might indicate that there are\n",
       "strong multicollinearity or other numerical problems.\n",
       "\"\"\""
      ]
     },
     "execution_count": 23,
     "metadata": {},
     "output_type": "execute_result"
    }
   ],
   "source": [
    "reg = ols.fit()\n",
    "reg.summary()"
   ]
  },
  {
   "cell_type": "markdown",
   "id": "ce093131",
   "metadata": {},
   "source": [
    "### Nhận xét:\n",
    "* Mô hình hồi quy cho kết quả rất tốt (R-squared=0.985)\n",
    "* Các biến độc lập đều có p-value thấp => có ý nghĩa thống kê\n",
    "* Biến const không có ý nghĩa thông kê\n",
    "* Ta thấy hệ số của \"Total tests\" khá nhỏ\n",
    "* Các giá trị của các cột đều lớn hơn >e+6 nên ta sẽ lấy log các giá trị "
   ]
  },
  {
   "cell_type": "markdown",
   "id": "8a856759",
   "metadata": {},
   "source": [
    "**Bây giờ, thử bỏ đi \"Total tests\", const trong tập các biến phụ thuộc, đồng thời lấy log10 các giá trị xem có thể tăng độ đo Rsquared hay không?**"
   ]
  },
  {
   "cell_type": "code",
   "execution_count": 24,
   "id": "b0b15d79",
   "metadata": {},
   "outputs": [],
   "source": [
    "ols = sm.OLS(np.log10(nume_df[\"Total Recovered\"]), np.log10(nume_df[[\"Total Cases\",\"Total Death\"]]))"
   ]
  },
  {
   "cell_type": "code",
   "execution_count": 25,
   "id": "3e87f5b0",
   "metadata": {},
   "outputs": [],
   "source": [
    "reg = ols.fit()"
   ]
  },
  {
   "cell_type": "code",
   "execution_count": 26,
   "id": "89f31e18",
   "metadata": {},
   "outputs": [
    {
     "data": {
      "text/html": [
       "<table class=\"simpletable\">\n",
       "<caption>OLS Regression Results</caption>\n",
       "<tr>\n",
       "  <th>Dep. Variable:</th>     <td>Total Recovered</td> <th>  R-squared (uncentered):</th>      <td>   0.986</td> \n",
       "</tr>\n",
       "<tr>\n",
       "  <th>Model:</th>                   <td>OLS</td>       <th>  Adj. R-squared (uncentered):</th> <td>   0.986</td> \n",
       "</tr>\n",
       "<tr>\n",
       "  <th>Method:</th>             <td>Least Squares</td>  <th>  F-statistic:       </th>          <td>1.192e+04</td>\n",
       "</tr>\n",
       "<tr>\n",
       "  <th>Date:</th>             <td>Thu, 21 Apr 2022</td> <th>  Prob (F-statistic):</th>          <td>2.07e-313</td>\n",
       "</tr>\n",
       "<tr>\n",
       "  <th>Time:</th>                 <td>18:01:54</td>     <th>  Log-Likelihood:    </th>          <td> -324.17</td> \n",
       "</tr>\n",
       "<tr>\n",
       "  <th>No. Observations:</th>      <td>   339</td>      <th>  AIC:               </th>          <td>   652.3</td> \n",
       "</tr>\n",
       "<tr>\n",
       "  <th>Df Residuals:</th>          <td>   337</td>      <th>  BIC:               </th>          <td>   660.0</td> \n",
       "</tr>\n",
       "<tr>\n",
       "  <th>Df Model:</th>              <td>     2</td>      <th>                     </th>              <td> </td>    \n",
       "</tr>\n",
       "<tr>\n",
       "  <th>Covariance Type:</th>      <td>nonrobust</td>    <th>                     </th>              <td> </td>    \n",
       "</tr>\n",
       "</table>\n",
       "<table class=\"simpletable\">\n",
       "<tr>\n",
       "       <td></td>          <th>coef</th>     <th>std err</th>      <th>t</th>      <th>P>|t|</th>  <th>[0.025</th>    <th>0.975]</th>  \n",
       "</tr>\n",
       "<tr>\n",
       "  <th>Total Cases</th> <td>    0.8838</td> <td>    0.024</td> <td>   37.171</td> <td> 0.000</td> <td>    0.837</td> <td>    0.931</td>\n",
       "</tr>\n",
       "<tr>\n",
       "  <th>Total Death</th> <td>    0.1652</td> <td>    0.036</td> <td>    4.621</td> <td> 0.000</td> <td>    0.095</td> <td>    0.236</td>\n",
       "</tr>\n",
       "</table>\n",
       "<table class=\"simpletable\">\n",
       "<tr>\n",
       "  <th>Omnibus:</th>       <td>190.126</td> <th>  Durbin-Watson:     </th> <td>   1.890</td>\n",
       "</tr>\n",
       "<tr>\n",
       "  <th>Prob(Omnibus):</th> <td> 0.000</td>  <th>  Jarque-Bera (JB):  </th> <td>4943.779</td>\n",
       "</tr>\n",
       "<tr>\n",
       "  <th>Skew:</th>          <td> 1.780</td>  <th>  Prob(JB):          </th> <td>    0.00</td>\n",
       "</tr>\n",
       "<tr>\n",
       "  <th>Kurtosis:</th>      <td>21.367</td>  <th>  Cond. No.          </th> <td>    7.91</td>\n",
       "</tr>\n",
       "</table><br/><br/>Notes:<br/>[1] R² is computed without centering (uncentered) since the model does not contain a constant.<br/>[2] Standard Errors assume that the covariance matrix of the errors is correctly specified."
      ],
      "text/plain": [
       "<class 'statsmodels.iolib.summary.Summary'>\n",
       "\"\"\"\n",
       "                                 OLS Regression Results                                \n",
       "=======================================================================================\n",
       "Dep. Variable:        Total Recovered   R-squared (uncentered):                   0.986\n",
       "Model:                            OLS   Adj. R-squared (uncentered):              0.986\n",
       "Method:                 Least Squares   F-statistic:                          1.192e+04\n",
       "Date:                Thu, 21 Apr 2022   Prob (F-statistic):                   2.07e-313\n",
       "Time:                        18:01:54   Log-Likelihood:                         -324.17\n",
       "No. Observations:                 339   AIC:                                      652.3\n",
       "Df Residuals:                     337   BIC:                                      660.0\n",
       "Df Model:                           2                                                  \n",
       "Covariance Type:            nonrobust                                                  \n",
       "===============================================================================\n",
       "                  coef    std err          t      P>|t|      [0.025      0.975]\n",
       "-------------------------------------------------------------------------------\n",
       "Total Cases     0.8838      0.024     37.171      0.000       0.837       0.931\n",
       "Total Death     0.1652      0.036      4.621      0.000       0.095       0.236\n",
       "==============================================================================\n",
       "Omnibus:                      190.126   Durbin-Watson:                   1.890\n",
       "Prob(Omnibus):                  0.000   Jarque-Bera (JB):             4943.779\n",
       "Skew:                           1.780   Prob(JB):                         0.00\n",
       "Kurtosis:                      21.367   Cond. No.                         7.91\n",
       "==============================================================================\n",
       "\n",
       "Notes:\n",
       "[1] R² is computed without centering (uncentered) since the model does not contain a constant.\n",
       "[2] Standard Errors assume that the covariance matrix of the errors is correctly specified.\n",
       "\"\"\""
      ]
     },
     "execution_count": 26,
     "metadata": {},
     "output_type": "execute_result"
    }
   ],
   "source": [
    "reg.summary()"
   ]
  },
  {
   "cell_type": "markdown",
   "id": "724f0001",
   "metadata": {},
   "source": [
    "### Nhận xét:\n",
    "* Giá trị Rsquared đã được cải thiện không nhiều\n",
    "* Do đó có thể thấy rằng 2 biến: [\"Total Death\", \"Total Cases\"] ảnh hưởng nhiều lên thuộc tính \"Total Recovered\"\n",
    "* Mô hình được chọn lúc này là: **log10(Total Recovered)  ~ w_1*log10(Total Cases) + w_2*log10(Total Death)**\n",
    "* Có thể kết luận rằng số ca phục hồi có quan hệ tuyến tính với số ca chết và số ca nhiễm (vì hệ số dương nên khi số ca nhiễm và chết tăng sẽ kéo theo các ca hồi phục tăng"
   ]
  },
  {
   "cell_type": "markdown",
   "id": "6862c784",
   "metadata": {},
   "source": [
    "## Ứng dụng thử các mô hình máy học"
   ]
  },
  {
   "cell_type": "code",
   "execution_count": 40,
   "id": "a8975943",
   "metadata": {},
   "outputs": [],
   "source": [
    "from sklearn.model_selection import train_test_split\n",
    "from sklearn.linear_model import LinearRegression\n",
    "from sklearn.metrics import accuracy_score\n",
    "from sklearn.metrics import mean_squared_error\n",
    "from sklearn.manifold import TSNE\n",
    "from sklearn.decomposition import PCA"
   ]
  },
  {
   "cell_type": "code",
   "execution_count": 28,
   "id": "a5b6d306",
   "metadata": {
    "scrolled": true
   },
   "outputs": [
    {
     "data": {
      "text/html": [
       "<div>\n",
       "<style scoped>\n",
       "    .dataframe tbody tr th:only-of-type {\n",
       "        vertical-align: middle;\n",
       "    }\n",
       "\n",
       "    .dataframe tbody tr th {\n",
       "        vertical-align: top;\n",
       "    }\n",
       "\n",
       "    .dataframe thead th {\n",
       "        text-align: right;\n",
       "    }\n",
       "</style>\n",
       "<table border=\"1\" class=\"dataframe\">\n",
       "  <thead>\n",
       "    <tr style=\"text-align: right;\">\n",
       "      <th></th>\n",
       "      <th>Total Cases</th>\n",
       "      <th>Total Death</th>\n",
       "      <th>Total Recovered</th>\n",
       "    </tr>\n",
       "  </thead>\n",
       "  <tbody>\n",
       "    <tr>\n",
       "      <th>0</th>\n",
       "      <td>82192880.000</td>\n",
       "      <td>1014114.000</td>\n",
       "      <td>80052061.000</td>\n",
       "    </tr>\n",
       "    <tr>\n",
       "      <th>1</th>\n",
       "      <td>43039023.000</td>\n",
       "      <td>521767.000</td>\n",
       "      <td>42506228.000</td>\n",
       "    </tr>\n",
       "    <tr>\n",
       "      <th>2</th>\n",
       "      <td>27310055.000</td>\n",
       "      <td>143777.000</td>\n",
       "      <td>24492534.000</td>\n",
       "    </tr>\n",
       "    <tr>\n",
       "      <th>3</th>\n",
       "      <td>21715116.000</td>\n",
       "      <td>171045.000</td>\n",
       "      <td>19973929.000</td>\n",
       "    </tr>\n",
       "    <tr>\n",
       "      <th>4</th>\n",
       "      <td>15979061.000</td>\n",
       "      <td>20352.000</td>\n",
       "      <td>2569389.767</td>\n",
       "    </tr>\n",
       "    <tr>\n",
       "      <th>...</th>\n",
       "      <td>...</td>\n",
       "      <td>...</td>\n",
       "      <td>...</td>\n",
       "    </tr>\n",
       "    <tr>\n",
       "      <th>336</th>\n",
       "      <td>454.000</td>\n",
       "      <td>7.000</td>\n",
       "      <td>438.000</td>\n",
       "    </tr>\n",
       "    <tr>\n",
       "      <th>337</th>\n",
       "      <td>128.000</td>\n",
       "      <td>32960.596</td>\n",
       "      <td>2569389.767</td>\n",
       "    </tr>\n",
       "    <tr>\n",
       "      <th>338</th>\n",
       "      <td>29.000</td>\n",
       "      <td>32960.596</td>\n",
       "      <td>29.000</td>\n",
       "    </tr>\n",
       "    <tr>\n",
       "      <th>340</th>\n",
       "      <td>7.000</td>\n",
       "      <td>32960.596</td>\n",
       "      <td>7.000</td>\n",
       "    </tr>\n",
       "    <tr>\n",
       "      <th>341</th>\n",
       "      <td>2.000</td>\n",
       "      <td>32960.596</td>\n",
       "      <td>2.000</td>\n",
       "    </tr>\n",
       "  </tbody>\n",
       "</table>\n",
       "<p>339 rows × 3 columns</p>\n",
       "</div>"
      ],
      "text/plain": [
       "     Total Cases  Total Death  Total Recovered\n",
       "0   82192880.000  1014114.000     80052061.000\n",
       "1   43039023.000   521767.000     42506228.000\n",
       "2   27310055.000   143777.000     24492534.000\n",
       "3   21715116.000   171045.000     19973929.000\n",
       "4   15979061.000    20352.000      2569389.767\n",
       "..           ...          ...              ...\n",
       "336      454.000        7.000          438.000\n",
       "337      128.000    32960.596      2569389.767\n",
       "338       29.000    32960.596           29.000\n",
       "340        7.000    32960.596            7.000\n",
       "341        2.000    32960.596            2.000\n",
       "\n",
       "[339 rows x 3 columns]"
      ]
     },
     "execution_count": 28,
     "metadata": {},
     "output_type": "execute_result"
    }
   ],
   "source": [
    "df = nume_df[[\"Total Cases\", \"Total Death\", \"Total Recovered\"]]\n",
    "df"
   ]
  },
  {
   "cell_type": "code",
   "execution_count": 29,
   "id": "99f8958d",
   "metadata": {},
   "outputs": [],
   "source": [
    "X = df[[\"Total Cases\",\"Total Death\"]].values\n",
    "y = df[\"Total Recovered\"].values"
   ]
  },
  {
   "cell_type": "code",
   "execution_count": 30,
   "id": "bbcb08ea",
   "metadata": {},
   "outputs": [],
   "source": [
    "# Tach ra thanh tap training va test\n",
    "X_train, X_test, y_train,y_test = train_test_split(np.log10(X), np.log10(y), test_size=0.3, random_state=42)"
   ]
  },
  {
   "cell_type": "code",
   "execution_count": 31,
   "id": "c635b8b7",
   "metadata": {},
   "outputs": [],
   "source": [
    "# khoi tao mo hinh linear regression\n",
    "reg = LinearRegression(fit_intercept=False)"
   ]
  },
  {
   "cell_type": "code",
   "execution_count": 32,
   "id": "f09f8287",
   "metadata": {},
   "outputs": [
    {
     "data": {
      "text/plain": [
       "LinearRegression(fit_intercept=False)"
      ]
     },
     "execution_count": 32,
     "metadata": {},
     "output_type": "execute_result"
    }
   ],
   "source": [
    "reg.fit(X_train,y_train)"
   ]
  },
  {
   "cell_type": "code",
   "execution_count": 33,
   "id": "01c52de4",
   "metadata": {},
   "outputs": [
    {
     "data": {
      "text/plain": [
       "array([0.93896191, 0.08168725])"
      ]
     },
     "execution_count": 33,
     "metadata": {},
     "output_type": "execute_result"
    }
   ],
   "source": [
    "# cac he so [w1,w2].T\n",
    "reg.coef_"
   ]
  },
  {
   "cell_type": "code",
   "execution_count": 34,
   "id": "8ca0e43b",
   "metadata": {},
   "outputs": [],
   "source": [
    "# Du doan tren tap test\n",
    "y_pred = reg.predict(X_test)"
   ]
  },
  {
   "cell_type": "code",
   "execution_count": 35,
   "id": "f441ff11",
   "metadata": {},
   "outputs": [
    {
     "data": {
      "text/plain": [
       "0.7953118682308964"
      ]
     },
     "execution_count": 35,
     "metadata": {},
     "output_type": "execute_result"
    }
   ],
   "source": [
    "# Do loi MSE tren tap test\n",
    "mean_squared_error(y_test,y_pred,squared=False)"
   ]
  },
  {
   "cell_type": "markdown",
   "id": "1763dc1b",
   "metadata": {},
   "source": [
    "**Kiểm tra độ đo MSE trên tập test và kết quả dự đoán  ta thấy kết quả MSE nhỏ. Nên mô hình được đề xuất hoạt động tốt**"
   ]
  },
  {
   "cell_type": "markdown",
   "id": "9388c031",
   "metadata": {},
   "source": [
    "## Dùng PCA để trực quan dữ liệu"
   ]
  },
  {
   "cell_type": "code",
   "execution_count": 41,
   "id": "de7fcd99",
   "metadata": {},
   "outputs": [],
   "source": [
    "pca= PCA(n_components=1)"
   ]
  },
  {
   "cell_type": "code",
   "execution_count": 48,
   "id": "521a5eb5",
   "metadata": {
    "scrolled": true
   },
   "outputs": [],
   "source": [
    "X_transformed = tsne.fit_transform(np.log10(X))"
   ]
  },
  {
   "cell_type": "code",
   "execution_count": 47,
   "id": "7e41680d",
   "metadata": {
    "scrolled": false
   },
   "outputs": [
    {
     "data": {
      "text/plain": [
       "<AxesSubplot:>"
      ]
     },
     "execution_count": 47,
     "metadata": {},
     "output_type": "execute_result"
    },
    {
     "data": {
      "image/png": "[encoded data removed]",
      "text/plain": [
       "<Figure size 1080x720 with 1 Axes>"
      ]
     },
     "metadata": {},
     "output_type": "display_data"
    }
   ],
   "source": [
    "# trực quan hồi quy tuyến tính\n",
    "plt.figure(figsize=(15,10))\n",
    "sns.regplot(x=X_transformed, y=np.log10(y))"
   ]
  },
  {
   "cell_type": "markdown",
   "id": "a125afc9",
   "metadata": {},
   "source": [
    "- Với PCA ta thấy rằng các điểm dữ liệu có xu hướng tập trung gần nhau và hồi quy tuyến tính hoạt động tốt"
   ]
  },
  {
   "cell_type": "code",
   "execution_count": null,
   "id": "72083e5a",
   "metadata": {},
   "outputs": [],
   "source": []
  }
 ],
 "metadata": {
  "kernelspec": {
   "display_name": "Python 3 (ipykernel)",
   "language": "python",
   "name": "python3"
  },
  "language_info": {
   "codemirror_mode": {
    "name": "ipython",
    "version": 3
   },
   "file_extension": ".py",
   "mimetype": "text/x-python",
   "name": "python",
   "nbconvert_exporter": "python",
   "pygments_lexer": "ipython3",
   "version": "3.8.8"
  }
 },
 "nbformat": 4,
 "nbformat_minor": 5
}
