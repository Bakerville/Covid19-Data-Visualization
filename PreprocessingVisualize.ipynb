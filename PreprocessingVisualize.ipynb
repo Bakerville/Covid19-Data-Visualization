{
 "cells": [
  {
   "cell_type": "markdown",
   "id": "73a184d8",
   "metadata": {},
   "source": [
    "# Data Visualize Part 2: Preprocessing"
   ]
  },
  {
   "cell_type": "markdown",
   "id": "c0f128f9",
   "metadata": {},
   "source": [
    "---"
   ]
  },
  {
   "cell_type": "markdown",
   "id": "7a409b6c",
   "metadata": {},
   "source": [
    "## Import các thư viện cần thiết"
   ]
  },
  {
   "cell_type": "code",
   "execution_count": 1,
   "id": "231de787",
   "metadata": {
    "ExecuteTime": {
     "end_time": "2022-04-19T13:29:33.108113Z",
     "start_time": "2022-04-19T13:29:31.415405Z"
    }
   },
   "outputs": [],
   "source": [
    "import pandas as pd\n",
    "import matplotlib.pyplot as plt\n",
    "import numpy as np\n",
    "import seaborn as sns"
   ]
  },
  {
   "cell_type": "markdown",
   "id": "a58da6cd",
   "metadata": {
    "ExecuteTime": {
     "end_time": "2022-04-15T01:34:58.891003Z",
     "start_time": "2022-04-15T01:34:58.884021Z"
    }
   },
   "source": [
    "---"
   ]
  },
  {
   "cell_type": "markdown",
   "id": "0f3bce5b",
   "metadata": {},
   "source": [
    "## Thu thập dữ liệu"
   ]
  },
  {
   "cell_type": "markdown",
   "id": "fb79e3ca",
   "metadata": {},
   "source": [
    "Trong bài này, ta sẽ dùng dữ liệu đã được thu thập bằng Selenium là file \"data.csv\" đính kèm; đây là dữ liệu về thông số ca nhiễm Covid19 của Thế giới. Dữ liệu này được lấy từ Dữ liệu thống kê từng ngày ca nhiễm virus Covid-19 từ tổ chức Worldometer, và gốc của dữ liệu là [ở đây](https://www.worldometers.info/).\n"
   ]
  },
  {
   "cell_type": "markdown",
   "id": "8c863e6b",
   "metadata": {},
   "source": [
    "---"
   ]
  },
  {
   "cell_type": "markdown",
   "id": "8827ba29",
   "metadata": {},
   "source": [
    "## Khám phá dữ liệu"
   ]
  },
  {
   "cell_type": "markdown",
   "id": "433c8773",
   "metadata": {},
   "source": [
    "### Đọc dữ liệu từ file csv vào dataframe"
   ]
  },
  {
   "cell_type": "code",
   "execution_count": 2,
   "id": "513bd2cc",
   "metadata": {
    "ExecuteTime": {
     "end_time": "2022-04-19T13:29:33.155982Z",
     "start_time": "2022-04-19T13:29:33.113099Z"
    }
   },
   "outputs": [
    {
     "data": {
      "text/html": [
       "<div>\n",
       "<style scoped>\n",
       "    .dataframe tbody tr th:only-of-type {\n",
       "        vertical-align: middle;\n",
       "    }\n",
       "\n",
       "    .dataframe tbody tr th {\n",
       "        vertical-align: top;\n",
       "    }\n",
       "\n",
       "    .dataframe thead th {\n",
       "        text-align: right;\n",
       "    }\n",
       "</style>\n",
       "<table border=\"1\" class=\"dataframe\">\n",
       "  <thead>\n",
       "    <tr style=\"text-align: right;\">\n",
       "      <th></th>\n",
       "      <th>Unnamed: 0</th>\n",
       "      <th>Country</th>\n",
       "      <th>Total Cases</th>\n",
       "      <th>Total Death</th>\n",
       "      <th>Total Recovered</th>\n",
       "      <th>Active Cases</th>\n",
       "      <th>Serious Critical</th>\n",
       "      <th>Tot cases/1M pop</th>\n",
       "      <th>Deaths/1M pop</th>\n",
       "      <th>Total tests</th>\n",
       "      <th>Tests/ 1M pop</th>\n",
       "      <th>region</th>\n",
       "      <th>population</th>\n",
       "      <th>1 Case every X ppl</th>\n",
       "      <th>1 death every X ppl</th>\n",
       "      <th>1 Test every X ppl</th>\n",
       "    </tr>\n",
       "  </thead>\n",
       "  <tbody>\n",
       "    <tr>\n",
       "      <th>0</th>\n",
       "      <td>0</td>\n",
       "      <td>USA</td>\n",
       "      <td>82,192,880</td>\n",
       "      <td>1,014,114</td>\n",
       "      <td>80,052,061</td>\n",
       "      <td>1,126,705</td>\n",
       "      <td>1,559</td>\n",
       "      <td>245,753</td>\n",
       "      <td>3,032</td>\n",
       "      <td>993,285,213</td>\n",
       "      <td>2,969,875</td>\n",
       "      <td>North America</td>\n",
       "      <td>334,453,530</td>\n",
       "      <td>4</td>\n",
       "      <td>330</td>\n",
       "      <td>0.0</td>\n",
       "    </tr>\n",
       "    <tr>\n",
       "      <th>1</th>\n",
       "      <td>1</td>\n",
       "      <td>India</td>\n",
       "      <td>43,039,023</td>\n",
       "      <td>521,767</td>\n",
       "      <td>42,506,228</td>\n",
       "      <td>11,028</td>\n",
       "      <td>698</td>\n",
       "      <td>30,652</td>\n",
       "      <td>372</td>\n",
       "      <td>794,525,202</td>\n",
       "      <td>565,851</td>\n",
       "      <td>Asia</td>\n",
       "      <td>1,404,124,784</td>\n",
       "      <td>33</td>\n",
       "      <td>2,691</td>\n",
       "      <td>2.0</td>\n",
       "    </tr>\n",
       "    <tr>\n",
       "      <th>2</th>\n",
       "      <td>2</td>\n",
       "      <td>France</td>\n",
       "      <td>27,310,055</td>\n",
       "      <td>143,777</td>\n",
       "      <td>24,492,534</td>\n",
       "      <td>2,673,744</td>\n",
       "      <td>1,541</td>\n",
       "      <td>416,755</td>\n",
       "      <td>2,194</td>\n",
       "      <td>260,504,402</td>\n",
       "      <td>3,975,327</td>\n",
       "      <td>Europe</td>\n",
       "      <td>65,530,304</td>\n",
       "      <td>2</td>\n",
       "      <td>456</td>\n",
       "      <td>0.0</td>\n",
       "    </tr>\n",
       "    <tr>\n",
       "      <th>3</th>\n",
       "      <td>3</td>\n",
       "      <td>UK</td>\n",
       "      <td>21,715,116</td>\n",
       "      <td>171,045</td>\n",
       "      <td>19,973,929</td>\n",
       "      <td>1,570,142</td>\n",
       "      <td>385</td>\n",
       "      <td>316,916</td>\n",
       "      <td>2,496</td>\n",
       "      <td>511,698,520</td>\n",
       "      <td>7,467,868</td>\n",
       "      <td>Europe</td>\n",
       "      <td>68,520,023</td>\n",
       "      <td>3</td>\n",
       "      <td>401</td>\n",
       "      <td>0.0</td>\n",
       "    </tr>\n",
       "    <tr>\n",
       "      <th>4</th>\n",
       "      <td>4</td>\n",
       "      <td>S. Korea</td>\n",
       "      <td>15,979,061</td>\n",
       "      <td>20,352</td>\n",
       "      <td>NaN</td>\n",
       "      <td>NaN</td>\n",
       "      <td>962</td>\n",
       "      <td>311,194</td>\n",
       "      <td>396</td>\n",
       "      <td>15,804,065</td>\n",
       "      <td>307,786</td>\n",
       "      <td>Asia</td>\n",
       "      <td>51,347,631</td>\n",
       "      <td>3</td>\n",
       "      <td>2,523</td>\n",
       "      <td>3.0</td>\n",
       "    </tr>\n",
       "  </tbody>\n",
       "</table>\n",
       "</div>"
      ],
      "text/plain": [
       "   Unnamed: 0   Country Total Cases Total Death Total Recovered Active Cases  \\\n",
       "0           0       USA  82,192,880  1,014,114       80,052,061    1,126,705   \n",
       "1           1     India  43,039,023    521,767       42,506,228       11,028   \n",
       "2           2    France  27,310,055    143,777       24,492,534    2,673,744   \n",
       "3           3        UK  21,715,116    171,045       19,973,929    1,570,142   \n",
       "4           4  S. Korea  15,979,061     20,352              NaN          NaN   \n",
       "\n",
       "  Serious Critical Tot cases/1M pop Deaths/1M pop  Total tests Tests/ 1M pop  \\\n",
       "0            1,559          245,753         3,032  993,285,213     2,969,875   \n",
       "1              698           30,652           372  794,525,202       565,851   \n",
       "2            1,541          416,755         2,194  260,504,402     3,975,327   \n",
       "3              385          316,916         2,496  511,698,520     7,467,868   \n",
       "4              962          311,194           396   15,804,065       307,786   \n",
       "\n",
       "          region      population 1 Case every X ppl 1 death every X ppl  \\\n",
       "0  North America    334,453,530                   4                 330   \n",
       "1           Asia  1,404,124,784                  33               2,691   \n",
       "2         Europe     65,530,304                   2                 456   \n",
       "3         Europe     68,520,023                   3                 401   \n",
       "4           Asia     51,347,631                   3               2,523   \n",
       "\n",
       "   1 Test every X ppl  \n",
       "0                 0.0  \n",
       "1                 2.0  \n",
       "2                 0.0  \n",
       "3                 0.0  \n",
       "4                 3.0  "
      ]
     },
     "execution_count": 2,
     "metadata": {},
     "output_type": "execute_result"
    }
   ],
   "source": [
    "data_df = pd.read_csv('data.csv')\n",
    "data_df.head()"
   ]
  },
  {
   "cell_type": "markdown",
   "id": "bb1ff077",
   "metadata": {},
   "source": [
    "### Dữ liệu gồm có bao nhiêu dòng và bao nhiêu cột?"
   ]
  },
  {
   "cell_type": "code",
   "execution_count": 3,
   "id": "eda6ee72",
   "metadata": {
    "ExecuteTime": {
     "end_time": "2022-04-19T13:29:33.250721Z",
     "start_time": "2022-04-19T13:29:33.157977Z"
    }
   },
   "outputs": [
    {
     "name": "stdout",
     "output_type": "stream",
     "text": [
      "342 16\n"
     ]
    }
   ],
   "source": [
    "num_rows = data_df.shape[0]\n",
    "num_cols = data_df.shape[1]\n",
    "print(num_rows, num_cols)"
   ]
  },
  {
   "cell_type": "markdown",
   "id": "fe4c801a",
   "metadata": {},
   "source": [
    "### Mỗi dòng có ý nghĩa gì? Có vấn đề các dòng có ý nghĩa khác nhau không?"
   ]
  },
  {
   "cell_type": "markdown",
   "id": "3776f588",
   "metadata": {},
   "source": [
    "Theo mô tả dữ liệu của \"Covid19\" và theo quan sát sơ bộ về dữ liệu thì một dòng cho biết thông tin của thông số ca nhiễm. Có vẻ không có dòng nào bị \"lạc loài\"."
   ]
  },
  {
   "cell_type": "markdown",
   "id": "7122b71f",
   "metadata": {},
   "source": [
    "Ta thấy ở cột ``Unnamed: 0`` chỉ là index của file ``data.csv`` không có tác dụng trong việc Visualize nên ta sẽ bỏ cột này."
   ]
  },
  {
   "cell_type": "code",
   "execution_count": 4,
   "id": "5f958cca",
   "metadata": {
    "ExecuteTime": {
     "end_time": "2022-04-19T13:29:33.422431Z",
     "start_time": "2022-04-19T13:29:33.253709Z"
    }
   },
   "outputs": [
    {
     "data": {
      "text/html": [
       "<div>\n",
       "<style scoped>\n",
       "    .dataframe tbody tr th:only-of-type {\n",
       "        vertical-align: middle;\n",
       "    }\n",
       "\n",
       "    .dataframe tbody tr th {\n",
       "        vertical-align: top;\n",
       "    }\n",
       "\n",
       "    .dataframe thead th {\n",
       "        text-align: right;\n",
       "    }\n",
       "</style>\n",
       "<table border=\"1\" class=\"dataframe\">\n",
       "  <thead>\n",
       "    <tr style=\"text-align: right;\">\n",
       "      <th></th>\n",
       "      <th>Country</th>\n",
       "      <th>Total Cases</th>\n",
       "      <th>Total Death</th>\n",
       "      <th>Total Recovered</th>\n",
       "      <th>Active Cases</th>\n",
       "      <th>Serious Critical</th>\n",
       "      <th>Tot cases/1M pop</th>\n",
       "      <th>Deaths/1M pop</th>\n",
       "      <th>Total tests</th>\n",
       "      <th>Tests/ 1M pop</th>\n",
       "      <th>region</th>\n",
       "      <th>population</th>\n",
       "      <th>1 Case every X ppl</th>\n",
       "      <th>1 death every X ppl</th>\n",
       "      <th>1 Test every X ppl</th>\n",
       "    </tr>\n",
       "  </thead>\n",
       "  <tbody>\n",
       "    <tr>\n",
       "      <th>0</th>\n",
       "      <td>USA</td>\n",
       "      <td>82,192,880</td>\n",
       "      <td>1,014,114</td>\n",
       "      <td>80,052,061</td>\n",
       "      <td>1,126,705</td>\n",
       "      <td>1,559</td>\n",
       "      <td>245,753</td>\n",
       "      <td>3,032</td>\n",
       "      <td>993,285,213</td>\n",
       "      <td>2,969,875</td>\n",
       "      <td>North America</td>\n",
       "      <td>334,453,530</td>\n",
       "      <td>4</td>\n",
       "      <td>330</td>\n",
       "      <td>0.0</td>\n",
       "    </tr>\n",
       "    <tr>\n",
       "      <th>1</th>\n",
       "      <td>India</td>\n",
       "      <td>43,039,023</td>\n",
       "      <td>521,767</td>\n",
       "      <td>42,506,228</td>\n",
       "      <td>11,028</td>\n",
       "      <td>698</td>\n",
       "      <td>30,652</td>\n",
       "      <td>372</td>\n",
       "      <td>794,525,202</td>\n",
       "      <td>565,851</td>\n",
       "      <td>Asia</td>\n",
       "      <td>1,404,124,784</td>\n",
       "      <td>33</td>\n",
       "      <td>2,691</td>\n",
       "      <td>2.0</td>\n",
       "    </tr>\n",
       "    <tr>\n",
       "      <th>2</th>\n",
       "      <td>France</td>\n",
       "      <td>27,310,055</td>\n",
       "      <td>143,777</td>\n",
       "      <td>24,492,534</td>\n",
       "      <td>2,673,744</td>\n",
       "      <td>1,541</td>\n",
       "      <td>416,755</td>\n",
       "      <td>2,194</td>\n",
       "      <td>260,504,402</td>\n",
       "      <td>3,975,327</td>\n",
       "      <td>Europe</td>\n",
       "      <td>65,530,304</td>\n",
       "      <td>2</td>\n",
       "      <td>456</td>\n",
       "      <td>0.0</td>\n",
       "    </tr>\n",
       "    <tr>\n",
       "      <th>3</th>\n",
       "      <td>UK</td>\n",
       "      <td>21,715,116</td>\n",
       "      <td>171,045</td>\n",
       "      <td>19,973,929</td>\n",
       "      <td>1,570,142</td>\n",
       "      <td>385</td>\n",
       "      <td>316,916</td>\n",
       "      <td>2,496</td>\n",
       "      <td>511,698,520</td>\n",
       "      <td>7,467,868</td>\n",
       "      <td>Europe</td>\n",
       "      <td>68,520,023</td>\n",
       "      <td>3</td>\n",
       "      <td>401</td>\n",
       "      <td>0.0</td>\n",
       "    </tr>\n",
       "    <tr>\n",
       "      <th>4</th>\n",
       "      <td>S. Korea</td>\n",
       "      <td>15,979,061</td>\n",
       "      <td>20,352</td>\n",
       "      <td>NaN</td>\n",
       "      <td>NaN</td>\n",
       "      <td>962</td>\n",
       "      <td>311,194</td>\n",
       "      <td>396</td>\n",
       "      <td>15,804,065</td>\n",
       "      <td>307,786</td>\n",
       "      <td>Asia</td>\n",
       "      <td>51,347,631</td>\n",
       "      <td>3</td>\n",
       "      <td>2,523</td>\n",
       "      <td>3.0</td>\n",
       "    </tr>\n",
       "    <tr>\n",
       "      <th>...</th>\n",
       "      <td>...</td>\n",
       "      <td>...</td>\n",
       "      <td>...</td>\n",
       "      <td>...</td>\n",
       "      <td>...</td>\n",
       "      <td>...</td>\n",
       "      <td>...</td>\n",
       "      <td>...</td>\n",
       "      <td>...</td>\n",
       "      <td>...</td>\n",
       "      <td>...</td>\n",
       "      <td>...</td>\n",
       "      <td>...</td>\n",
       "      <td>...</td>\n",
       "      <td>...</td>\n",
       "    </tr>\n",
       "    <tr>\n",
       "      <th>337</th>\n",
       "      <td>Falkland Islands</td>\n",
       "      <td>128</td>\n",
       "      <td></td>\n",
       "      <td>NaN</td>\n",
       "      <td>NaN</td>\n",
       "      <td>NaN</td>\n",
       "      <td>34,973</td>\n",
       "      <td>NaN</td>\n",
       "      <td>8,632</td>\n",
       "      <td>2,358,470</td>\n",
       "      <td>South America</td>\n",
       "      <td>3,660</td>\n",
       "      <td>29</td>\n",
       "      <td>NaN</td>\n",
       "      <td>0.0</td>\n",
       "    </tr>\n",
       "    <tr>\n",
       "      <th>338</th>\n",
       "      <td>Vatican City</td>\n",
       "      <td>29</td>\n",
       "      <td></td>\n",
       "      <td>29</td>\n",
       "      <td>0</td>\n",
       "      <td>NaN</td>\n",
       "      <td>36,025</td>\n",
       "      <td>NaN</td>\n",
       "      <td>NaN</td>\n",
       "      <td>NaN</td>\n",
       "      <td>Europe</td>\n",
       "      <td>805</td>\n",
       "      <td>28</td>\n",
       "      <td>NaN</td>\n",
       "      <td>NaN</td>\n",
       "    </tr>\n",
       "    <tr>\n",
       "      <th>339</th>\n",
       "      <td>MS Zaandam</td>\n",
       "      <td>9</td>\n",
       "      <td>2</td>\n",
       "      <td>7</td>\n",
       "      <td>0</td>\n",
       "      <td>NaN</td>\n",
       "      <td>NaN</td>\n",
       "      <td>NaN</td>\n",
       "      <td>NaN</td>\n",
       "      <td>NaN</td>\n",
       "      <td>NaN</td>\n",
       "      <td></td>\n",
       "      <td>NaN</td>\n",
       "      <td>NaN</td>\n",
       "      <td>NaN</td>\n",
       "    </tr>\n",
       "    <tr>\n",
       "      <th>340</th>\n",
       "      <td>Niue</td>\n",
       "      <td>7</td>\n",
       "      <td></td>\n",
       "      <td>7</td>\n",
       "      <td>0</td>\n",
       "      <td>NaN</td>\n",
       "      <td>4,253</td>\n",
       "      <td>NaN</td>\n",
       "      <td>NaN</td>\n",
       "      <td>NaN</td>\n",
       "      <td>Australia/Oceania</td>\n",
       "      <td>1,646</td>\n",
       "      <td>235</td>\n",
       "      <td>NaN</td>\n",
       "      <td>NaN</td>\n",
       "    </tr>\n",
       "    <tr>\n",
       "      <th>341</th>\n",
       "      <td>Saint Helena</td>\n",
       "      <td>2</td>\n",
       "      <td></td>\n",
       "      <td>2</td>\n",
       "      <td>0</td>\n",
       "      <td>NaN</td>\n",
       "      <td>327</td>\n",
       "      <td>NaN</td>\n",
       "      <td>NaN</td>\n",
       "      <td>NaN</td>\n",
       "      <td>Africa</td>\n",
       "      <td>6,109</td>\n",
       "      <td>3,055</td>\n",
       "      <td>NaN</td>\n",
       "      <td>NaN</td>\n",
       "    </tr>\n",
       "  </tbody>\n",
       "</table>\n",
       "<p>342 rows × 15 columns</p>\n",
       "</div>"
      ],
      "text/plain": [
       "              Country Total Cases Total Death Total Recovered Active Cases  \\\n",
       "0                 USA  82,192,880  1,014,114       80,052,061    1,126,705   \n",
       "1               India  43,039,023    521,767       42,506,228       11,028   \n",
       "2              France  27,310,055    143,777       24,492,534    2,673,744   \n",
       "3                  UK  21,715,116    171,045       19,973,929    1,570,142   \n",
       "4            S. Korea  15,979,061     20,352              NaN          NaN   \n",
       "..                ...         ...         ...             ...          ...   \n",
       "337  Falkland Islands         128                         NaN          NaN   \n",
       "338      Vatican City          29                          29            0   \n",
       "339        MS Zaandam           9          2                7            0   \n",
       "340              Niue           7                           7            0   \n",
       "341      Saint Helena           2                           2            0   \n",
       "\n",
       "    Serious Critical Tot cases/1M pop Deaths/1M pop  Total tests  \\\n",
       "0              1,559          245,753         3,032  993,285,213   \n",
       "1                698           30,652           372  794,525,202   \n",
       "2              1,541          416,755         2,194  260,504,402   \n",
       "3                385          316,916         2,496  511,698,520   \n",
       "4                962          311,194           396   15,804,065   \n",
       "..               ...              ...           ...          ...   \n",
       "337              NaN           34,973           NaN        8,632   \n",
       "338              NaN           36,025           NaN          NaN   \n",
       "339              NaN              NaN           NaN          NaN   \n",
       "340              NaN            4,253           NaN          NaN   \n",
       "341              NaN              327           NaN          NaN   \n",
       "\n",
       "    Tests/ 1M pop             region      population 1 Case every X ppl  \\\n",
       "0       2,969,875      North America    334,453,530                   4   \n",
       "1         565,851               Asia  1,404,124,784                  33   \n",
       "2       3,975,327             Europe     65,530,304                   2   \n",
       "3       7,467,868             Europe     68,520,023                   3   \n",
       "4         307,786               Asia     51,347,631                   3   \n",
       "..            ...                ...             ...                ...   \n",
       "337     2,358,470      South America          3,660                  29   \n",
       "338           NaN             Europe            805                  28   \n",
       "339           NaN                NaN                                NaN   \n",
       "340           NaN  Australia/Oceania          1,646                 235   \n",
       "341           NaN             Africa          6,109               3,055   \n",
       "\n",
       "    1 death every X ppl  1 Test every X ppl  \n",
       "0                   330                 0.0  \n",
       "1                 2,691                 2.0  \n",
       "2                   456                 0.0  \n",
       "3                   401                 0.0  \n",
       "4                 2,523                 3.0  \n",
       "..                  ...                 ...  \n",
       "337                 NaN                 0.0  \n",
       "338                 NaN                 NaN  \n",
       "339                 NaN                 NaN  \n",
       "340                 NaN                 NaN  \n",
       "341                 NaN                 NaN  \n",
       "\n",
       "[342 rows x 15 columns]"
      ]
     },
     "execution_count": 4,
     "metadata": {},
     "output_type": "execute_result"
    }
   ],
   "source": [
    "data_df = data_df.drop('Unnamed: 0', axis = 1)\n",
    "data_df.reset_index()\n",
    "data_df"
   ]
  },
  {
   "cell_type": "markdown",
   "id": "6d5c3616",
   "metadata": {},
   "source": [
    "### Dữ liệu có bị thiếu không?"
   ]
  },
  {
   "cell_type": "code",
   "execution_count": 5,
   "id": "cc8b24e4",
   "metadata": {
    "ExecuteTime": {
     "end_time": "2022-04-19T13:29:33.562752Z",
     "start_time": "2022-04-19T13:29:33.425424Z"
    }
   },
   "outputs": [
    {
     "data": {
      "text/plain": [
       "Country                  0\n",
       "Total Cases              0\n",
       "Total Death              0\n",
       "Total Recovered         21\n",
       "Active Cases            21\n",
       "Serious Critical       108\n",
       "Tot cases/1M pop         3\n",
       "Deaths/1M pop           18\n",
       "Total tests             24\n",
       "Tests/ 1M pop           24\n",
       "region                   3\n",
       "population               0\n",
       "1 Case every X ppl       3\n",
       "1 death every X ppl     18\n",
       "1 Test every X ppl      24\n",
       "dtype: int64"
      ]
     },
     "execution_count": 5,
     "metadata": {},
     "output_type": "execute_result"
    }
   ],
   "source": [
    "data_df.isnull().sum()"
   ]
  },
  {
   "cell_type": "markdown",
   "id": "6c11f28c",
   "metadata": {},
   "source": [
    "Như ta đã thấy dữ liệu bị thiếu đều nằm ở các cột có dạng **số**, do dữ liệu này ta chỉ mới đọc lên, **chưa xác định được kiểu dữ liệu của từng cột** nên ta sẽ xử lý các \"missing value\" này sau khi ta đã xác định rõ kiểu dữ liệu của từng cột."
   ]
  },
  {
   "cell_type": "markdown",
   "id": "e2368eaa",
   "metadata": {},
   "source": [
    "### Dữ liệu có các dòng bị lặp không?"
   ]
  },
  {
   "cell_type": "code",
   "execution_count": 6,
   "id": "287a0f19",
   "metadata": {
    "ExecuteTime": {
     "end_time": "2022-04-19T13:29:33.734683Z",
     "start_time": "2022-04-19T13:29:33.564744Z"
    }
   },
   "outputs": [
    {
     "data": {
      "text/plain": [
       "True"
      ]
     },
     "execution_count": 6,
     "metadata": {},
     "output_type": "execute_result"
    }
   ],
   "source": [
    "if (data_df.duplicated().any() == True):\n",
    "    have_duplicated_rows = True\n",
    "else:\n",
    "    have_duplicated_rows = False\n",
    "    \n",
    "have_duplicated_rows"
   ]
  },
  {
   "cell_type": "markdown",
   "id": "97ea1be2",
   "metadata": {},
   "source": [
    "Ở kết quả trên là \"True\" tức là có các dòng bị lặp, ta không muốn dữ liệu của mình bị lệch quá nhiều dẫn đến Visualize không đúng, ta sẽ xoá các dòng dữ liệu bị lặp đó đi."
   ]
  },
  {
   "cell_type": "markdown",
   "id": "12865246",
   "metadata": {},
   "source": [
    "### Mỗi cột có ý nghĩa gì?"
   ]
  },
  {
   "cell_type": "markdown",
   "id": "b0f05f7c",
   "metadata": {
    "ExecuteTime": {
     "end_time": "2022-04-15T01:38:00.817259Z",
     "start_time": "2022-04-15T01:38:00.794415Z"
    }
   },
   "source": [
    "Dưới đây là phần mô tả của dataset \"Covid19 Cases\" về các cột trong file \"data.csv\":\n",
    "- **Country**: Tên quốc gia.\n",
    "- **Total Cases**: Tổng số ca nhiễm.\n",
    "- **Total Death**: Tổng số ca tử vong.\n",
    "- **Total Recovered**: Tổng số ca phục hồi.\n",
    "- **Active Cases**: Số ca dương tính.\n",
    "- **Serious Critical**: Ca diễn biến nặng\n",
    "- **Tot cases/1M pop**: Tổng số ca tính trên 1 triệu dân số\n",
    "- **Deaths/1M pop**: Tổng số ca chết trên 1 triệu dân số\n",
    "- **Total tests**: Tổng số lần Test\n",
    "- **Tests/ 1M pop**: Số lần test trên 1 triệu dân số\n",
    "- **region**: Khu vực\n",
    "- **population**: Dân số\n",
    "- **1 Case every X ppl**: 1 ca trong dân số\n",
    "- **1 death every X ppl**: 1 ca tử vong trong dân số\n",
    "- **1 Test every X ppl**: 1 test trong dân số\n"
   ]
  },
  {
   "cell_type": "markdown",
   "id": "f5d64a94",
   "metadata": {},
   "source": [
    "### Mỗi cột hiện đang có kiểu dữ liệu gì? Có cột nào có kiểu dữ liệu chưa phù hợp để có thể xử lý tiếp không? "
   ]
  },
  {
   "cell_type": "code",
   "execution_count": 7,
   "id": "3eb2c79c",
   "metadata": {
    "ExecuteTime": {
     "end_time": "2022-04-19T13:29:33.860588Z",
     "start_time": "2022-04-19T13:29:33.736681Z"
    }
   },
   "outputs": [
    {
     "data": {
      "text/plain": [
       "Country                 object\n",
       "Total Cases             object\n",
       "Total Death             object\n",
       "Total Recovered         object\n",
       "Active Cases            object\n",
       "Serious Critical        object\n",
       "Tot cases/1M pop        object\n",
       "Deaths/1M pop           object\n",
       "Total tests             object\n",
       "Tests/ 1M pop           object\n",
       "region                  object\n",
       "population              object\n",
       "1 Case every X ppl      object\n",
       "1 death every X ppl     object\n",
       "1 Test every X ppl     float64\n",
       "dtype: object"
      ]
     },
     "execution_count": 7,
     "metadata": {},
     "output_type": "execute_result"
    }
   ],
   "source": [
    "col_dtypes = data_df.dtypes\n",
    "col_dtypes"
   ]
  },
  {
   "cell_type": "code",
   "execution_count": 8,
   "id": "6599fb54",
   "metadata": {
    "ExecuteTime": {
     "end_time": "2022-04-19T13:29:34.002210Z",
     "start_time": "2022-04-19T13:29:33.864581Z"
    }
   },
   "outputs": [],
   "source": [
    "# XỬ lý\n",
    "def open_object_dtype(s):\n",
    "    dtypes = set()\n",
    "    \n",
    "    dtypes = set((s.apply(value_type)))\n",
    "    \n",
    "    return dtypes\n",
    "\n",
    "def value_type(value):\n",
    "    return (type(value))"
   ]
  },
  {
   "cell_type": "code",
   "execution_count": 9,
   "id": "206cfe01",
   "metadata": {
    "ExecuteTime": {
     "end_time": "2022-04-19T13:29:34.283459Z",
     "start_time": "2022-04-19T13:29:34.005202Z"
    }
   },
   "outputs": [
    {
     "name": "stdout",
     "output_type": "stream",
     "text": [
      "Country= {<class 'str'>}\n",
      "Total Death= {<class 'str'>}\n",
      "Total Recovered= {<class 'str'>, <class 'float'>}\n",
      "Total Cases= {<class 'str'>}\n",
      "Active Cases= {<class 'str'>, <class 'float'>}\n",
      "Serious Critical= {<class 'str'>, <class 'float'>}\n",
      "Tot cases/1M pop= {<class 'str'>, <class 'float'>}\n",
      "Deaths/1M pop= {<class 'str'>, <class 'float'>}\n",
      "Total tests= {<class 'str'>, <class 'float'>}\n",
      "Tests/ 1M pop= {<class 'str'>, <class 'float'>}\n",
      "region= {<class 'str'>, <class 'float'>}\n",
      "population= {<class 'str'>}\n",
      "1 Case every X ppl= {<class 'str'>, <class 'float'>}\n",
      "1 death every X ppl= {<class 'str'>, <class 'float'>}\n"
     ]
    }
   ],
   "source": [
    "print('Country=', open_object_dtype(data_df['Country']))\n",
    "print('Total Death=', open_object_dtype(data_df['Total Death']))\n",
    "print('Total Recovered=', open_object_dtype(data_df['Total Recovered']))\n",
    "print('Total Cases=', open_object_dtype(data_df['Total Cases']))\n",
    "print('Active Cases=', open_object_dtype(data_df['Active Cases']))\n",
    "print('Serious Critical=', open_object_dtype(data_df['Serious Critical']))\n",
    "print('Tot cases/1M pop=', open_object_dtype(data_df['Tot cases/1M pop']))\n",
    "print('Deaths/1M pop=', open_object_dtype(data_df['Deaths/1M pop']))\n",
    "print('Total tests=', open_object_dtype(data_df['Total tests']))\n",
    "print('Tests/ 1M pop=', open_object_dtype(data_df['Tests/ 1M pop']))\n",
    "print('region=', open_object_dtype(data_df['region']))\n",
    "print('population=', open_object_dtype(data_df['population']))\n",
    "print('1 Case every X ppl=', open_object_dtype(data_df['1 Case every X ppl']))\n",
    "print('1 death every X ppl=', open_object_dtype(data_df['1 death every X ppl']))"
   ]
  },
  {
   "cell_type": "markdown",
   "id": "f8d3dc9a",
   "metadata": {},
   "source": [
    "Nhận xét:\n",
    "- Các cột dạng số nhưng lại có thêm kiểu ``str`` do có giá trị nan, ta sẽ chuyển kiểu dữ liệu sang ``float64``\n",
    "- Các cột dạng định danh ta cần chuyển chúng sang kiểu sữ liệu ``str``"
   ]
  },
  {
   "cell_type": "markdown",
   "id": "d8550b06",
   "metadata": {},
   "source": [
    "## Tiền xử lý"
   ]
  },
  {
   "cell_type": "markdown",
   "id": "0b81515b",
   "metadata": {},
   "source": [
    "### Xác định kiểu dữ liệu của từng cột:"
   ]
  },
  {
   "cell_type": "markdown",
   "id": "838d264b",
   "metadata": {},
   "source": [
    "1. Với 2 cột dạng Categorical là ``Country`` và ``region`` ta sẽ chuyển kiểu dữ liệu của 2 cột này sang dạng `str`\n",
    "    "
   ]
  },
  {
   "cell_type": "code",
   "execution_count": 10,
   "id": "adf3b5c2",
   "metadata": {
    "ExecuteTime": {
     "end_time": "2022-04-19T13:29:34.550725Z",
     "start_time": "2022-04-19T13:29:34.290446Z"
    }
   },
   "outputs": [
    {
     "data": {
      "text/plain": [
       "Country                 object\n",
       "Total Cases             object\n",
       "Total Death             object\n",
       "Total Recovered         object\n",
       "Active Cases            object\n",
       "Serious Critical        object\n",
       "Tot cases/1M pop        object\n",
       "Deaths/1M pop           object\n",
       "Total tests             object\n",
       "Tests/ 1M pop           object\n",
       "region                  object\n",
       "population              object\n",
       "1 Case every X ppl      object\n",
       "1 death every X ppl     object\n",
       "1 Test every X ppl     float64\n",
       "dtype: object"
      ]
     },
     "execution_count": 10,
     "metadata": {},
     "output_type": "execute_result"
    }
   ],
   "source": [
    "# Fill cột Categorical\n",
    "data_df[\"region\"] = data_df[\"region\"].fillna(data_df[\"region\"].mode()[0])\n",
    "\n",
    "data_df['Country'] = data_df['Country'].astype('str')\n",
    "data_df['region'] = data_df['region'].astype('str')\n",
    "data_df.dtypes"
   ]
  },
  {
   "cell_type": "markdown",
   "id": "caf54314",
   "metadata": {},
   "source": [
    "2. Với các cột còn lại là dạng Numeric, ta sẽ chuyển chúng sang dạng ``float64``:"
   ]
  },
  {
   "cell_type": "markdown",
   "id": "2f00d36c",
   "metadata": {
    "ExecuteTime": {
     "end_time": "2022-04-15T02:22:21.586897Z",
     "start_time": "2022-04-15T02:22:21.554333Z"
    }
   },
   "source": [
    "Do các cột dạng Numberic này có số phần nghìn, phần trăm cách nhau bởi **dấu phẩy** nên pandas sẽ không nhận diện được kiểu dữ liệu số nên ta sẽ remove chúng. Ta cần lưu ý là với các dữ liệu là '' thì sẽ không thể thay đổi kiểu dữ liệu được nên ta sẽ replace chúng bằng giá trị NaN của numpy trước.\n"
   ]
  },
  {
   "cell_type": "code",
   "execution_count": 11,
   "id": "07f3e2b9",
   "metadata": {
    "ExecuteTime": {
     "end_time": "2022-04-19T13:29:34.737309Z",
     "start_time": "2022-04-19T13:29:34.552721Z"
    }
   },
   "outputs": [
    {
     "data": {
      "text/html": [
       "<div>\n",
       "<style scoped>\n",
       "    .dataframe tbody tr th:only-of-type {\n",
       "        vertical-align: middle;\n",
       "    }\n",
       "\n",
       "    .dataframe tbody tr th {\n",
       "        vertical-align: top;\n",
       "    }\n",
       "\n",
       "    .dataframe thead th {\n",
       "        text-align: right;\n",
       "    }\n",
       "</style>\n",
       "<table border=\"1\" class=\"dataframe\">\n",
       "  <thead>\n",
       "    <tr style=\"text-align: right;\">\n",
       "      <th></th>\n",
       "      <th>Country</th>\n",
       "      <th>Total Cases</th>\n",
       "      <th>Total Death</th>\n",
       "      <th>Total Recovered</th>\n",
       "      <th>Active Cases</th>\n",
       "      <th>Serious Critical</th>\n",
       "      <th>Tot cases/1M pop</th>\n",
       "      <th>Deaths/1M pop</th>\n",
       "      <th>Total tests</th>\n",
       "      <th>Tests/ 1M pop</th>\n",
       "      <th>region</th>\n",
       "      <th>population</th>\n",
       "      <th>1 Case every X ppl</th>\n",
       "      <th>1 death every X ppl</th>\n",
       "      <th>1 Test every X ppl</th>\n",
       "    </tr>\n",
       "  </thead>\n",
       "  <tbody>\n",
       "    <tr>\n",
       "      <th>0</th>\n",
       "      <td>USA</td>\n",
       "      <td>82192880.0</td>\n",
       "      <td>1014114.0</td>\n",
       "      <td>80052061.0</td>\n",
       "      <td>1126705.0</td>\n",
       "      <td>1559.0</td>\n",
       "      <td>245753.0</td>\n",
       "      <td>3032.0</td>\n",
       "      <td>993285213.0</td>\n",
       "      <td>2969875.0</td>\n",
       "      <td>North America</td>\n",
       "      <td>3.344535e+08</td>\n",
       "      <td>4.0</td>\n",
       "      <td>330.0</td>\n",
       "      <td>0.0</td>\n",
       "    </tr>\n",
       "    <tr>\n",
       "      <th>1</th>\n",
       "      <td>India</td>\n",
       "      <td>43039023.0</td>\n",
       "      <td>521767.0</td>\n",
       "      <td>42506228.0</td>\n",
       "      <td>11028.0</td>\n",
       "      <td>698.0</td>\n",
       "      <td>30652.0</td>\n",
       "      <td>372.0</td>\n",
       "      <td>794525202.0</td>\n",
       "      <td>565851.0</td>\n",
       "      <td>Asia</td>\n",
       "      <td>1.404125e+09</td>\n",
       "      <td>33.0</td>\n",
       "      <td>2691.0</td>\n",
       "      <td>2.0</td>\n",
       "    </tr>\n",
       "    <tr>\n",
       "      <th>2</th>\n",
       "      <td>France</td>\n",
       "      <td>27310055.0</td>\n",
       "      <td>143777.0</td>\n",
       "      <td>24492534.0</td>\n",
       "      <td>2673744.0</td>\n",
       "      <td>1541.0</td>\n",
       "      <td>416755.0</td>\n",
       "      <td>2194.0</td>\n",
       "      <td>260504402.0</td>\n",
       "      <td>3975327.0</td>\n",
       "      <td>Europe</td>\n",
       "      <td>6.553030e+07</td>\n",
       "      <td>2.0</td>\n",
       "      <td>456.0</td>\n",
       "      <td>0.0</td>\n",
       "    </tr>\n",
       "    <tr>\n",
       "      <th>3</th>\n",
       "      <td>UK</td>\n",
       "      <td>21715116.0</td>\n",
       "      <td>171045.0</td>\n",
       "      <td>19973929.0</td>\n",
       "      <td>1570142.0</td>\n",
       "      <td>385.0</td>\n",
       "      <td>316916.0</td>\n",
       "      <td>2496.0</td>\n",
       "      <td>511698520.0</td>\n",
       "      <td>7467868.0</td>\n",
       "      <td>Europe</td>\n",
       "      <td>6.852002e+07</td>\n",
       "      <td>3.0</td>\n",
       "      <td>401.0</td>\n",
       "      <td>0.0</td>\n",
       "    </tr>\n",
       "    <tr>\n",
       "      <th>4</th>\n",
       "      <td>S. Korea</td>\n",
       "      <td>15979061.0</td>\n",
       "      <td>20352.0</td>\n",
       "      <td>NaN</td>\n",
       "      <td>NaN</td>\n",
       "      <td>962.0</td>\n",
       "      <td>311194.0</td>\n",
       "      <td>396.0</td>\n",
       "      <td>15804065.0</td>\n",
       "      <td>307786.0</td>\n",
       "      <td>Asia</td>\n",
       "      <td>5.134763e+07</td>\n",
       "      <td>3.0</td>\n",
       "      <td>2523.0</td>\n",
       "      <td>3.0</td>\n",
       "    </tr>\n",
       "    <tr>\n",
       "      <th>...</th>\n",
       "      <td>...</td>\n",
       "      <td>...</td>\n",
       "      <td>...</td>\n",
       "      <td>...</td>\n",
       "      <td>...</td>\n",
       "      <td>...</td>\n",
       "      <td>...</td>\n",
       "      <td>...</td>\n",
       "      <td>...</td>\n",
       "      <td>...</td>\n",
       "      <td>...</td>\n",
       "      <td>...</td>\n",
       "      <td>...</td>\n",
       "      <td>...</td>\n",
       "      <td>...</td>\n",
       "    </tr>\n",
       "    <tr>\n",
       "      <th>337</th>\n",
       "      <td>Falkland Islands</td>\n",
       "      <td>128.0</td>\n",
       "      <td>NaN</td>\n",
       "      <td>NaN</td>\n",
       "      <td>NaN</td>\n",
       "      <td>NaN</td>\n",
       "      <td>34973.0</td>\n",
       "      <td>NaN</td>\n",
       "      <td>8632.0</td>\n",
       "      <td>2358470.0</td>\n",
       "      <td>South America</td>\n",
       "      <td>3.660000e+03</td>\n",
       "      <td>29.0</td>\n",
       "      <td>NaN</td>\n",
       "      <td>0.0</td>\n",
       "    </tr>\n",
       "    <tr>\n",
       "      <th>338</th>\n",
       "      <td>Vatican City</td>\n",
       "      <td>29.0</td>\n",
       "      <td>NaN</td>\n",
       "      <td>29.0</td>\n",
       "      <td>0.0</td>\n",
       "      <td>NaN</td>\n",
       "      <td>36025.0</td>\n",
       "      <td>NaN</td>\n",
       "      <td>NaN</td>\n",
       "      <td>NaN</td>\n",
       "      <td>Europe</td>\n",
       "      <td>8.050000e+02</td>\n",
       "      <td>28.0</td>\n",
       "      <td>NaN</td>\n",
       "      <td>NaN</td>\n",
       "    </tr>\n",
       "    <tr>\n",
       "      <th>339</th>\n",
       "      <td>MS Zaandam</td>\n",
       "      <td>9.0</td>\n",
       "      <td>2.0</td>\n",
       "      <td>7.0</td>\n",
       "      <td>0.0</td>\n",
       "      <td>NaN</td>\n",
       "      <td>NaN</td>\n",
       "      <td>NaN</td>\n",
       "      <td>NaN</td>\n",
       "      <td>NaN</td>\n",
       "      <td>Europe</td>\n",
       "      <td>NaN</td>\n",
       "      <td>NaN</td>\n",
       "      <td>NaN</td>\n",
       "      <td>NaN</td>\n",
       "    </tr>\n",
       "    <tr>\n",
       "      <th>340</th>\n",
       "      <td>Niue</td>\n",
       "      <td>7.0</td>\n",
       "      <td>NaN</td>\n",
       "      <td>7.0</td>\n",
       "      <td>0.0</td>\n",
       "      <td>NaN</td>\n",
       "      <td>4253.0</td>\n",
       "      <td>NaN</td>\n",
       "      <td>NaN</td>\n",
       "      <td>NaN</td>\n",
       "      <td>Australia/Oceania</td>\n",
       "      <td>1.646000e+03</td>\n",
       "      <td>235.0</td>\n",
       "      <td>NaN</td>\n",
       "      <td>NaN</td>\n",
       "    </tr>\n",
       "    <tr>\n",
       "      <th>341</th>\n",
       "      <td>Saint Helena</td>\n",
       "      <td>2.0</td>\n",
       "      <td>NaN</td>\n",
       "      <td>2.0</td>\n",
       "      <td>0.0</td>\n",
       "      <td>NaN</td>\n",
       "      <td>327.0</td>\n",
       "      <td>NaN</td>\n",
       "      <td>NaN</td>\n",
       "      <td>NaN</td>\n",
       "      <td>Africa</td>\n",
       "      <td>6.109000e+03</td>\n",
       "      <td>3055.0</td>\n",
       "      <td>NaN</td>\n",
       "      <td>NaN</td>\n",
       "    </tr>\n",
       "  </tbody>\n",
       "</table>\n",
       "<p>342 rows × 15 columns</p>\n",
       "</div>"
      ],
      "text/plain": [
       "              Country  Total Cases  Total Death  Total Recovered  \\\n",
       "0                 USA   82192880.0    1014114.0       80052061.0   \n",
       "1               India   43039023.0     521767.0       42506228.0   \n",
       "2              France   27310055.0     143777.0       24492534.0   \n",
       "3                  UK   21715116.0     171045.0       19973929.0   \n",
       "4            S. Korea   15979061.0      20352.0              NaN   \n",
       "..                ...          ...          ...              ...   \n",
       "337  Falkland Islands        128.0          NaN              NaN   \n",
       "338      Vatican City         29.0          NaN             29.0   \n",
       "339        MS Zaandam          9.0          2.0              7.0   \n",
       "340              Niue          7.0          NaN              7.0   \n",
       "341      Saint Helena          2.0          NaN              2.0   \n",
       "\n",
       "     Active Cases  Serious Critical  Tot cases/1M pop  Deaths/1M pop  \\\n",
       "0       1126705.0            1559.0          245753.0         3032.0   \n",
       "1         11028.0             698.0           30652.0          372.0   \n",
       "2       2673744.0            1541.0          416755.0         2194.0   \n",
       "3       1570142.0             385.0          316916.0         2496.0   \n",
       "4             NaN             962.0          311194.0          396.0   \n",
       "..            ...               ...               ...            ...   \n",
       "337           NaN               NaN           34973.0            NaN   \n",
       "338           0.0               NaN           36025.0            NaN   \n",
       "339           0.0               NaN               NaN            NaN   \n",
       "340           0.0               NaN            4253.0            NaN   \n",
       "341           0.0               NaN             327.0            NaN   \n",
       "\n",
       "     Total tests  Tests/ 1M pop             region    population  \\\n",
       "0    993285213.0      2969875.0      North America  3.344535e+08   \n",
       "1    794525202.0       565851.0               Asia  1.404125e+09   \n",
       "2    260504402.0      3975327.0             Europe  6.553030e+07   \n",
       "3    511698520.0      7467868.0             Europe  6.852002e+07   \n",
       "4     15804065.0       307786.0               Asia  5.134763e+07   \n",
       "..           ...            ...                ...           ...   \n",
       "337       8632.0      2358470.0      South America  3.660000e+03   \n",
       "338          NaN            NaN             Europe  8.050000e+02   \n",
       "339          NaN            NaN             Europe           NaN   \n",
       "340          NaN            NaN  Australia/Oceania  1.646000e+03   \n",
       "341          NaN            NaN             Africa  6.109000e+03   \n",
       "\n",
       "     1 Case every X ppl  1 death every X ppl  1 Test every X ppl  \n",
       "0                   4.0                330.0                 0.0  \n",
       "1                  33.0               2691.0                 2.0  \n",
       "2                   2.0                456.0                 0.0  \n",
       "3                   3.0                401.0                 0.0  \n",
       "4                   3.0               2523.0                 3.0  \n",
       "..                  ...                  ...                 ...  \n",
       "337                29.0                  NaN                 0.0  \n",
       "338                28.0                  NaN                 NaN  \n",
       "339                 NaN                  NaN                 NaN  \n",
       "340               235.0                  NaN                 NaN  \n",
       "341              3055.0                  NaN                 NaN  \n",
       "\n",
       "[342 rows x 15 columns]"
      ]
     },
     "execution_count": 11,
     "metadata": {},
     "output_type": "execute_result"
    }
   ],
   "source": [
    "data_df_cp = data_df.copy()\n",
    "data_df_cp = data_df_cp.replace(\" \", np.nan)\n",
    "\n",
    "def delete_comma(string):\n",
    "    if (isinstance(string, str) and ',' in string):\n",
    "        return string.replace(\",\", \"\")\n",
    "    else:\n",
    "        return string\n",
    "    \n",
    "data_df_cp[\"Total Cases\"] = data_df_cp[\"Total Cases\"].apply(delete_comma).astype(float)\n",
    "data_df_cp[\"Total Death\"] = data_df_cp[\"Total Death\"].apply(delete_comma).astype(float)\n",
    "data_df_cp[\"Total Recovered\"] = data_df_cp[\"Total Recovered\"].apply(delete_comma).astype(float)\n",
    "data_df_cp[\"Active Cases\"] = data_df_cp[\"Active Cases\"].apply(delete_comma).astype(float)\n",
    "data_df_cp[\"Serious Critical\"] = data_df_cp[\"Serious Critical\"].apply(delete_comma).astype(float)\n",
    "data_df_cp[\"Tot cases/1M pop\"] = data_df_cp[\"Tot cases/1M pop\"].apply(delete_comma).astype(float)\n",
    "data_df_cp[\"Deaths/1M pop\"] = data_df_cp[\"Deaths/1M pop\"].apply(delete_comma).astype(float)\n",
    "data_df_cp[\"Total tests\"] = data_df_cp[\"Total tests\"].apply(delete_comma).astype(float)\n",
    "data_df_cp[\"Tests/ 1M pop\"] = data_df_cp[\"Tests/ 1M pop\"].apply(delete_comma).astype(float)\n",
    "data_df_cp[\"population\"] = data_df_cp[\"population\"].apply(delete_comma).astype(float)\n",
    "data_df_cp[\"1 Case every X ppl\"] = data_df_cp[\"1 Case every X ppl\"].apply(delete_comma).astype(float)\n",
    "data_df_cp[\"1 death every X ppl\"] = data_df_cp[\"1 death every X ppl\"].apply(delete_comma).astype(float)\n",
    "\n",
    "data_df = data_df_cp\n",
    "data_df"
   ]
  },
  {
   "cell_type": "markdown",
   "id": "fc10a7fc",
   "metadata": {},
   "source": [
    "### Xử lý dữ liệu có chứa NaN:"
   ]
  },
  {
   "cell_type": "markdown",
   "id": "bf3be11d",
   "metadata": {
    "ExecuteTime": {
     "end_time": "2022-04-15T03:11:14.775007Z",
     "start_time": "2022-04-15T03:11:14.753067Z"
    }
   },
   "source": [
    "Như ở trên, \n",
    "- Cột dạng Categorical là ``region`` có 3  missing value, ta sẽ thay bằng **Trung vị (mode)**\n",
    "- Ta sẽ xử lý missing value ở các cột dạng Numeric (trừ cột ``Total Cases`` do không có missing value) bằng cách thay thế chúng bằng giá trị **trung bình (mean) của cột đó**."
   ]
  },
  {
   "cell_type": "code",
   "execution_count": 12,
   "id": "dbb75a67",
   "metadata": {
    "ExecuteTime": {
     "end_time": "2022-04-19T13:29:34.953197Z",
     "start_time": "2022-04-19T13:29:34.739306Z"
    }
   },
   "outputs": [
    {
     "data": {
      "text/plain": [
       "'\\n# Fill cột Numeric\\ndata_df_cp[\"Total Death\"] = data_df_cp[\"Total Death\"].fillna(data_df_cp[\"Total Death\"].mean())\\ndata_df_cp[\"Total Recovered\"] = data_df_cp[\"Total Recovered\"].fillna(data_df_cp[\"Total Recovered\"].mean())\\ndata_df_cp[\"Active Cases\"] = data_df_cp[\"Active Cases\"].fillna(data_df_cp[\"Active Cases\"].mean())\\ndata_df_cp[\"Serious Critical\"] = data_df_cp[\"Serious Critical\"].fillna(data_df_cp[\"Serious Critical\"].mean())\\ndata_df_cp[\"Tot cases/1M pop\"] = data_df_cp[\"Tot cases/1M pop\"].fillna(data_df_cp[\"Tot cases/1M pop\"].mean())\\ndata_df_cp[\"Deaths/1M pop\"] = data_df_cp[\"Deaths/1M pop\"].fillna(data_df_cp[\"Deaths/1M pop\"].mean())\\ndata_df_cp[\"Total tests\"] = data_df_cp[\"Total tests\"].fillna(data_df_cp[\"Total Death\"].mean())\\ndata_df_cp[\"Tests/ 1M pop\"] = data_df_cp[\"Tests/ 1M pop\"].fillna(data_df_cp[\"Tests/ 1M pop\"].mean())\\ndata_df_cp[\"population\"] = data_df_cp[\"population\"].fillna(data_df_cp[\"population\"].mean())\\ndata_df_cp[\"1 Case every X ppl\"] = data_df_cp[\"1 Case every X ppl\"].fillna(data_df_cp[\"1 Case every X ppl\"].mean())\\ndata_df_cp[\"1 death every X ppl\"] = data_df_cp[\"1 death every X ppl\"].fillna(data_df_cp[\"1 death every X ppl\"].mean())\\ndata_df_cp[\"1 Test every X ppl\"] = data_df_cp[\"1 Test every X ppl\"].fillna(data_df_cp[\"1 Test every X ppl\"].mean())\\n'"
      ]
     },
     "execution_count": 12,
     "metadata": {},
     "output_type": "execute_result"
    }
   ],
   "source": [
    "data_df_cp = data_df.copy()\n",
    "'''\n",
    "# Fill cột Numeric\n",
    "data_df_cp[\"Total Death\"] = data_df_cp[\"Total Death\"].fillna(data_df_cp[\"Total Death\"].mean())\n",
    "data_df_cp[\"Total Recovered\"] = data_df_cp[\"Total Recovered\"].fillna(data_df_cp[\"Total Recovered\"].mean())\n",
    "data_df_cp[\"Active Cases\"] = data_df_cp[\"Active Cases\"].fillna(data_df_cp[\"Active Cases\"].mean())\n",
    "data_df_cp[\"Serious Critical\"] = data_df_cp[\"Serious Critical\"].fillna(data_df_cp[\"Serious Critical\"].mean())\n",
    "data_df_cp[\"Tot cases/1M pop\"] = data_df_cp[\"Tot cases/1M pop\"].fillna(data_df_cp[\"Tot cases/1M pop\"].mean())\n",
    "data_df_cp[\"Deaths/1M pop\"] = data_df_cp[\"Deaths/1M pop\"].fillna(data_df_cp[\"Deaths/1M pop\"].mean())\n",
    "data_df_cp[\"Total tests\"] = data_df_cp[\"Total tests\"].fillna(data_df_cp[\"Total Death\"].mean())\n",
    "data_df_cp[\"Tests/ 1M pop\"] = data_df_cp[\"Tests/ 1M pop\"].fillna(data_df_cp[\"Tests/ 1M pop\"].mean())\n",
    "data_df_cp[\"population\"] = data_df_cp[\"population\"].fillna(data_df_cp[\"population\"].mean())\n",
    "data_df_cp[\"1 Case every X ppl\"] = data_df_cp[\"1 Case every X ppl\"].fillna(data_df_cp[\"1 Case every X ppl\"].mean())\n",
    "data_df_cp[\"1 death every X ppl\"] = data_df_cp[\"1 death every X ppl\"].fillna(data_df_cp[\"1 death every X ppl\"].mean())\n",
    "data_df_cp[\"1 Test every X ppl\"] = data_df_cp[\"1 Test every X ppl\"].fillna(data_df_cp[\"1 Test every X ppl\"].mean())\n",
    "'''"
   ]
  },
  {
   "cell_type": "markdown",
   "id": "7187f98a",
   "metadata": {},
   "source": [
    "Đến đây, ta bắt đầu xét Logic giá trị của cột, ta thấy các cột thường đếm số ca nên sẽ có kiểu dữ liệu int."
   ]
  },
  {
   "cell_type": "code",
   "execution_count": 13,
   "id": "adb188c7",
   "metadata": {
    "ExecuteTime": {
     "end_time": "2022-04-19T13:29:35.141693Z",
     "start_time": "2022-04-19T13:29:34.956191Z"
    }
   },
   "outputs": [
    {
     "data": {
      "text/html": [
       "<div>\n",
       "<style scoped>\n",
       "    .dataframe tbody tr th:only-of-type {\n",
       "        vertical-align: middle;\n",
       "    }\n",
       "\n",
       "    .dataframe tbody tr th {\n",
       "        vertical-align: top;\n",
       "    }\n",
       "\n",
       "    .dataframe thead th {\n",
       "        text-align: right;\n",
       "    }\n",
       "</style>\n",
       "<table border=\"1\" class=\"dataframe\">\n",
       "  <thead>\n",
       "    <tr style=\"text-align: right;\">\n",
       "      <th></th>\n",
       "      <th>Country</th>\n",
       "      <th>Total Cases</th>\n",
       "      <th>Total Death</th>\n",
       "      <th>Total Recovered</th>\n",
       "      <th>Active Cases</th>\n",
       "      <th>Serious Critical</th>\n",
       "      <th>Tot cases/1M pop</th>\n",
       "      <th>Deaths/1M pop</th>\n",
       "      <th>Total tests</th>\n",
       "      <th>Tests/ 1M pop</th>\n",
       "      <th>region</th>\n",
       "      <th>population</th>\n",
       "      <th>1 Case every X ppl</th>\n",
       "      <th>1 death every X ppl</th>\n",
       "      <th>1 Test every X ppl</th>\n",
       "    </tr>\n",
       "  </thead>\n",
       "  <tbody>\n",
       "    <tr>\n",
       "      <th>0</th>\n",
       "      <td>USA</td>\n",
       "      <td>82192880.0</td>\n",
       "      <td>1014114.0</td>\n",
       "      <td>80052061.0</td>\n",
       "      <td>1126705.0</td>\n",
       "      <td>1559.0</td>\n",
       "      <td>245753.0</td>\n",
       "      <td>3032.0</td>\n",
       "      <td>993285213.0</td>\n",
       "      <td>2969875.0</td>\n",
       "      <td>North America</td>\n",
       "      <td>3.344535e+08</td>\n",
       "      <td>4.0</td>\n",
       "      <td>330.0</td>\n",
       "      <td>0.0</td>\n",
       "    </tr>\n",
       "    <tr>\n",
       "      <th>1</th>\n",
       "      <td>India</td>\n",
       "      <td>43039023.0</td>\n",
       "      <td>521767.0</td>\n",
       "      <td>42506228.0</td>\n",
       "      <td>11028.0</td>\n",
       "      <td>698.0</td>\n",
       "      <td>30652.0</td>\n",
       "      <td>372.0</td>\n",
       "      <td>794525202.0</td>\n",
       "      <td>565851.0</td>\n",
       "      <td>Asia</td>\n",
       "      <td>1.404125e+09</td>\n",
       "      <td>33.0</td>\n",
       "      <td>2691.0</td>\n",
       "      <td>2.0</td>\n",
       "    </tr>\n",
       "    <tr>\n",
       "      <th>2</th>\n",
       "      <td>France</td>\n",
       "      <td>27310055.0</td>\n",
       "      <td>143777.0</td>\n",
       "      <td>24492534.0</td>\n",
       "      <td>2673744.0</td>\n",
       "      <td>1541.0</td>\n",
       "      <td>416755.0</td>\n",
       "      <td>2194.0</td>\n",
       "      <td>260504402.0</td>\n",
       "      <td>3975327.0</td>\n",
       "      <td>Europe</td>\n",
       "      <td>6.553030e+07</td>\n",
       "      <td>2.0</td>\n",
       "      <td>456.0</td>\n",
       "      <td>0.0</td>\n",
       "    </tr>\n",
       "    <tr>\n",
       "      <th>3</th>\n",
       "      <td>UK</td>\n",
       "      <td>21715116.0</td>\n",
       "      <td>171045.0</td>\n",
       "      <td>19973929.0</td>\n",
       "      <td>1570142.0</td>\n",
       "      <td>385.0</td>\n",
       "      <td>316916.0</td>\n",
       "      <td>2496.0</td>\n",
       "      <td>511698520.0</td>\n",
       "      <td>7467868.0</td>\n",
       "      <td>Europe</td>\n",
       "      <td>6.852002e+07</td>\n",
       "      <td>3.0</td>\n",
       "      <td>401.0</td>\n",
       "      <td>0.0</td>\n",
       "    </tr>\n",
       "    <tr>\n",
       "      <th>4</th>\n",
       "      <td>S. Korea</td>\n",
       "      <td>15979061.0</td>\n",
       "      <td>20352.0</td>\n",
       "      <td>NaN</td>\n",
       "      <td>NaN</td>\n",
       "      <td>962.0</td>\n",
       "      <td>311194.0</td>\n",
       "      <td>396.0</td>\n",
       "      <td>15804065.0</td>\n",
       "      <td>307786.0</td>\n",
       "      <td>Asia</td>\n",
       "      <td>5.134763e+07</td>\n",
       "      <td>3.0</td>\n",
       "      <td>2523.0</td>\n",
       "      <td>3.0</td>\n",
       "    </tr>\n",
       "    <tr>\n",
       "      <th>...</th>\n",
       "      <td>...</td>\n",
       "      <td>...</td>\n",
       "      <td>...</td>\n",
       "      <td>...</td>\n",
       "      <td>...</td>\n",
       "      <td>...</td>\n",
       "      <td>...</td>\n",
       "      <td>...</td>\n",
       "      <td>...</td>\n",
       "      <td>...</td>\n",
       "      <td>...</td>\n",
       "      <td>...</td>\n",
       "      <td>...</td>\n",
       "      <td>...</td>\n",
       "      <td>...</td>\n",
       "    </tr>\n",
       "    <tr>\n",
       "      <th>337</th>\n",
       "      <td>Falkland Islands</td>\n",
       "      <td>128.0</td>\n",
       "      <td>NaN</td>\n",
       "      <td>NaN</td>\n",
       "      <td>NaN</td>\n",
       "      <td>NaN</td>\n",
       "      <td>34973.0</td>\n",
       "      <td>NaN</td>\n",
       "      <td>8632.0</td>\n",
       "      <td>2358470.0</td>\n",
       "      <td>South America</td>\n",
       "      <td>3.660000e+03</td>\n",
       "      <td>29.0</td>\n",
       "      <td>NaN</td>\n",
       "      <td>0.0</td>\n",
       "    </tr>\n",
       "    <tr>\n",
       "      <th>338</th>\n",
       "      <td>Vatican City</td>\n",
       "      <td>29.0</td>\n",
       "      <td>NaN</td>\n",
       "      <td>29.0</td>\n",
       "      <td>0.0</td>\n",
       "      <td>NaN</td>\n",
       "      <td>36025.0</td>\n",
       "      <td>NaN</td>\n",
       "      <td>NaN</td>\n",
       "      <td>NaN</td>\n",
       "      <td>Europe</td>\n",
       "      <td>8.050000e+02</td>\n",
       "      <td>28.0</td>\n",
       "      <td>NaN</td>\n",
       "      <td>NaN</td>\n",
       "    </tr>\n",
       "    <tr>\n",
       "      <th>339</th>\n",
       "      <td>MS Zaandam</td>\n",
       "      <td>9.0</td>\n",
       "      <td>2.0</td>\n",
       "      <td>7.0</td>\n",
       "      <td>0.0</td>\n",
       "      <td>NaN</td>\n",
       "      <td>NaN</td>\n",
       "      <td>NaN</td>\n",
       "      <td>NaN</td>\n",
       "      <td>NaN</td>\n",
       "      <td>Europe</td>\n",
       "      <td>NaN</td>\n",
       "      <td>NaN</td>\n",
       "      <td>NaN</td>\n",
       "      <td>NaN</td>\n",
       "    </tr>\n",
       "    <tr>\n",
       "      <th>340</th>\n",
       "      <td>Niue</td>\n",
       "      <td>7.0</td>\n",
       "      <td>NaN</td>\n",
       "      <td>7.0</td>\n",
       "      <td>0.0</td>\n",
       "      <td>NaN</td>\n",
       "      <td>4253.0</td>\n",
       "      <td>NaN</td>\n",
       "      <td>NaN</td>\n",
       "      <td>NaN</td>\n",
       "      <td>Australia/Oceania</td>\n",
       "      <td>1.646000e+03</td>\n",
       "      <td>235.0</td>\n",
       "      <td>NaN</td>\n",
       "      <td>NaN</td>\n",
       "    </tr>\n",
       "    <tr>\n",
       "      <th>341</th>\n",
       "      <td>Saint Helena</td>\n",
       "      <td>2.0</td>\n",
       "      <td>NaN</td>\n",
       "      <td>2.0</td>\n",
       "      <td>0.0</td>\n",
       "      <td>NaN</td>\n",
       "      <td>327.0</td>\n",
       "      <td>NaN</td>\n",
       "      <td>NaN</td>\n",
       "      <td>NaN</td>\n",
       "      <td>Africa</td>\n",
       "      <td>6.109000e+03</td>\n",
       "      <td>3055.0</td>\n",
       "      <td>NaN</td>\n",
       "      <td>NaN</td>\n",
       "    </tr>\n",
       "  </tbody>\n",
       "</table>\n",
       "<p>342 rows × 15 columns</p>\n",
       "</div>"
      ],
      "text/plain": [
       "              Country  Total Cases  Total Death  Total Recovered  \\\n",
       "0                 USA   82192880.0    1014114.0       80052061.0   \n",
       "1               India   43039023.0     521767.0       42506228.0   \n",
       "2              France   27310055.0     143777.0       24492534.0   \n",
       "3                  UK   21715116.0     171045.0       19973929.0   \n",
       "4            S. Korea   15979061.0      20352.0              NaN   \n",
       "..                ...          ...          ...              ...   \n",
       "337  Falkland Islands        128.0          NaN              NaN   \n",
       "338      Vatican City         29.0          NaN             29.0   \n",
       "339        MS Zaandam          9.0          2.0              7.0   \n",
       "340              Niue          7.0          NaN              7.0   \n",
       "341      Saint Helena          2.0          NaN              2.0   \n",
       "\n",
       "     Active Cases  Serious Critical  Tot cases/1M pop  Deaths/1M pop  \\\n",
       "0       1126705.0            1559.0          245753.0         3032.0   \n",
       "1         11028.0             698.0           30652.0          372.0   \n",
       "2       2673744.0            1541.0          416755.0         2194.0   \n",
       "3       1570142.0             385.0          316916.0         2496.0   \n",
       "4             NaN             962.0          311194.0          396.0   \n",
       "..            ...               ...               ...            ...   \n",
       "337           NaN               NaN           34973.0            NaN   \n",
       "338           0.0               NaN           36025.0            NaN   \n",
       "339           0.0               NaN               NaN            NaN   \n",
       "340           0.0               NaN            4253.0            NaN   \n",
       "341           0.0               NaN             327.0            NaN   \n",
       "\n",
       "     Total tests  Tests/ 1M pop             region    population  \\\n",
       "0    993285213.0      2969875.0      North America  3.344535e+08   \n",
       "1    794525202.0       565851.0               Asia  1.404125e+09   \n",
       "2    260504402.0      3975327.0             Europe  6.553030e+07   \n",
       "3    511698520.0      7467868.0             Europe  6.852002e+07   \n",
       "4     15804065.0       307786.0               Asia  5.134763e+07   \n",
       "..           ...            ...                ...           ...   \n",
       "337       8632.0      2358470.0      South America  3.660000e+03   \n",
       "338          NaN            NaN             Europe  8.050000e+02   \n",
       "339          NaN            NaN             Europe           NaN   \n",
       "340          NaN            NaN  Australia/Oceania  1.646000e+03   \n",
       "341          NaN            NaN             Africa  6.109000e+03   \n",
       "\n",
       "     1 Case every X ppl  1 death every X ppl  1 Test every X ppl  \n",
       "0                   4.0                330.0                 0.0  \n",
       "1                  33.0               2691.0                 2.0  \n",
       "2                   2.0                456.0                 0.0  \n",
       "3                   3.0                401.0                 0.0  \n",
       "4                   3.0               2523.0                 3.0  \n",
       "..                  ...                  ...                 ...  \n",
       "337                29.0                  NaN                 0.0  \n",
       "338                28.0                  NaN                 NaN  \n",
       "339                 NaN                  NaN                 NaN  \n",
       "340               235.0                  NaN                 NaN  \n",
       "341              3055.0                  NaN                 NaN  \n",
       "\n",
       "[342 rows x 15 columns]"
      ]
     },
     "execution_count": 13,
     "metadata": {},
     "output_type": "execute_result"
    }
   ],
   "source": [
    "'''data_df_cp[\"Total Cases\"] = data_df_cp[\"Total Cases\"].astype(int)\n",
    "data_df_cp[\"Total Death\"] = data_df_cp[\"Total Death\"].astype(int)\n",
    "data_df_cp[\"Total Recovered\"] = data_df_cp[\"Total Recovered\"].astype(int)\n",
    "data_df_cp[\"Active Cases\"] = data_df_cp[\"Active Cases\"].astype(int)\n",
    "data_df_cp[\"Serious Critical\"] = data_df_cp[\"Serious Critical\"].astype(int)\n",
    "data_df_cp[\"Tot cases/1M pop\"] = data_df_cp[\"Tot cases/1M pop\"].astype(int)\n",
    "data_df_cp[\"Deaths/1M pop\"] = data_df_cp[\"Deaths/1M pop\"].astype(int)\n",
    "data_df_cp[\"Total tests\"] = data_df_cp[\"Total tests\"].astype(int)\n",
    "data_df_cp[\"Tests/ 1M pop\"] = data_df_cp[\"Tests/ 1M pop\"].astype(int)\n",
    "data_df_cp[\"population\"] = data_df_cp[\"population\"].astype(int)\n",
    "data_df_cp[\"1 Case every X ppl\"] = data_df_cp[\"1 Case every X ppl\"].astype(int)\n",
    "data_df_cp[\"1 death every X ppl\"] = data_df_cp[\"1 death every X ppl\"].astype(int)\n",
    "data_df_cp[\"1 Test every X ppl\"] = data_df_cp[\"1 Test every X ppl\"].astype(int)'''\n",
    "\n",
    "#data_df = data_df_cp\n",
    "data_df.to_csv(\"data_preprocessing.csv\", index = False)\n",
    "data_df"
   ]
  },
  {
   "cell_type": "markdown",
   "id": "3b5e99af",
   "metadata": {},
   "source": [
    "## Khai phá dữ liệu"
   ]
  },
  {
   "cell_type": "markdown",
   "id": "7338a6bb",
   "metadata": {},
   "source": [
    "Sau khi tiền xử lý, ta đã lưu những thay đổi vào file \"data_preprocessing.csv\", ta s4 đọc nó lên khám phá bộ dữ liệu này."
   ]
  },
  {
   "cell_type": "code",
   "execution_count": 14,
   "id": "7f169133",
   "metadata": {
    "ExecuteTime": {
     "end_time": "2022-04-19T13:29:35.295282Z",
     "start_time": "2022-04-19T13:29:35.164632Z"
    }
   },
   "outputs": [
    {
     "data": {
      "text/html": [
       "<div>\n",
       "<style scoped>\n",
       "    .dataframe tbody tr th:only-of-type {\n",
       "        vertical-align: middle;\n",
       "    }\n",
       "\n",
       "    .dataframe tbody tr th {\n",
       "        vertical-align: top;\n",
       "    }\n",
       "\n",
       "    .dataframe thead th {\n",
       "        text-align: right;\n",
       "    }\n",
       "</style>\n",
       "<table border=\"1\" class=\"dataframe\">\n",
       "  <thead>\n",
       "    <tr style=\"text-align: right;\">\n",
       "      <th></th>\n",
       "      <th>Country</th>\n",
       "      <th>Total Cases</th>\n",
       "      <th>Total Death</th>\n",
       "      <th>Total Recovered</th>\n",
       "      <th>Active Cases</th>\n",
       "      <th>Serious Critical</th>\n",
       "      <th>Tot cases/1M pop</th>\n",
       "      <th>Deaths/1M pop</th>\n",
       "      <th>Total tests</th>\n",
       "      <th>Tests/ 1M pop</th>\n",
       "      <th>region</th>\n",
       "      <th>population</th>\n",
       "      <th>1 Case every X ppl</th>\n",
       "      <th>1 death every X ppl</th>\n",
       "      <th>1 Test every X ppl</th>\n",
       "    </tr>\n",
       "  </thead>\n",
       "  <tbody>\n",
       "    <tr>\n",
       "      <th>0</th>\n",
       "      <td>USA</td>\n",
       "      <td>82192880.0</td>\n",
       "      <td>1014114.0</td>\n",
       "      <td>80052061.0</td>\n",
       "      <td>1126705.0</td>\n",
       "      <td>1559.0</td>\n",
       "      <td>245753.0</td>\n",
       "      <td>3032.0</td>\n",
       "      <td>993285213.0</td>\n",
       "      <td>2969875.0</td>\n",
       "      <td>North America</td>\n",
       "      <td>3.344535e+08</td>\n",
       "      <td>4.0</td>\n",
       "      <td>330.0</td>\n",
       "      <td>0.0</td>\n",
       "    </tr>\n",
       "    <tr>\n",
       "      <th>1</th>\n",
       "      <td>India</td>\n",
       "      <td>43039023.0</td>\n",
       "      <td>521767.0</td>\n",
       "      <td>42506228.0</td>\n",
       "      <td>11028.0</td>\n",
       "      <td>698.0</td>\n",
       "      <td>30652.0</td>\n",
       "      <td>372.0</td>\n",
       "      <td>794525202.0</td>\n",
       "      <td>565851.0</td>\n",
       "      <td>Asia</td>\n",
       "      <td>1.404125e+09</td>\n",
       "      <td>33.0</td>\n",
       "      <td>2691.0</td>\n",
       "      <td>2.0</td>\n",
       "    </tr>\n",
       "    <tr>\n",
       "      <th>2</th>\n",
       "      <td>France</td>\n",
       "      <td>27310055.0</td>\n",
       "      <td>143777.0</td>\n",
       "      <td>24492534.0</td>\n",
       "      <td>2673744.0</td>\n",
       "      <td>1541.0</td>\n",
       "      <td>416755.0</td>\n",
       "      <td>2194.0</td>\n",
       "      <td>260504402.0</td>\n",
       "      <td>3975327.0</td>\n",
       "      <td>Europe</td>\n",
       "      <td>6.553030e+07</td>\n",
       "      <td>2.0</td>\n",
       "      <td>456.0</td>\n",
       "      <td>0.0</td>\n",
       "    </tr>\n",
       "    <tr>\n",
       "      <th>3</th>\n",
       "      <td>UK</td>\n",
       "      <td>21715116.0</td>\n",
       "      <td>171045.0</td>\n",
       "      <td>19973929.0</td>\n",
       "      <td>1570142.0</td>\n",
       "      <td>385.0</td>\n",
       "      <td>316916.0</td>\n",
       "      <td>2496.0</td>\n",
       "      <td>511698520.0</td>\n",
       "      <td>7467868.0</td>\n",
       "      <td>Europe</td>\n",
       "      <td>6.852002e+07</td>\n",
       "      <td>3.0</td>\n",
       "      <td>401.0</td>\n",
       "      <td>0.0</td>\n",
       "    </tr>\n",
       "    <tr>\n",
       "      <th>4</th>\n",
       "      <td>S. Korea</td>\n",
       "      <td>15979061.0</td>\n",
       "      <td>20352.0</td>\n",
       "      <td>NaN</td>\n",
       "      <td>NaN</td>\n",
       "      <td>962.0</td>\n",
       "      <td>311194.0</td>\n",
       "      <td>396.0</td>\n",
       "      <td>15804065.0</td>\n",
       "      <td>307786.0</td>\n",
       "      <td>Asia</td>\n",
       "      <td>5.134763e+07</td>\n",
       "      <td>3.0</td>\n",
       "      <td>2523.0</td>\n",
       "      <td>3.0</td>\n",
       "    </tr>\n",
       "    <tr>\n",
       "      <th>5</th>\n",
       "      <td>Turkey</td>\n",
       "      <td>14978031.0</td>\n",
       "      <td>98493.0</td>\n",
       "      <td>14688473.0</td>\n",
       "      <td>191065.0</td>\n",
       "      <td>975.0</td>\n",
       "      <td>174260.0</td>\n",
       "      <td>1146.0</td>\n",
       "      <td>156514251.0</td>\n",
       "      <td>1820940.0</td>\n",
       "      <td>Asia</td>\n",
       "      <td>8.595243e+07</td>\n",
       "      <td>6.0</td>\n",
       "      <td>873.0</td>\n",
       "      <td>1.0</td>\n",
       "    </tr>\n",
       "  </tbody>\n",
       "</table>\n",
       "</div>"
      ],
      "text/plain": [
       "    Country  Total Cases  Total Death  Total Recovered  Active Cases  \\\n",
       "0       USA   82192880.0    1014114.0       80052061.0     1126705.0   \n",
       "1     India   43039023.0     521767.0       42506228.0       11028.0   \n",
       "2    France   27310055.0     143777.0       24492534.0     2673744.0   \n",
       "3        UK   21715116.0     171045.0       19973929.0     1570142.0   \n",
       "4  S. Korea   15979061.0      20352.0              NaN           NaN   \n",
       "5    Turkey   14978031.0      98493.0       14688473.0      191065.0   \n",
       "\n",
       "   Serious Critical  Tot cases/1M pop  Deaths/1M pop  Total tests  \\\n",
       "0            1559.0          245753.0         3032.0  993285213.0   \n",
       "1             698.0           30652.0          372.0  794525202.0   \n",
       "2            1541.0          416755.0         2194.0  260504402.0   \n",
       "3             385.0          316916.0         2496.0  511698520.0   \n",
       "4             962.0          311194.0          396.0   15804065.0   \n",
       "5             975.0          174260.0         1146.0  156514251.0   \n",
       "\n",
       "   Tests/ 1M pop         region    population  1 Case every X ppl  \\\n",
       "0      2969875.0  North America  3.344535e+08                 4.0   \n",
       "1       565851.0           Asia  1.404125e+09                33.0   \n",
       "2      3975327.0         Europe  6.553030e+07                 2.0   \n",
       "3      7467868.0         Europe  6.852002e+07                 3.0   \n",
       "4       307786.0           Asia  5.134763e+07                 3.0   \n",
       "5      1820940.0           Asia  8.595243e+07                 6.0   \n",
       "\n",
       "   1 death every X ppl  1 Test every X ppl  \n",
       "0                330.0                 0.0  \n",
       "1               2691.0                 2.0  \n",
       "2                456.0                 0.0  \n",
       "3                401.0                 0.0  \n",
       "4               2523.0                 3.0  \n",
       "5                873.0                 1.0  "
      ]
     },
     "execution_count": 14,
     "metadata": {},
     "output_type": "execute_result"
    }
   ],
   "source": [
    "data_df = pd.read_csv(\"data_preprocessing.csv\")\n",
    "data_df.head(6)"
   ]
  },
  {
   "cell_type": "markdown",
   "id": "b6953187",
   "metadata": {},
   "source": [
    "Như đã mô tả chi tiết ở trên, dữ liệu ta đang thu thập về **Covid - 19 ở nhiều quốc gia** về số ca nhiễm bệnh, số ca tử vong,... Ta sẽ đặt câu hỏi cần trả lời để làm rõ dữ liệu này."
   ]
  },
  {
   "cell_type": "markdown",
   "id": "a0954de8",
   "metadata": {},
   "source": [
    "### Quốc gia (Country) nào có số ca nhiễm nằm trong top 15?"
   ]
  },
  {
   "cell_type": "markdown",
   "id": "b8bddca6",
   "metadata": {
    "ExecuteTime": {
     "end_time": "2022-04-19T03:00:22.524847Z",
     "start_time": "2022-04-19T03:00:22.498840Z"
    }
   },
   "source": [
    "Do trong bộ dữ liệu này có những dòng 1 nước xuất hiện 2, 3 lần, đó là do sau 12h dữ liệu sẽ được cập nhật. Ta sẽ lấy dữ liệu được cập nhật cuối cùng trong ngày bằng cách sort giá trị của chúng tăng dần rồi lấy giá trị đầu tiên của top 15 nước có số ca nhiễm nhiều nhất."
   ]
  },
  {
   "cell_type": "code",
   "execution_count": 15,
   "id": "14a683ba",
   "metadata": {
    "ExecuteTime": {
     "end_time": "2022-04-19T13:29:35.735106Z",
     "start_time": "2022-04-19T13:29:35.297277Z"
    }
   },
   "outputs": [
    {
     "data": {
      "image/png": "[encoded data removed]",
      "text/plain": [
       "<Figure size 1080x360 with 1 Axes>"
      ]
     },
     "metadata": {
      "needs_background": "light"
     },
     "output_type": "display_data"
    }
   ],
   "source": [
    "top_cases = data_df[['Country', 'Total Cases']].drop_duplicates(keep = 'first').reset_index(drop = True)\n",
    "top_cases = top_cases.sort_values(by= 'Total Cases', ascending = False)\n",
    "top_cases.drop_duplicates(subset = 'Country', keep = 'first', inplace = True)\n",
    "top_15_cases = top_cases[:15]\n",
    "\n",
    "plt.figure(figsize =(15, 5))\n",
    "plt.bar(top_15_cases['Country'], top_15_cases['Total Cases'], color = 'y')\n",
    "plt.title('Top 15 Countries have the most Cases')\n",
    "plt.show()"
   ]
  },
  {
   "cell_type": "markdown",
   "id": "53dda354",
   "metadata": {
    "ExecuteTime": {
     "end_time": "2022-04-19T03:18:24.782618Z",
     "start_time": "2022-04-19T03:18:24.761674Z"
    }
   },
   "source": [
    "Nhận xét: Ta thấy rằng ở nước USA (Mỹ) và India (Ấn Độ) có số ca nhiễm rất \"khủng\". Không biết nguyên nhân là do đâu nhỉ? Ta thử xem xét dân số của 15 nước này để phân tích thêm."
   ]
  },
  {
   "cell_type": "markdown",
   "id": "b55c83a1",
   "metadata": {
    "ExecuteTime": {
     "end_time": "2022-04-19T03:08:55.886620Z",
     "start_time": "2022-04-19T03:08:55.861620Z"
    }
   },
   "source": [
    "### Quốc gia (Country) có số ca nhiễm nằm trong top 15 có dân số như thế nào?"
   ]
  },
  {
   "cell_type": "markdown",
   "id": "cc6e30da",
   "metadata": {},
   "source": [
    "Đầu tiên, ta sẽ tìm tên top 15 quốc gia này. Sau đó tìm đến dân số của các nước ấy và trựa quan hoá lên."
   ]
  },
  {
   "cell_type": "code",
   "execution_count": 16,
   "id": "9e20ed40",
   "metadata": {
    "ExecuteTime": {
     "end_time": "2022-04-19T13:29:36.017355Z",
     "start_time": "2022-04-19T13:29:35.737102Z"
    }
   },
   "outputs": [
    {
     "data": {
      "image/png": "[encoded data removed]",
      "text/plain": [
       "<Figure size 1080x360 with 1 Axes>"
      ]
     },
     "metadata": {
      "needs_background": "light"
     },
     "output_type": "display_data"
    }
   ],
   "source": [
    "top_name = top_15_cases[\"Country\"]\n",
    "\n",
    "df_top_name = data_df[data_df['Country'].isin(top_name)]\n",
    "\n",
    "df_population = df_top_name[['Country', 'population']].sort_values(by = 'population', ascending = False)\n",
    "df_population.drop_duplicates(subset = 'Country')\n",
    "\n",
    "plt.figure(figsize =(15, 5))\n",
    "plt.bar(df_population[\"Country\"], df_population[\"population\"], color = 'gray')\n",
    "plt.show()"
   ]
  },
  {
   "cell_type": "markdown",
   "id": "ffeaaaf2",
   "metadata": {},
   "source": [
    "Nhận xét:\n",
    "- Ở các nước có số ca nhiễm thấp có dân số nhiều hơn số ca nhiễm thực.\n",
    "- Có một sự khác biệt giữa số ca nhiễm và dân số giữa 2 nước đông dân là **India** và **USA**:\n",
    "    + **India** đông dân hơn **USA**.\n",
    "    + **USA** có số ca nhiễm nhiều hơn rất nhiều so với số ca nhiễm của **India**.\n",
    "- => Cho thấy công tác phòng chống dịch của **India** có hiệu quả hơn so với **USA**, ở các nước còn lại thì khá bình thường, công tác phòng dịch có hiệu quả"
   ]
  },
  {
   "cell_type": "markdown",
   "id": "cf523ff6",
   "metadata": {},
   "source": [
    "### Các quốc gia có tỉ lệ tử vong cao hay thấp với với tỉ lệ khỏi bệnh như thế nào?"
   ]
  },
  {
   "cell_type": "markdown",
   "id": "fb8dd791",
   "metadata": {},
   "source": [
    "Để đánh giá chất lượng y tế cũng như công tác phòng dịch bệnh của chính phủ và địa phương, ta sẽ quan tâm đến tỉ lệ tử vong có cao hay không ở các nước."
   ]
  },
  {
   "cell_type": "markdown",
   "id": "6095342e",
   "metadata": {},
   "source": [
    "> Do dữ liệu có rất nhiều nước, nên ta sẽ chỉ lấy 15 quốc gia có tỉ lệ tử vong và tỉ lệ hồi phục cao nhất trên số Cases."
   ]
  },
  {
   "cell_type": "code",
   "execution_count": 17,
   "id": "45778e46",
   "metadata": {
    "ExecuteTime": {
     "end_time": "2022-04-19T13:29:36.267798Z",
     "start_time": "2022-04-19T13:29:36.019349Z"
    }
   },
   "outputs": [
    {
     "data": {
      "image/png": "[encoded data removed]",
      "text/plain": [
       "<Figure size 1080x360 with 1 Axes>"
      ]
     },
     "metadata": {
      "needs_background": "light"
     },
     "output_type": "display_data"
    }
   ],
   "source": [
    "data_cases_death = data_df[['Country', 'Total Cases', 'Total Death', 'Total Recovered']].drop_duplicates(keep = 'first').reset_index(drop = True)\n",
    "data_cases_death[\"Percent death\"] = (data_cases_death['Total Death'] / data_cases_death['Total Cases']) * 100\n",
    "data_cases_death[\"Percent recovered\"] = (data_cases_death['Total Recovered'] / data_cases_death['Total Cases']) * 100\n",
    "percent_death = data_cases_death[data_cases_death['Percent death'] <= 100][['Country', 'Percent death', 'Percent recovered']]\n",
    "\n",
    "# Lấy ra top 15 tỉ lệ ca tử vong\n",
    "top_15_percent_death = percent_death[:15]\n",
    "\n",
    "#Visualize\n",
    "plt.figure(figsize =(15, 5))\n",
    "\n",
    "plt.bar(top_15_percent_death['Country'], top_15_percent_death['Percent recovered'], color = 'g', label = 'Percent Recovered')\n",
    "plt.bar(top_15_percent_death['Country'], top_15_percent_death['Percent death'], color = 'r', label = 'Percent death')\n",
    "\n",
    "plt.legend([\"Percent Recovered\", \"Percent death\"])\n",
    "plt.title('Top 15 Country have most percent Death cases')\n",
    "plt.show()"
   ]
  },
  {
   "cell_type": "markdown",
   "id": "9bbcc483",
   "metadata": {
    "ExecuteTime": {
     "end_time": "2022-04-19T05:22:16.961205Z",
     "start_time": "2022-04-19T05:22:16.935274Z"
    }
   },
   "source": [
    "Nhận xét:\n",
    "- Kết quả Visualize thật bất ngờ, mặc dù dân số đông, số ca nhiễm nhiều nhưng tỉ lệ tử vong của **USA** và **India** rất là thấp, cùng với đó là những nước y tế tiên tiến hàng đầu như **UK**, **Spain**,...\n",
    "- 2 nước có tỉ lệ tử vong cao nhất nhì là **Indonesia** và **Mexico** phản ánh trình độ y tế cũng như công tác chống dịch bệnh. Điều này hợp lý do tỉ lệ đói nghèo ở 2 nước này tăng rất nhiều trong nhưng năm qua lên đến 44% (số liệu năm 2021), y tế còn lạc hậu, ý thức người dân thấp nên bị ảnh hưởng rất nặng nề bởi dịch bệnh Covid - 19.\n",
    "- Mặc dù vậy, tỉ lệ hồi phục ở các nước rất cao và khá là đồng đều, ngoại trừ **Korea** và **Ukraine** có số ca nhiễm ít nhưng không có số liệu về số ca hồi phục."
   ]
  },
  {
   "cell_type": "markdown",
   "id": "e48edbef",
   "metadata": {},
   "source": [
    "### Tổng số ca nhiễm ở các Châu lục có phân bố đều không?"
   ]
  },
  {
   "cell_type": "markdown",
   "id": "e0d0fe1d",
   "metadata": {},
   "source": [
    "Ta cần xem xét xem ở các Châu lục có số ca nhiễm như thế nào để ta có thể khoanh vùng lại và lý giải cho việc lây nhiễm mạnh mẽ và có những nơi lây nhiễm rất chậm.\n"
   ]
  },
  {
   "cell_type": "code",
   "execution_count": 18,
   "id": "712dc189",
   "metadata": {
    "ExecuteTime": {
     "end_time": "2022-04-19T13:29:36.394045Z",
     "start_time": "2022-04-19T13:29:36.269796Z"
    }
   },
   "outputs": [
    {
     "data": {
      "image/png": "[encoded data removed]",
      "text/plain": [
       "<Figure size 1080x360 with 1 Axes>"
      ]
     },
     "metadata": {
      "needs_background": "light"
     },
     "output_type": "display_data"
    }
   ],
   "source": [
    "data_drop = data_df[['Country', 'Total Cases', 'region']].drop_duplicates(keep = 'first').reset_index(drop = True)\n",
    "region_cases = data_drop.groupby('region')[\"Total Cases\"].sum()\n",
    "\n",
    "# Visualize\n",
    "plt.figure(figsize =(15, 5))\n",
    "plt.barh(list(region_cases.keys()), region_cases, color = 'c')\n",
    "plt.show()"
   ]
  },
  {
   "cell_type": "markdown",
   "id": "be090e7e",
   "metadata": {},
   "source": [
    "Nhận xét:\n",
    "- Tổng số ca nhiễm ở Châu Á (Asia) là cao nhất. Đây là số liệu hợp lý vì vào Vũ Hán vào tháng 11 năm 2019 đã xảy ra ca bệnh đầu tiên ở Trung Quốc (China) sau đó lây lan vào các nước Châu Á kề bên.\n",
    "- Cùng với đó là khu vực Châu Âu (Europe) và Bắc Mỹ (North Ameria) có số ca nhiễm cũng khá cao do các nước nào có sự phát triển mạnh qua giao thương hàng hải, xuất nhập khẩu cũng như là điểm đến giao thương, du lịch được yêu thích và nổi tiếng nhất nên lây lan rất nhanh.\n",
    "- Ở các Châu Lục còn lại là Châu Úc (Australia), Châu Phi (Africa) và Nam Mỹ (South America) ở quá xa vùng nhiễm mạnh như ở hòn đảo riêng biệt và Châu lục hoang mạc nắng nóng nên ít ca nhiễm hơn so với các Châu lục trên."
   ]
  },
  {
   "cell_type": "markdown",
   "id": "72ff9e0c",
   "metadata": {},
   "source": [
    "### Tỉ lệ phát hiện nhiễm Covid - 19 bằng kit Test có cao không? "
   ]
  },
  {
   "cell_type": "markdown",
   "id": "fcf6bbec",
   "metadata": {},
   "source": [
    "Ta cần biết thông tin này là để tìm hiểu độ hiệu quả của kit Test phát hiện ca dương tính kịp thời hay người dân đợi bệnh chuyển biến nặng rồi mới đi bệnh viện thay vì Test?"
   ]
  },
  {
   "cell_type": "markdown",
   "id": "a262ccd3",
   "metadata": {},
   "source": [
    "Ta sẽ lấy top 15 phần trăm phát hiện ca nhiễm dựa trên kit Test cao nhất"
   ]
  },
  {
   "cell_type": "code",
   "execution_count": 20,
   "id": "bd24cc6c",
   "metadata": {
    "ExecuteTime": {
     "end_time": "2022-04-19T13:33:23.436428Z",
     "start_time": "2022-04-19T13:33:23.172986Z"
    }
   },
   "outputs": [
    {
     "name": "stderr",
     "output_type": "stream",
     "text": [
      "C:\\Users\\dell\\AppData\\Local\\Temp/ipykernel_16372/1364259918.py:2: SettingWithCopyWarning: \n",
      "A value is trying to be set on a copy of a slice from a DataFrame.\n",
      "Try using .loc[row_indexer,col_indexer] = value instead\n",
      "\n",
      "See the caveats in the documentation: https://pandas.pydata.org/pandas-docs/stable/user_guide/indexing.html#returning-a-view-versus-a-copy\n",
      "  test_df['Test/Case'] = (test_df['Total Cases'] / test_df['Total tests']) * 100\n"
     ]
    },
    {
     "data": {
      "image/png": "[encoded data removed]",
      "text/plain": [
       "<Figure size 1800x360 with 1 Axes>"
      ]
     },
     "metadata": {
      "needs_background": "light"
     },
     "output_type": "display_data"
    }
   ],
   "source": [
    "test_df = data_df[['Country', 'Total Cases', 'Total tests']]\n",
    "test_df['Test/Case'] = (test_df['Total Cases'] / test_df['Total tests']) * 100\n",
    "test_df = test_df.drop_duplicates(['Country'], keep = 'first')\n",
    "test_df = test_df.sort_values(by = 'Test/Case', ascending = False)\n",
    "test_df = test_df[:15]\n",
    "\n",
    "#Visualize\n",
    "plt.figure(figsize =(25, 5))\n",
    "plt.bar(test_df['Country'], test_df['Test/Case'], color = 'c')\n",
    "plt.show()"
   ]
  },
  {
   "cell_type": "markdown",
   "id": "4aa259bd",
   "metadata": {},
   "source": [
    "Nhận xét:\n",
    "- Ở biểu đồ trên cho thấy có một số nước có tỉ lệ cao hơn 100%, có lẽ là do các nước không được cung cấp đủ kit test hoặc có những kit test không chất lượng.\n",
    "- Các nước còn lại bới phần trăm dưới 100 đều là những nước khá nhỏ, có dân số không quá cao nên tỉ lệ khoanh vùng hiệu quả dẫn đến kit test hoạt động khá tốt."
   ]
  },
  {
   "cell_type": "code",
   "execution_count": null,
   "id": "e4ba5a95",
   "metadata": {},
   "outputs": [],
   "source": []
  }
 ],
 "metadata": {
  "kernelspec": {
   "display_name": "Python 3 (ipykernel)",
   "language": "python",
   "name": "python3"
  },
  "language_info": {
   "codemirror_mode": {
    "name": "ipython",
    "version": 3
   },
   "file_extension": ".py",
   "mimetype": "text/x-python",
   "name": "python",
   "nbconvert_exporter": "python",
   "pygments_lexer": "ipython3",
   "version": "3.8.8"
  }
 },
 "nbformat": 4,
 "nbformat_minor": 5
}
